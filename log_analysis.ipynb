{
 "cells": [
  {
   "cell_type": "code",
   "execution_count": 1,
   "metadata": {
    "ExecuteTime": {
     "end_time": "2024-01-17T05:03:38.348126900Z",
     "start_time": "2024-01-17T05:03:33.117077700Z"
    }
   },
   "outputs": [],
   "source": [
    "import numpy as np\n",
    "import pandas as pd\n",
    "import redis"
   ]
  },
  {
   "cell_type": "code",
   "execution_count": 2,
   "metadata": {
    "ExecuteTime": {
     "end_time": "2024-01-17T05:03:38.356126700Z",
     "start_time": "2024-01-17T05:03:38.348126900Z"
    },
    "collapsed": false,
    "jupyter": {
     "outputs_hidden": false
    }
   },
   "outputs": [],
   "source": [
    "# # Connect to Redis Client\n",
    "# hostname = 'redis-10979.c325.us-east-1-4.ec2.cloud.redislabs.com'\n",
    "# portnumber = 10979\n",
    "# password = 'GWVgMSfgj1LpLCevrcAXKaZiYiFwNsls'\n",
    "\n",
    "# r = redis.StrictRedis(host=hostname,\n",
    "#                       port=portnumber,\n",
    "#                       password=password)\n",
    "\n",
    "r=redis.StrictRedis(host='redis-17717.c264.ap-south-1-1.ec2.redns.redis-cloud.com',\n",
    "                    port=17717,\n",
    "                    password='aVM34EdTiZHjNCqsGlQrtj0wDI0ea7ll')"
   ]
  },
  {
   "cell_type": "code",
   "execution_count": 3,
   "metadata": {
    "ExecuteTime": {
     "end_time": "2024-01-17T05:03:39.699821Z",
     "start_time": "2024-01-17T05:03:38.356126700Z"
    },
    "collapsed": false,
    "jupyter": {
     "outputs_hidden": false
    }
   },
   "outputs": [
    {
     "data": {
      "text/plain": [
       "True"
      ]
     },
     "execution_count": 3,
     "metadata": {},
     "output_type": "execute_result"
    }
   ],
   "source": [
    "r.ping()"
   ]
  },
  {
   "cell_type": "code",
   "execution_count": 4,
   "metadata": {
    "ExecuteTime": {
     "end_time": "2024-01-17T05:05:11.928504800Z",
     "start_time": "2024-01-17T05:05:11.003616100Z"
    },
    "collapsed": false,
    "jupyter": {
     "outputs_hidden": false
    }
   },
   "outputs": [],
   "source": [
    "name = 'attendance:logs'\n",
    "\n",
    "\n",
    "logs = r.lrange(name, start=0, end=-1)\n"
   ]
  },
  {
   "cell_type": "code",
   "execution_count": 5,
   "metadata": {
    "ExecuteTime": {
     "end_time": "2024-01-14T08:37:21.233766700Z",
     "start_time": "2024-01-14T08:37:21.228365100Z"
    },
    "collapsed": false,
    "jupyter": {
     "outputs_hidden": false
    }
   },
   "outputs": [],
   "source": [
    "df = pd.DataFrame(list(map(lambda x:x.decode('utf-8').split('@'),logs)),\n",
    "                  columns=['Name','Role','Timestamp'])"
   ]
  },
  {
   "cell_type": "code",
   "execution_count": 6,
   "metadata": {
    "ExecuteTime": {
     "end_time": "2024-01-14T08:37:21.853180300Z",
     "start_time": "2024-01-14T08:37:21.775681900Z"
    },
    "collapsed": false,
    "jupyter": {
     "outputs_hidden": false
    }
   },
   "outputs": [
    {
     "data": {
      "text/html": [
       "<div>\n",
       "<style scoped>\n",
       "    .dataframe tbody tr th:only-of-type {\n",
       "        vertical-align: middle;\n",
       "    }\n",
       "\n",
       "    .dataframe tbody tr th {\n",
       "        vertical-align: top;\n",
       "    }\n",
       "\n",
       "    .dataframe thead th {\n",
       "        text-align: right;\n",
       "    }\n",
       "</style>\n",
       "<table border=\"1\" class=\"dataframe\">\n",
       "  <thead>\n",
       "    <tr style=\"text-align: right;\">\n",
       "      <th></th>\n",
       "      <th>Name</th>\n",
       "      <th>Role</th>\n",
       "      <th>Timestamp</th>\n",
       "    </tr>\n",
       "  </thead>\n",
       "  <tbody>\n",
       "    <tr>\n",
       "      <th>0</th>\n",
       "      <td>Morgan Freeman</td>\n",
       "      <td>Teacher</td>\n",
       "      <td>2024-01-15 16:26:35</td>\n",
       "    </tr>\n",
       "    <tr>\n",
       "      <th>1</th>\n",
       "      <td>Morgan Freeman</td>\n",
       "      <td>Teacher</td>\n",
       "      <td>2024-01-15 07:21:47</td>\n",
       "    </tr>\n",
       "    <tr>\n",
       "      <th>2</th>\n",
       "      <td>Morgan Freeman</td>\n",
       "      <td>Teacher</td>\n",
       "      <td>2024-01-15 16:32:33</td>\n",
       "    </tr>\n",
       "    <tr>\n",
       "      <th>3</th>\n",
       "      <td>Morgan Freeman</td>\n",
       "      <td>Teacher</td>\n",
       "      <td>2024-01-15 07:21:29</td>\n",
       "    </tr>\n",
       "    <tr>\n",
       "      <th>4</th>\n",
       "      <td>Morgan Freeman</td>\n",
       "      <td>Teacher</td>\n",
       "      <td>2024-01-15 16:37:48</td>\n",
       "    </tr>\n",
       "  </tbody>\n",
       "</table>\n",
       "</div>"
      ],
      "text/plain": [
       "             Name     Role            Timestamp\n",
       "0  Morgan Freeman  Teacher  2024-01-15 16:26:35\n",
       "1  Morgan Freeman  Teacher  2024-01-15 07:21:47\n",
       "2  Morgan Freeman  Teacher  2024-01-15 16:32:33\n",
       "3  Morgan Freeman  Teacher  2024-01-15 07:21:29\n",
       "4  Morgan Freeman  Teacher  2024-01-15 16:37:48"
      ]
     },
     "execution_count": 6,
     "metadata": {},
     "output_type": "execute_result"
    }
   ],
   "source": [
    "df.head()"
   ]
  },
  {
   "cell_type": "code",
   "execution_count": 8,
   "metadata": {},
   "outputs": [
    {
     "data": {
      "text/plain": [
       "0              2024-01-15 16:26:35\n",
       "1              2024-01-15 07:21:47\n",
       "2              2024-01-15 16:32:33\n",
       "3              2024-01-15 07:21:29\n",
       "4              2024-01-15 16:37:48\n",
       "                   ...            \n",
       "2938    2024-04-30 17:24:55.684738\n",
       "2939    2024-04-30 17:22:43.363257\n",
       "2940    2024-04-30 17:22:41.637592\n",
       "2941    2024-04-30 17:22:19.432149\n",
       "2942    2024-04-30 17:22:11.816840\n",
       "Name: Timestamp, Length: 2943, dtype: object"
      ]
     },
     "execution_count": 8,
     "metadata": {},
     "output_type": "execute_result"
    }
   ],
   "source": [
    "import `bbb"
   ]
  },
  {
   "cell_type": "code",
   "execution_count": 9,
   "metadata": {},
   "outputs": [
    {
     "data": {
      "text/plain": [
       "Name                               Devi\n",
       "Role                            Student\n",
       "Timestamp    2024-04-30 17:26:25.462781\n",
       "Name: 2932, dtype: object"
      ]
     },
     "execution_count": 9,
     "metadata": {},
     "output_type": "execute_result"
    }
   ],
   "source": [
    "df.loc[2932]"
   ]
  },
  {
   "cell_type": "code",
   "execution_count": 11,
   "metadata": {
    "ExecuteTime": {
     "end_time": "2024-01-14T08:37:23.323012800Z",
     "start_time": "2024-01-14T08:37:23.298422800Z"
    },
    "collapsed": false,
    "jupyter": {
     "outputs_hidden": false
    }
   },
   "outputs": [],
   "source": [
    "\n",
    "df['Timestamp'] = pd.to_datetime(df['Timestamp'],format='ISO8601')"
   ]
  },
  {
   "cell_type": "code",
   "execution_count": 12,
   "metadata": {
    "ExecuteTime": {
     "end_time": "2024-01-14T08:37:24.061171400Z",
     "start_time": "2024-01-14T08:37:24.051588300Z"
    },
    "collapsed": false,
    "jupyter": {
     "outputs_hidden": false
    }
   },
   "outputs": [
    {
     "data": {
      "text/html": [
       "<div>\n",
       "<style scoped>\n",
       "    .dataframe tbody tr th:only-of-type {\n",
       "        vertical-align: middle;\n",
       "    }\n",
       "\n",
       "    .dataframe tbody tr th {\n",
       "        vertical-align: top;\n",
       "    }\n",
       "\n",
       "    .dataframe thead th {\n",
       "        text-align: right;\n",
       "    }\n",
       "</style>\n",
       "<table border=\"1\" class=\"dataframe\">\n",
       "  <thead>\n",
       "    <tr style=\"text-align: right;\">\n",
       "      <th></th>\n",
       "      <th>Name</th>\n",
       "      <th>Role</th>\n",
       "      <th>Timestamp</th>\n",
       "    </tr>\n",
       "  </thead>\n",
       "  <tbody>\n",
       "    <tr>\n",
       "      <th>0</th>\n",
       "      <td>Morgan Freeman</td>\n",
       "      <td>Teacher</td>\n",
       "      <td>2024-01-15 16:26:35.000000</td>\n",
       "    </tr>\n",
       "    <tr>\n",
       "      <th>1</th>\n",
       "      <td>Morgan Freeman</td>\n",
       "      <td>Teacher</td>\n",
       "      <td>2024-01-15 07:21:47.000000</td>\n",
       "    </tr>\n",
       "    <tr>\n",
       "      <th>2</th>\n",
       "      <td>Morgan Freeman</td>\n",
       "      <td>Teacher</td>\n",
       "      <td>2024-01-15 16:32:33.000000</td>\n",
       "    </tr>\n",
       "    <tr>\n",
       "      <th>3</th>\n",
       "      <td>Morgan Freeman</td>\n",
       "      <td>Teacher</td>\n",
       "      <td>2024-01-15 07:21:29.000000</td>\n",
       "    </tr>\n",
       "    <tr>\n",
       "      <th>4</th>\n",
       "      <td>Morgan Freeman</td>\n",
       "      <td>Teacher</td>\n",
       "      <td>2024-01-15 16:37:48.000000</td>\n",
       "    </tr>\n",
       "    <tr>\n",
       "      <th>...</th>\n",
       "      <td>...</td>\n",
       "      <td>...</td>\n",
       "      <td>...</td>\n",
       "    </tr>\n",
       "    <tr>\n",
       "      <th>2938</th>\n",
       "      <td>Devi</td>\n",
       "      <td>Student</td>\n",
       "      <td>2024-04-30 17:24:55.684738</td>\n",
       "    </tr>\n",
       "    <tr>\n",
       "      <th>2939</th>\n",
       "      <td>Ramya</td>\n",
       "      <td>Student</td>\n",
       "      <td>2024-04-30 17:22:43.363257</td>\n",
       "    </tr>\n",
       "    <tr>\n",
       "      <th>2940</th>\n",
       "      <td>Srikanth</td>\n",
       "      <td>Teacher</td>\n",
       "      <td>2024-04-30 17:22:41.637592</td>\n",
       "    </tr>\n",
       "    <tr>\n",
       "      <th>2941</th>\n",
       "      <td>Srikanth</td>\n",
       "      <td>Teacher</td>\n",
       "      <td>2024-04-30 17:22:19.432149</td>\n",
       "    </tr>\n",
       "    <tr>\n",
       "      <th>2942</th>\n",
       "      <td>Ramya</td>\n",
       "      <td>Student</td>\n",
       "      <td>2024-04-30 17:22:11.816840</td>\n",
       "    </tr>\n",
       "  </tbody>\n",
       "</table>\n",
       "<p>2943 rows × 3 columns</p>\n",
       "</div>"
      ],
      "text/plain": [
       "                Name     Role                  Timestamp\n",
       "0     Morgan Freeman  Teacher 2024-01-15 16:26:35.000000\n",
       "1     Morgan Freeman  Teacher 2024-01-15 07:21:47.000000\n",
       "2     Morgan Freeman  Teacher 2024-01-15 16:32:33.000000\n",
       "3     Morgan Freeman  Teacher 2024-01-15 07:21:29.000000\n",
       "4     Morgan Freeman  Teacher 2024-01-15 16:37:48.000000\n",
       "...              ...      ...                        ...\n",
       "2938            Devi  Student 2024-04-30 17:24:55.684738\n",
       "2939           Ramya  Student 2024-04-30 17:22:43.363257\n",
       "2940        Srikanth  Teacher 2024-04-30 17:22:41.637592\n",
       "2941        Srikanth  Teacher 2024-04-30 17:22:19.432149\n",
       "2942           Ramya  Student 2024-04-30 17:22:11.816840\n",
       "\n",
       "[2943 rows x 3 columns]"
      ]
     },
     "execution_count": 12,
     "metadata": {},
     "output_type": "execute_result"
    }
   ],
   "source": [
    "df"
   ]
  },
  {
   "cell_type": "code",
   "execution_count": 13,
   "metadata": {
    "ExecuteTime": {
     "end_time": "2024-01-14T08:38:47.759740100Z",
     "start_time": "2024-01-14T08:38:47.680393300Z"
    },
    "collapsed": false,
    "jupyter": {
     "outputs_hidden": false
    }
   },
   "outputs": [],
   "source": [
    "text = 'srikanth'\n",
    "df['cond']= df['Name'].str.lower().str.contains(f'{text}')"
   ]
  },
  {
   "cell_type": "code",
   "execution_count": 16,
   "metadata": {
    "ExecuteTime": {
     "end_time": "2024-01-14T08:39:36.116064400Z",
     "start_time": "2024-01-14T08:39:36.058929400Z"
    },
    "collapsed": false,
    "jupyter": {
     "outputs_hidden": false
    }
   },
   "outputs": [],
   "source": [
    "df1 = df.query('cond == True')"
   ]
  },
  {
   "cell_type": "code",
   "execution_count": 17,
   "metadata": {
    "ExecuteTime": {
     "end_time": "2024-01-14T08:39:39.590692400Z",
     "start_time": "2024-01-14T08:39:39.558967Z"
    },
    "collapsed": false,
    "jupyter": {
     "outputs_hidden": false
    }
   },
   "outputs": [
    {
     "data": {
      "text/html": [
       "<div>\n",
       "<style scoped>\n",
       "    .dataframe tbody tr th:only-of-type {\n",
       "        vertical-align: middle;\n",
       "    }\n",
       "\n",
       "    .dataframe tbody tr th {\n",
       "        vertical-align: top;\n",
       "    }\n",
       "\n",
       "    .dataframe thead th {\n",
       "        text-align: right;\n",
       "    }\n",
       "</style>\n",
       "<table border=\"1\" class=\"dataframe\">\n",
       "  <thead>\n",
       "    <tr style=\"text-align: right;\">\n",
       "      <th></th>\n",
       "      <th>Name</th>\n",
       "      <th>Role</th>\n",
       "      <th>Timestamp</th>\n",
       "      <th>date</th>\n",
       "      <th>cond</th>\n",
       "    </tr>\n",
       "  </thead>\n",
       "  <tbody>\n",
       "    <tr>\n",
       "      <th>66</th>\n",
       "      <td>Srikanth</td>\n",
       "      <td>Teacher</td>\n",
       "      <td>2023-12-27 16:34:39.207601</td>\n",
       "      <td>2023-12-27</td>\n",
       "      <td>True</td>\n",
       "    </tr>\n",
       "    <tr>\n",
       "      <th>67</th>\n",
       "      <td>Srikanth</td>\n",
       "      <td>Teacher</td>\n",
       "      <td>2023-12-27 16:34:08.954364</td>\n",
       "      <td>2023-12-27</td>\n",
       "      <td>True</td>\n",
       "    </tr>\n",
       "    <tr>\n",
       "      <th>68</th>\n",
       "      <td>Srikanth</td>\n",
       "      <td>Teacher</td>\n",
       "      <td>2023-12-27 16:33:39.094829</td>\n",
       "      <td>2023-12-27</td>\n",
       "      <td>True</td>\n",
       "    </tr>\n",
       "    <tr>\n",
       "      <th>69</th>\n",
       "      <td>Srikanth</td>\n",
       "      <td>Teacher</td>\n",
       "      <td>2023-12-25 20:42:17.528446</td>\n",
       "      <td>2023-12-25</td>\n",
       "      <td>True</td>\n",
       "    </tr>\n",
       "    <tr>\n",
       "      <th>70</th>\n",
       "      <td>Srikanth</td>\n",
       "      <td>Teacher</td>\n",
       "      <td>2023-12-25 20:41:47.301083</td>\n",
       "      <td>2023-12-25</td>\n",
       "      <td>True</td>\n",
       "    </tr>\n",
       "    <tr>\n",
       "      <th>71</th>\n",
       "      <td>Srikanth</td>\n",
       "      <td>Teacher</td>\n",
       "      <td>2023-12-25 20:41:18.963954</td>\n",
       "      <td>2023-12-25</td>\n",
       "      <td>True</td>\n",
       "    </tr>\n",
       "    <tr>\n",
       "      <th>72</th>\n",
       "      <td>Srikanth</td>\n",
       "      <td>Teacher</td>\n",
       "      <td>2023-12-25 20:34:28.320791</td>\n",
       "      <td>2023-12-25</td>\n",
       "      <td>True</td>\n",
       "    </tr>\n",
       "    <tr>\n",
       "      <th>73</th>\n",
       "      <td>Srikanth</td>\n",
       "      <td>Teacher</td>\n",
       "      <td>2023-12-25 20:33:58.837705</td>\n",
       "      <td>2023-12-25</td>\n",
       "      <td>True</td>\n",
       "    </tr>\n",
       "    <tr>\n",
       "      <th>74</th>\n",
       "      <td>Srikanth</td>\n",
       "      <td>Teacher</td>\n",
       "      <td>2023-12-25 20:10:34.881556</td>\n",
       "      <td>2023-12-25</td>\n",
       "      <td>True</td>\n",
       "    </tr>\n",
       "    <tr>\n",
       "      <th>76</th>\n",
       "      <td>Srikanth</td>\n",
       "      <td>Teacher</td>\n",
       "      <td>2023-12-25 19:28:40.362887</td>\n",
       "      <td>2023-12-25</td>\n",
       "      <td>True</td>\n",
       "    </tr>\n",
       "    <tr>\n",
       "      <th>84</th>\n",
       "      <td>Srikanth</td>\n",
       "      <td>Teacher</td>\n",
       "      <td>2023-12-25 08:42:23.554919</td>\n",
       "      <td>2023-12-25</td>\n",
       "      <td>True</td>\n",
       "    </tr>\n",
       "  </tbody>\n",
       "</table>\n",
       "</div>"
      ],
      "text/plain": [
       "        Name     Role                  Timestamp       date  cond\n",
       "66  Srikanth  Teacher 2023-12-27 16:34:39.207601 2023-12-27  True\n",
       "67  Srikanth  Teacher 2023-12-27 16:34:08.954364 2023-12-27  True\n",
       "68  Srikanth  Teacher 2023-12-27 16:33:39.094829 2023-12-27  True\n",
       "69  Srikanth  Teacher 2023-12-25 20:42:17.528446 2023-12-25  True\n",
       "70  Srikanth  Teacher 2023-12-25 20:41:47.301083 2023-12-25  True\n",
       "71  Srikanth  Teacher 2023-12-25 20:41:18.963954 2023-12-25  True\n",
       "72  Srikanth  Teacher 2023-12-25 20:34:28.320791 2023-12-25  True\n",
       "73  Srikanth  Teacher 2023-12-25 20:33:58.837705 2023-12-25  True\n",
       "74  Srikanth  Teacher 2023-12-25 20:10:34.881556 2023-12-25  True\n",
       "76  Srikanth  Teacher 2023-12-25 19:28:40.362887 2023-12-25  True\n",
       "84  Srikanth  Teacher 2023-12-25 08:42:23.554919 2023-12-25  True"
      ]
     },
     "execution_count": 17,
     "metadata": {},
     "output_type": "execute_result"
    }
   ],
   "source": [
    "df1"
   ]
  },
  {
   "cell_type": "code",
   "execution_count": null,
   "metadata": {
    "collapsed": false,
    "jupyter": {
     "outputs_hidden": false
    }
   },
   "outputs": [],
   "source": []
  },
  {
   "cell_type": "code",
   "execution_count": 9,
   "metadata": {
    "ExecuteTime": {
     "end_time": "2024-01-14T08:37:25.283364500Z",
     "start_time": "2024-01-14T08:37:24.315495100Z"
    },
    "collapsed": false,
    "jupyter": {
     "outputs_hidden": false
    }
   },
   "outputs": [
    {
     "ename": "TypeError",
     "evalue": "<class 'datetime.time'> is not convertible to datetime, at position 0",
     "output_type": "error",
     "traceback": [
      "\u001B[1;31m---------------------------------------------------------------------------\u001B[0m",
      "\u001B[1;31mTypeError\u001B[0m                                 Traceback (most recent call last)",
      "Cell \u001B[1;32mIn[9], line 2\u001B[0m\n\u001B[0;32m      1\u001B[0m df[\u001B[38;5;124m'\u001B[39m\u001B[38;5;124mdate\u001B[39m\u001B[38;5;124m'\u001B[39m] \u001B[38;5;241m=\u001B[39m pd\u001B[38;5;241m.\u001B[39mto_datetime(df[\u001B[38;5;124m'\u001B[39m\u001B[38;5;124mTimestamp\u001B[39m\u001B[38;5;124m'\u001B[39m]\u001B[38;5;241m.\u001B[39mdt\u001B[38;5;241m.\u001B[39mdate)\n\u001B[1;32m----> 2\u001B[0m df[\u001B[38;5;124m'\u001B[39m\u001B[38;5;124mtime\u001B[39m\u001B[38;5;124m'\u001B[39m] \u001B[38;5;241m=\u001B[39m \u001B[43mpd\u001B[49m\u001B[38;5;241;43m.\u001B[39;49m\u001B[43mto_datetime\u001B[49m\u001B[43m(\u001B[49m\u001B[43mdf\u001B[49m\u001B[43m[\u001B[49m\u001B[38;5;124;43m'\u001B[39;49m\u001B[38;5;124;43mTimestamp\u001B[39;49m\u001B[38;5;124;43m'\u001B[39;49m\u001B[43m]\u001B[49m\u001B[38;5;241;43m.\u001B[39;49m\u001B[43mdt\u001B[49m\u001B[38;5;241;43m.\u001B[39;49m\u001B[43mtime\u001B[49m\u001B[43m)\u001B[49m\n\u001B[0;32m      3\u001B[0m df\u001B[38;5;241m.\u001B[39mhead()\n",
      "File \u001B[1;32mD:\\Brightshine\\Courses\\4_Attendance_System\\Attendance_system\\attendance_system_app\\virtualenv\\Lib\\site-packages\\pandas\\core\\tools\\datetimes.py:1112\u001B[0m, in \u001B[0;36mto_datetime\u001B[1;34m(arg, errors, dayfirst, yearfirst, utc, format, exact, unit, infer_datetime_format, origin, cache)\u001B[0m\n\u001B[0;32m   1110\u001B[0m         result \u001B[38;5;241m=\u001B[39m arg\u001B[38;5;241m.\u001B[39mmap(cache_array)\n\u001B[0;32m   1111\u001B[0m     \u001B[38;5;28;01melse\u001B[39;00m:\n\u001B[1;32m-> 1112\u001B[0m         values \u001B[38;5;241m=\u001B[39m \u001B[43mconvert_listlike\u001B[49m\u001B[43m(\u001B[49m\u001B[43marg\u001B[49m\u001B[38;5;241;43m.\u001B[39;49m\u001B[43m_values\u001B[49m\u001B[43m,\u001B[49m\u001B[43m \u001B[49m\u001B[38;5;28;43mformat\u001B[39;49m\u001B[43m)\u001B[49m\n\u001B[0;32m   1113\u001B[0m         result \u001B[38;5;241m=\u001B[39m arg\u001B[38;5;241m.\u001B[39m_constructor(values, index\u001B[38;5;241m=\u001B[39marg\u001B[38;5;241m.\u001B[39mindex, name\u001B[38;5;241m=\u001B[39marg\u001B[38;5;241m.\u001B[39mname)\n\u001B[0;32m   1114\u001B[0m \u001B[38;5;28;01melif\u001B[39;00m \u001B[38;5;28misinstance\u001B[39m(arg, (ABCDataFrame, abc\u001B[38;5;241m.\u001B[39mMutableMapping)):\n",
      "File \u001B[1;32mD:\\Brightshine\\Courses\\4_Attendance_System\\Attendance_system\\attendance_system_app\\virtualenv\\Lib\\site-packages\\pandas\\core\\tools\\datetimes.py:490\u001B[0m, in \u001B[0;36m_convert_listlike_datetimes\u001B[1;34m(arg, format, name, utc, unit, errors, dayfirst, yearfirst, exact)\u001B[0m\n\u001B[0;32m    487\u001B[0m \u001B[38;5;28;01mif\u001B[39;00m \u001B[38;5;28mformat\u001B[39m \u001B[38;5;129;01mis\u001B[39;00m \u001B[38;5;129;01mnot\u001B[39;00m \u001B[38;5;28;01mNone\u001B[39;00m \u001B[38;5;129;01mand\u001B[39;00m \u001B[38;5;28mformat\u001B[39m \u001B[38;5;241m!=\u001B[39m \u001B[38;5;124m\"\u001B[39m\u001B[38;5;124mmixed\u001B[39m\u001B[38;5;124m\"\u001B[39m:\n\u001B[0;32m    488\u001B[0m     \u001B[38;5;28;01mreturn\u001B[39;00m _array_strptime_with_fallback(arg, name, utc, \u001B[38;5;28mformat\u001B[39m, exact, errors)\n\u001B[1;32m--> 490\u001B[0m result, tz_parsed \u001B[38;5;241m=\u001B[39m \u001B[43mobjects_to_datetime64ns\u001B[49m\u001B[43m(\u001B[49m\n\u001B[0;32m    491\u001B[0m \u001B[43m    \u001B[49m\u001B[43marg\u001B[49m\u001B[43m,\u001B[49m\n\u001B[0;32m    492\u001B[0m \u001B[43m    \u001B[49m\u001B[43mdayfirst\u001B[49m\u001B[38;5;241;43m=\u001B[39;49m\u001B[43mdayfirst\u001B[49m\u001B[43m,\u001B[49m\n\u001B[0;32m    493\u001B[0m \u001B[43m    \u001B[49m\u001B[43myearfirst\u001B[49m\u001B[38;5;241;43m=\u001B[39;49m\u001B[43myearfirst\u001B[49m\u001B[43m,\u001B[49m\n\u001B[0;32m    494\u001B[0m \u001B[43m    \u001B[49m\u001B[43mutc\u001B[49m\u001B[38;5;241;43m=\u001B[39;49m\u001B[43mutc\u001B[49m\u001B[43m,\u001B[49m\n\u001B[0;32m    495\u001B[0m \u001B[43m    \u001B[49m\u001B[43merrors\u001B[49m\u001B[38;5;241;43m=\u001B[39;49m\u001B[43merrors\u001B[49m\u001B[43m,\u001B[49m\n\u001B[0;32m    496\u001B[0m \u001B[43m    \u001B[49m\u001B[43mallow_object\u001B[49m\u001B[38;5;241;43m=\u001B[39;49m\u001B[38;5;28;43;01mTrue\u001B[39;49;00m\u001B[43m,\u001B[49m\n\u001B[0;32m    497\u001B[0m \u001B[43m\u001B[49m\u001B[43m)\u001B[49m\n\u001B[0;32m    499\u001B[0m \u001B[38;5;28;01mif\u001B[39;00m tz_parsed \u001B[38;5;129;01mis\u001B[39;00m \u001B[38;5;129;01mnot\u001B[39;00m \u001B[38;5;28;01mNone\u001B[39;00m:\n\u001B[0;32m    500\u001B[0m     \u001B[38;5;66;03m# We can take a shortcut since the datetime64 numpy array\u001B[39;00m\n\u001B[0;32m    501\u001B[0m     \u001B[38;5;66;03m# is in UTC\u001B[39;00m\n\u001B[0;32m    502\u001B[0m     dta \u001B[38;5;241m=\u001B[39m DatetimeArray(result, dtype\u001B[38;5;241m=\u001B[39mtz_to_dtype(tz_parsed))\n",
      "File \u001B[1;32mD:\\Brightshine\\Courses\\4_Attendance_System\\Attendance_system\\attendance_system_app\\virtualenv\\Lib\\site-packages\\pandas\\core\\arrays\\datetimes.py:2346\u001B[0m, in \u001B[0;36mobjects_to_datetime64ns\u001B[1;34m(data, dayfirst, yearfirst, utc, errors, allow_object)\u001B[0m\n\u001B[0;32m   2343\u001B[0m \u001B[38;5;66;03m# if str-dtype, convert\u001B[39;00m\n\u001B[0;32m   2344\u001B[0m data \u001B[38;5;241m=\u001B[39m np\u001B[38;5;241m.\u001B[39marray(data, copy\u001B[38;5;241m=\u001B[39m\u001B[38;5;28;01mFalse\u001B[39;00m, dtype\u001B[38;5;241m=\u001B[39mnp\u001B[38;5;241m.\u001B[39mobject_)\n\u001B[1;32m-> 2346\u001B[0m result, tz_parsed \u001B[38;5;241m=\u001B[39m \u001B[43mtslib\u001B[49m\u001B[38;5;241;43m.\u001B[39;49m\u001B[43marray_to_datetime\u001B[49m\u001B[43m(\u001B[49m\n\u001B[0;32m   2347\u001B[0m \u001B[43m    \u001B[49m\u001B[43mdata\u001B[49m\u001B[43m,\u001B[49m\n\u001B[0;32m   2348\u001B[0m \u001B[43m    \u001B[49m\u001B[43merrors\u001B[49m\u001B[38;5;241;43m=\u001B[39;49m\u001B[43merrors\u001B[49m\u001B[43m,\u001B[49m\n\u001B[0;32m   2349\u001B[0m \u001B[43m    \u001B[49m\u001B[43mutc\u001B[49m\u001B[38;5;241;43m=\u001B[39;49m\u001B[43mutc\u001B[49m\u001B[43m,\u001B[49m\n\u001B[0;32m   2350\u001B[0m \u001B[43m    \u001B[49m\u001B[43mdayfirst\u001B[49m\u001B[38;5;241;43m=\u001B[39;49m\u001B[43mdayfirst\u001B[49m\u001B[43m,\u001B[49m\n\u001B[0;32m   2351\u001B[0m \u001B[43m    \u001B[49m\u001B[43myearfirst\u001B[49m\u001B[38;5;241;43m=\u001B[39;49m\u001B[43myearfirst\u001B[49m\u001B[43m,\u001B[49m\n\u001B[0;32m   2352\u001B[0m \u001B[43m\u001B[49m\u001B[43m)\u001B[49m\n\u001B[0;32m   2354\u001B[0m \u001B[38;5;28;01mif\u001B[39;00m tz_parsed \u001B[38;5;129;01mis\u001B[39;00m \u001B[38;5;129;01mnot\u001B[39;00m \u001B[38;5;28;01mNone\u001B[39;00m:\n\u001B[0;32m   2355\u001B[0m     \u001B[38;5;66;03m# We can take a shortcut since the datetime64 numpy array\u001B[39;00m\n\u001B[0;32m   2356\u001B[0m     \u001B[38;5;66;03m#  is in UTC\u001B[39;00m\n\u001B[0;32m   2357\u001B[0m     \u001B[38;5;66;03m# Return i8 values to denote unix timestamps\u001B[39;00m\n\u001B[0;32m   2358\u001B[0m     \u001B[38;5;28;01mreturn\u001B[39;00m result\u001B[38;5;241m.\u001B[39mview(\u001B[38;5;124m\"\u001B[39m\u001B[38;5;124mi8\u001B[39m\u001B[38;5;124m\"\u001B[39m), tz_parsed\n",
      "File \u001B[1;32mtslib.pyx:403\u001B[0m, in \u001B[0;36mpandas._libs.tslib.array_to_datetime\u001B[1;34m()\u001B[0m\n",
      "File \u001B[1;32mtslib.pyx:552\u001B[0m, in \u001B[0;36mpandas._libs.tslib.array_to_datetime\u001B[1;34m()\u001B[0m\n",
      "File \u001B[1;32mtslib.pyx:541\u001B[0m, in \u001B[0;36mpandas._libs.tslib.array_to_datetime\u001B[1;34m()\u001B[0m\n",
      "\u001B[1;31mTypeError\u001B[0m: <class 'datetime.time'> is not convertible to datetime, at position 0"
     ]
    }
   ],
   "source": [
    "df['date'] = pd.to_datetime(df['Timestamp'].dt.date)\n",
    "df['time'] = pd.to_datetime(df['Timestamp'].dt.time)\n",
    "df.head()"
   ]
  },
  {
   "cell_type": "code",
   "execution_count": null,
   "metadata": {
    "collapsed": false,
    "jupyter": {
     "outputs_hidden": false
    }
   },
   "outputs": [],
   "source": [
    "df_summary = df.groupby(['date','Name']).agg(\n",
    "    In_time = pd.NamedAgg('Timestamp','min'),\n",
    "    Out_time = pd.NamedAgg('Timestamp','max'),\n",
    "\n",
    ")\n"
   ]
  },
  {
   "cell_type": "code",
   "execution_count": null,
   "metadata": {
    "collapsed": false,
    "jupyter": {
     "outputs_hidden": false
    }
   },
   "outputs": [],
   "source": [
    "df_summary.reset_index(inplace=True)"
   ]
  },
  {
   "cell_type": "code",
   "execution_count": null,
   "metadata": {
    "collapsed": false,
    "jupyter": {
     "outputs_hidden": false
    }
   },
   "outputs": [],
   "source": [
    "df_summary['day_name'] = df_summary['In_time'].dt.day_name()\n",
    "df_summary['Duration_timestamp'] = df_summary['Out_time'] - df_summary['In_time']\n",
    "\n",
    "df_summary['duration_in_seconds'] = df_summary['Duration_timestamp'].dt.seconds\n",
    "df_summary['duration_in_minutes'] = df_summary['duration_in_seconds'] / 60\n",
    "df_summary['duration_in_hours'] = df_summary['duration_in_seconds']/ (60 * 60)"
   ]
  },
  {
   "cell_type": "code",
   "execution_count": null,
   "metadata": {
    "collapsed": false,
    "jupyter": {
     "outputs_hidden": false
    }
   },
   "outputs": [],
   "source": [
    "df_summary"
   ]
  },
  {
   "cell_type": "code",
   "execution_count": 10,
   "metadata": {
    "ExecuteTime": {
     "end_time": "2024-01-14T08:37:25.504278200Z",
     "start_time": "2024-01-14T08:37:25.460400800Z"
    },
    "collapsed": false,
    "jupyter": {
     "outputs_hidden": false
    }
   },
   "outputs": [
    {
     "ename": "NameError",
     "evalue": "name 'df_summary' is not defined",
     "output_type": "error",
     "traceback": [
      "\u001B[1;31m---------------------------------------------------------------------------\u001B[0m",
      "\u001B[1;31mNameError\u001B[0m                                 Traceback (most recent call last)",
      "Cell \u001B[1;32mIn[10], line 2\u001B[0m\n\u001B[0;32m      1\u001B[0m \u001B[38;5;66;03m# Extract unique dates\u001B[39;00m\n\u001B[1;32m----> 2\u001B[0m unique_dates \u001B[38;5;241m=\u001B[39m \u001B[43mdf_summary\u001B[49m[\u001B[38;5;124m'\u001B[39m\u001B[38;5;124mdate\u001B[39m\u001B[38;5;124m'\u001B[39m]\u001B[38;5;241m.\u001B[39munique()\n\u001B[0;32m      4\u001B[0m \u001B[38;5;66;03m# Create a list to store the result\u001B[39;00m\n\u001B[0;32m      5\u001B[0m result \u001B[38;5;241m=\u001B[39m []\n",
      "\u001B[1;31mNameError\u001B[0m: name 'df_summary' is not defined"
     ]
    }
   ],
   "source": [
    "# Extract unique dates\n",
    "unique_dates = df_summary['date'].unique()\n",
    "\n",
    "# Create a list to store the result\n",
    "result = []\n",
    "\n",
    "# Iterate over unique dates\n",
    "for date in unique_dates:\n",
    "    # Filter the DataFrame for the current date\n",
    "    date_df = df_summary[df_summary['date'] == date]\n",
    "\n",
    "    # Extract unique names for the current date\n",
    "    unique_names = date_df['Name'].unique()\n",
    "\n",
    "    # Iterate over all names and check if they are present or absent\n",
    "    for name in unique_names:\n",
    "        if name in date_df['Name'].values:\n",
    "            result.append({'Date': date, 'Name': name, 'Status': 'Present'})\n",
    "        else:\n",
    "            result.append({'Date': date, 'Name': name, 'Status': 'Absent'})\n",
    "\n",
    "# Create a new DataFrame from the result list\n",
    "result_df = pd.DataFrame(result)"
   ]
  },
  {
   "cell_type": "code",
   "execution_count": 11,
   "metadata": {
    "ExecuteTime": {
     "end_time": "2024-01-14T08:37:25.954722Z",
     "start_time": "2024-01-14T08:37:25.906910600Z"
    },
    "collapsed": false,
    "jupyter": {
     "outputs_hidden": false
    }
   },
   "outputs": [
    {
     "ename": "NameError",
     "evalue": "name 'df_summary' is not defined",
     "output_type": "error",
     "traceback": [
      "\u001B[1;31m---------------------------------------------------------------------------\u001B[0m",
      "\u001B[1;31mNameError\u001B[0m                                 Traceback (most recent call last)",
      "Cell \u001B[1;32mIn[11], line 1\u001B[0m\n\u001B[1;32m----> 1\u001B[0m \u001B[43mdf_summary\u001B[49m\n",
      "\u001B[1;31mNameError\u001B[0m: name 'df_summary' is not defined"
     ]
    }
   ],
   "source": [
    "df_summary"
   ]
  },
  {
   "cell_type": "code",
   "execution_count": 12,
   "metadata": {
    "ExecuteTime": {
     "end_time": "2024-01-14T08:37:26.140351800Z",
     "start_time": "2024-01-14T08:37:26.112644200Z"
    },
    "collapsed": false,
    "jupyter": {
     "outputs_hidden": false
    }
   },
   "outputs": [
    {
     "ename": "NameError",
     "evalue": "name 'df_summary' is not defined",
     "output_type": "error",
     "traceback": [
      "\u001B[1;31m---------------------------------------------------------------------------\u001B[0m",
      "\u001B[1;31mNameError\u001B[0m                                 Traceback (most recent call last)",
      "Cell \u001B[1;32mIn[12], line 1\u001B[0m\n\u001B[1;32m----> 1\u001B[0m unique_dates \u001B[38;5;241m=\u001B[39m \u001B[43mdf_summary\u001B[49m[\u001B[38;5;124m'\u001B[39m\u001B[38;5;124mdate\u001B[39m\u001B[38;5;124m'\u001B[39m]\n\u001B[0;32m      2\u001B[0m Name \u001B[38;5;241m=\u001B[39m df_summary[\u001B[38;5;124m'\u001B[39m\u001B[38;5;124mName\u001B[39m\u001B[38;5;124m'\u001B[39m]\n\u001B[0;32m      4\u001B[0m date_name_zip \u001B[38;5;241m=\u001B[39m []\n",
      "\u001B[1;31mNameError\u001B[0m: name 'df_summary' is not defined"
     ]
    }
   ],
   "source": [
    "unique_dates = df_summary['date']\n",
    "Name = df_summary['Name']\n",
    "\n",
    "date_name_zip = []\n",
    "for dt in unique_dates:\n",
    "    for name in Name:\n",
    "        date_name_zip.append([dt, name])\n",
    "\n",
    "date_name_df = pd.DataFrame(date_name_zip,columns=['date','Name'])\n",
    "date_name_df = pd.merge(date_name_df, df_summary, on=['date','Name'],how='left')"
   ]
  },
  {
   "cell_type": "code",
   "execution_count": 12,
   "metadata": {
    "ExecuteTime": {
     "end_time": "2024-01-14T08:37:26.451900400Z",
     "start_time": "2024-01-14T08:37:26.433366400Z"
    },
    "collapsed": false,
    "jupyter": {
     "outputs_hidden": false
    }
   },
   "outputs": [],
   "source": [
    "\n"
   ]
  },
  {
   "cell_type": "code",
   "execution_count": 89,
   "metadata": {
    "ExecuteTime": {
     "end_time": "2024-01-13T10:15:42.012281Z",
     "start_time": "2024-01-13T10:15:41.980907600Z"
    },
    "collapsed": false,
    "jupyter": {
     "outputs_hidden": false
    }
   },
   "outputs": [],
   "source": []
  },
  {
   "cell_type": "code",
   "execution_count": 90,
   "metadata": {
    "ExecuteTime": {
     "end_time": "2024-01-13T10:15:43.452140500Z",
     "start_time": "2024-01-13T10:15:43.340242200Z"
    },
    "collapsed": false,
    "jupyter": {
     "outputs_hidden": false
    }
   },
   "outputs": [
    {
     "data": {
      "text/html": [
       "<div>\n",
       "<style scoped>\n",
       "    .dataframe tbody tr th:only-of-type {\n",
       "        vertical-align: middle;\n",
       "    }\n",
       "\n",
       "    .dataframe tbody tr th {\n",
       "        vertical-align: top;\n",
       "    }\n",
       "\n",
       "    .dataframe thead th {\n",
       "        text-align: right;\n",
       "    }\n",
       "</style>\n",
       "<table border=\"1\" class=\"dataframe\">\n",
       "  <thead>\n",
       "    <tr style=\"text-align: right;\">\n",
       "      <th></th>\n",
       "      <th>date</th>\n",
       "      <th>Name</th>\n",
       "      <th>In_time</th>\n",
       "      <th>Out_time</th>\n",
       "      <th>day_name</th>\n",
       "      <th>Duration_timestamp</th>\n",
       "      <th>duration_in_seconds</th>\n",
       "      <th>duration_in_minutes</th>\n",
       "      <th>duration_in_hours</th>\n",
       "    </tr>\n",
       "  </thead>\n",
       "  <tbody>\n",
       "    <tr>\n",
       "      <th>0</th>\n",
       "      <td>2023-12-25</td>\n",
       "      <td>Manasvi</td>\n",
       "      <td>2023-12-25 08:42:17.201489</td>\n",
       "      <td>2023-12-25 13:04:26.059946</td>\n",
       "      <td>Monday</td>\n",
       "      <td>0 days 04:22:08.858457</td>\n",
       "      <td>15728.0</td>\n",
       "      <td>262.133333</td>\n",
       "      <td>4.368889</td>\n",
       "    </tr>\n",
       "    <tr>\n",
       "      <th>1</th>\n",
       "      <td>2023-12-25</td>\n",
       "      <td>Srikanth</td>\n",
       "      <td>2023-12-25 08:42:23.554919</td>\n",
       "      <td>2023-12-25 20:42:17.528446</td>\n",
       "      <td>Monday</td>\n",
       "      <td>0 days 11:59:53.973527</td>\n",
       "      <td>43193.0</td>\n",
       "      <td>719.883333</td>\n",
       "      <td>11.998056</td>\n",
       "    </tr>\n",
       "    <tr>\n",
       "      <th>2</th>\n",
       "      <td>2023-12-25</td>\n",
       "      <td>Sudhir</td>\n",
       "      <td>2023-12-25 08:42:16.208388</td>\n",
       "      <td>2023-12-25 20:10:34.242252</td>\n",
       "      <td>Monday</td>\n",
       "      <td>0 days 11:28:18.033864</td>\n",
       "      <td>41298.0</td>\n",
       "      <td>688.300000</td>\n",
       "      <td>11.471667</td>\n",
       "    </tr>\n",
       "    <tr>\n",
       "      <th>3</th>\n",
       "      <td>2023-12-25</td>\n",
       "      <td>Srikanth</td>\n",
       "      <td>2023-12-25 08:42:23.554919</td>\n",
       "      <td>2023-12-25 20:42:17.528446</td>\n",
       "      <td>Monday</td>\n",
       "      <td>0 days 11:59:53.973527</td>\n",
       "      <td>43193.0</td>\n",
       "      <td>719.883333</td>\n",
       "      <td>11.998056</td>\n",
       "    </tr>\n",
       "    <tr>\n",
       "      <th>4</th>\n",
       "      <td>2023-12-25</td>\n",
       "      <td>Test App</td>\n",
       "      <td>NaT</td>\n",
       "      <td>NaT</td>\n",
       "      <td>NaN</td>\n",
       "      <td>NaT</td>\n",
       "      <td>NaN</td>\n",
       "      <td>NaN</td>\n",
       "      <td>NaN</td>\n",
       "    </tr>\n",
       "    <tr>\n",
       "      <th>...</th>\n",
       "      <td>...</td>\n",
       "      <td>...</td>\n",
       "      <td>...</td>\n",
       "      <td>...</td>\n",
       "      <td>...</td>\n",
       "      <td>...</td>\n",
       "      <td>...</td>\n",
       "      <td>...</td>\n",
       "      <td>...</td>\n",
       "    </tr>\n",
       "    <tr>\n",
       "      <th>164</th>\n",
       "      <td>2024-01-09</td>\n",
       "      <td>James Evan</td>\n",
       "      <td>NaT</td>\n",
       "      <td>NaT</td>\n",
       "      <td>NaN</td>\n",
       "      <td>NaT</td>\n",
       "      <td>NaN</td>\n",
       "      <td>NaN</td>\n",
       "      <td>NaN</td>\n",
       "    </tr>\n",
       "    <tr>\n",
       "      <th>165</th>\n",
       "      <td>2024-01-09</td>\n",
       "      <td>Test App</td>\n",
       "      <td>NaT</td>\n",
       "      <td>NaT</td>\n",
       "      <td>NaN</td>\n",
       "      <td>NaT</td>\n",
       "      <td>NaN</td>\n",
       "      <td>NaN</td>\n",
       "      <td>NaN</td>\n",
       "    </tr>\n",
       "    <tr>\n",
       "      <th>166</th>\n",
       "      <td>2024-01-09</td>\n",
       "      <td>James Evan</td>\n",
       "      <td>NaT</td>\n",
       "      <td>NaT</td>\n",
       "      <td>NaN</td>\n",
       "      <td>NaT</td>\n",
       "      <td>NaN</td>\n",
       "      <td>NaN</td>\n",
       "      <td>NaN</td>\n",
       "    </tr>\n",
       "    <tr>\n",
       "      <th>167</th>\n",
       "      <td>2024-01-09</td>\n",
       "      <td>Test App</td>\n",
       "      <td>NaT</td>\n",
       "      <td>NaT</td>\n",
       "      <td>NaN</td>\n",
       "      <td>NaT</td>\n",
       "      <td>NaN</td>\n",
       "      <td>NaN</td>\n",
       "      <td>NaN</td>\n",
       "    </tr>\n",
       "    <tr>\n",
       "      <th>168</th>\n",
       "      <td>2024-01-09</td>\n",
       "      <td>Juan DelCruz</td>\n",
       "      <td>2024-01-09 11:42:10.439614</td>\n",
       "      <td>2024-01-09 13:47:32.187232</td>\n",
       "      <td>Tuesday</td>\n",
       "      <td>0 days 02:05:21.747618</td>\n",
       "      <td>7521.0</td>\n",
       "      <td>125.350000</td>\n",
       "      <td>2.089167</td>\n",
       "    </tr>\n",
       "  </tbody>\n",
       "</table>\n",
       "<p>169 rows × 9 columns</p>\n",
       "</div>"
      ],
      "text/plain": [
       "          date          Name                    In_time  \\\n",
       "0   2023-12-25       Manasvi 2023-12-25 08:42:17.201489   \n",
       "1   2023-12-25      Srikanth 2023-12-25 08:42:23.554919   \n",
       "2   2023-12-25        Sudhir 2023-12-25 08:42:16.208388   \n",
       "3   2023-12-25      Srikanth 2023-12-25 08:42:23.554919   \n",
       "4   2023-12-25      Test App                        NaT   \n",
       "..         ...           ...                        ...   \n",
       "164 2024-01-09    James Evan                        NaT   \n",
       "165 2024-01-09      Test App                        NaT   \n",
       "166 2024-01-09    James Evan                        NaT   \n",
       "167 2024-01-09      Test App                        NaT   \n",
       "168 2024-01-09  Juan DelCruz 2024-01-09 11:42:10.439614   \n",
       "\n",
       "                      Out_time day_name     Duration_timestamp  \\\n",
       "0   2023-12-25 13:04:26.059946   Monday 0 days 04:22:08.858457   \n",
       "1   2023-12-25 20:42:17.528446   Monday 0 days 11:59:53.973527   \n",
       "2   2023-12-25 20:10:34.242252   Monday 0 days 11:28:18.033864   \n",
       "3   2023-12-25 20:42:17.528446   Monday 0 days 11:59:53.973527   \n",
       "4                          NaT      NaN                    NaT   \n",
       "..                         ...      ...                    ...   \n",
       "164                        NaT      NaN                    NaT   \n",
       "165                        NaT      NaN                    NaT   \n",
       "166                        NaT      NaN                    NaT   \n",
       "167                        NaT      NaN                    NaT   \n",
       "168 2024-01-09 13:47:32.187232  Tuesday 0 days 02:05:21.747618   \n",
       "\n",
       "     duration_in_seconds  duration_in_minutes  duration_in_hours  \n",
       "0                15728.0           262.133333           4.368889  \n",
       "1                43193.0           719.883333          11.998056  \n",
       "2                41298.0           688.300000          11.471667  \n",
       "3                43193.0           719.883333          11.998056  \n",
       "4                    NaN                  NaN                NaN  \n",
       "..                   ...                  ...                ...  \n",
       "164                  NaN                  NaN                NaN  \n",
       "165                  NaN                  NaN                NaN  \n",
       "166                  NaN                  NaN                NaN  \n",
       "167                  NaN                  NaN                NaN  \n",
       "168               7521.0           125.350000           2.089167  \n",
       "\n",
       "[169 rows x 9 columns]"
      ]
     },
     "execution_count": 90,
     "metadata": {},
     "output_type": "execute_result"
    }
   ],
   "source": [
    "date_name_df"
   ]
  },
  {
   "cell_type": "code",
   "execution_count": 5,
   "metadata": {
    "ExecuteTime": {
     "end_time": "2024-01-17T05:05:23.302751300Z",
     "start_time": "2024-01-17T05:05:23.271038600Z"
    },
    "collapsed": false,
    "jupyter": {
     "outputs_hidden": false
    }
   },
   "outputs": [],
   "source": [
    "import datetime"
   ]
  },
  {
   "cell_type": "code",
   "execution_count": 95,
   "metadata": {
    "ExecuteTime": {
     "end_time": "2024-01-13T10:17:10.407903200Z",
     "start_time": "2024-01-13T10:17:10.389403Z"
    },
    "collapsed": false,
    "jupyter": {
     "outputs_hidden": false
    }
   },
   "outputs": [
    {
     "data": {
      "text/plain": [
       "datetime.timedelta(0)"
      ]
     },
     "execution_count": 95,
     "metadata": {},
     "output_type": "execute_result"
    }
   ],
   "source": []
  },
  {
   "cell_type": "code",
   "execution_count": null,
   "metadata": {
    "collapsed": false,
    "jupyter": {
     "outputs_hidden": false
    }
   },
   "outputs": [],
   "source": []
  },
  {
   "cell_type": "code",
   "execution_count": 93,
   "metadata": {
    "ExecuteTime": {
     "end_time": "2024-01-13T10:16:30.054762400Z",
     "start_time": "2024-01-13T10:16:30.022558100Z"
    },
    "collapsed": false,
    "jupyter": {
     "outputs_hidden": false
    }
   },
   "outputs": [
    {
     "data": {
      "text/plain": [
       "Timedelta('0 days 04:22:08.858457')"
      ]
     },
     "execution_count": 93,
     "metadata": {},
     "output_type": "execute_result"
    }
   ],
   "source": [
    "date_name_df['Duration_timestamp'].loc[0]"
   ]
  },
  {
   "cell_type": "code",
   "execution_count": 96,
   "metadata": {
    "ExecuteTime": {
     "end_time": "2024-01-13T10:17:35.143101500Z",
     "start_time": "2024-01-13T10:17:35.092934400Z"
    },
    "collapsed": false,
    "jupyter": {
     "outputs_hidden": false
    }
   },
   "outputs": [],
   "source": [
    "date_name_df['Duration_timestamp'].fillna(datetime.timedelta(days=0, seconds=0),inplace=True)"
   ]
  },
  {
   "cell_type": "code",
   "execution_count": 98,
   "metadata": {
    "ExecuteTime": {
     "end_time": "2024-01-13T10:18:17.138649300Z",
     "start_time": "2024-01-13T10:18:17.130551900Z"
    },
    "collapsed": false,
    "jupyter": {
     "outputs_hidden": false
    }
   },
   "outputs": [],
   "source": [
    "\n",
    "date_name_df['duration_in_seconds'] = date_name_df['Duration_timestamp'].dt.seconds\n",
    "date_name_df['duration_in_minutes'] = date_name_df['duration_in_seconds'] / 60\n",
    "date_name_df['duration_in_hours'] = date_name_df['duration_in_seconds']/ (60 * 60)"
   ]
  },
  {
   "cell_type": "code",
   "execution_count": 116,
   "metadata": {
    "ExecuteTime": {
     "end_time": "2024-01-13T10:29:59.073497200Z",
     "start_time": "2024-01-13T10:29:59.073497200Z"
    },
    "collapsed": false,
    "jupyter": {
     "outputs_hidden": false
    }
   },
   "outputs": [],
   "source": [
    "def status_marker(x):\n",
    "    in_time, duration_in_hours = x\n",
    "    if pd.Series(in_time).isnull().all() :\n",
    "        return  \"Absent\"\n",
    "\n",
    "    else:\n",
    "        if duration_in_hours >= 1 and duration_in_hours <= 4:\n",
    "            return 'Half day less than 4 hours'\n",
    "        elif duration_in_hours >= 4 and duration_in_hours < 6:\n",
    "            return 'Half Day'\n",
    "        elif duration_in_hours >= 6 and duration_in_hours <= 8:\n",
    "            return 'Present'\n",
    "        elif int(duration_in_hours) > 8:\n",
    "            return 'Present Over Time'\n",
    "        else:\n",
    "            return 'Out Time Not Available'\n"
   ]
  },
  {
   "cell_type": "code",
   "execution_count": 117,
   "metadata": {
    "ExecuteTime": {
     "end_time": "2024-01-13T10:29:59.905031400Z",
     "start_time": "2024-01-13T10:29:59.814484800Z"
    },
    "collapsed": false,
    "jupyter": {
     "outputs_hidden": false
    }
   },
   "outputs": [],
   "source": [
    "date_name_df['Status'] = date_name_df[['In_time','duration_in_hours']].apply(status_marker, axis=1)"
   ]
  },
  {
   "cell_type": "code",
   "execution_count": 118,
   "metadata": {
    "ExecuteTime": {
     "end_time": "2024-01-13T10:30:00.612798500Z",
     "start_time": "2024-01-13T10:30:00.565999600Z"
    },
    "collapsed": false,
    "jupyter": {
     "outputs_hidden": false
    }
   },
   "outputs": [
    {
     "data": {
      "text/html": [
       "<div>\n",
       "<style scoped>\n",
       "    .dataframe tbody tr th:only-of-type {\n",
       "        vertical-align: middle;\n",
       "    }\n",
       "\n",
       "    .dataframe tbody tr th {\n",
       "        vertical-align: top;\n",
       "    }\n",
       "\n",
       "    .dataframe thead th {\n",
       "        text-align: right;\n",
       "    }\n",
       "</style>\n",
       "<table border=\"1\" class=\"dataframe\">\n",
       "  <thead>\n",
       "    <tr style=\"text-align: right;\">\n",
       "      <th></th>\n",
       "      <th>date</th>\n",
       "      <th>Name</th>\n",
       "      <th>In_time</th>\n",
       "      <th>Out_time</th>\n",
       "      <th>day_name</th>\n",
       "      <th>Duration_timestamp</th>\n",
       "      <th>duration_in_seconds</th>\n",
       "      <th>duration_in_minutes</th>\n",
       "      <th>duration_in_hours</th>\n",
       "      <th>Status</th>\n",
       "    </tr>\n",
       "  </thead>\n",
       "  <tbody>\n",
       "    <tr>\n",
       "      <th>0</th>\n",
       "      <td>2023-12-25</td>\n",
       "      <td>Manasvi</td>\n",
       "      <td>2023-12-25 08:42:17.201489</td>\n",
       "      <td>2023-12-25 13:04:26.059946</td>\n",
       "      <td>Monday</td>\n",
       "      <td>0 days 04:22:08.858457</td>\n",
       "      <td>15728</td>\n",
       "      <td>262.133333</td>\n",
       "      <td>4.368889</td>\n",
       "      <td>Half Day</td>\n",
       "    </tr>\n",
       "    <tr>\n",
       "      <th>1</th>\n",
       "      <td>2023-12-25</td>\n",
       "      <td>Srikanth</td>\n",
       "      <td>2023-12-25 08:42:23.554919</td>\n",
       "      <td>2023-12-25 20:42:17.528446</td>\n",
       "      <td>Monday</td>\n",
       "      <td>0 days 11:59:53.973527</td>\n",
       "      <td>43193</td>\n",
       "      <td>719.883333</td>\n",
       "      <td>11.998056</td>\n",
       "      <td>Present Over Time</td>\n",
       "    </tr>\n",
       "    <tr>\n",
       "      <th>2</th>\n",
       "      <td>2023-12-25</td>\n",
       "      <td>Sudhir</td>\n",
       "      <td>2023-12-25 08:42:16.208388</td>\n",
       "      <td>2023-12-25 20:10:34.242252</td>\n",
       "      <td>Monday</td>\n",
       "      <td>0 days 11:28:18.033864</td>\n",
       "      <td>41298</td>\n",
       "      <td>688.300000</td>\n",
       "      <td>11.471667</td>\n",
       "      <td>Present Over Time</td>\n",
       "    </tr>\n",
       "    <tr>\n",
       "      <th>3</th>\n",
       "      <td>2023-12-25</td>\n",
       "      <td>Srikanth</td>\n",
       "      <td>2023-12-25 08:42:23.554919</td>\n",
       "      <td>2023-12-25 20:42:17.528446</td>\n",
       "      <td>Monday</td>\n",
       "      <td>0 days 11:59:53.973527</td>\n",
       "      <td>43193</td>\n",
       "      <td>719.883333</td>\n",
       "      <td>11.998056</td>\n",
       "      <td>Present Over Time</td>\n",
       "    </tr>\n",
       "    <tr>\n",
       "      <th>4</th>\n",
       "      <td>2023-12-25</td>\n",
       "      <td>Test App</td>\n",
       "      <td>NaT</td>\n",
       "      <td>NaT</td>\n",
       "      <td>NaN</td>\n",
       "      <td>0 days 00:00:00</td>\n",
       "      <td>0</td>\n",
       "      <td>0.000000</td>\n",
       "      <td>0.000000</td>\n",
       "      <td>Absent</td>\n",
       "    </tr>\n",
       "    <tr>\n",
       "      <th>...</th>\n",
       "      <td>...</td>\n",
       "      <td>...</td>\n",
       "      <td>...</td>\n",
       "      <td>...</td>\n",
       "      <td>...</td>\n",
       "      <td>...</td>\n",
       "      <td>...</td>\n",
       "      <td>...</td>\n",
       "      <td>...</td>\n",
       "      <td>...</td>\n",
       "    </tr>\n",
       "    <tr>\n",
       "      <th>164</th>\n",
       "      <td>2024-01-09</td>\n",
       "      <td>James Evan</td>\n",
       "      <td>NaT</td>\n",
       "      <td>NaT</td>\n",
       "      <td>NaN</td>\n",
       "      <td>0 days 00:00:00</td>\n",
       "      <td>0</td>\n",
       "      <td>0.000000</td>\n",
       "      <td>0.000000</td>\n",
       "      <td>Absent</td>\n",
       "    </tr>\n",
       "    <tr>\n",
       "      <th>165</th>\n",
       "      <td>2024-01-09</td>\n",
       "      <td>Test App</td>\n",
       "      <td>NaT</td>\n",
       "      <td>NaT</td>\n",
       "      <td>NaN</td>\n",
       "      <td>0 days 00:00:00</td>\n",
       "      <td>0</td>\n",
       "      <td>0.000000</td>\n",
       "      <td>0.000000</td>\n",
       "      <td>Absent</td>\n",
       "    </tr>\n",
       "    <tr>\n",
       "      <th>166</th>\n",
       "      <td>2024-01-09</td>\n",
       "      <td>James Evan</td>\n",
       "      <td>NaT</td>\n",
       "      <td>NaT</td>\n",
       "      <td>NaN</td>\n",
       "      <td>0 days 00:00:00</td>\n",
       "      <td>0</td>\n",
       "      <td>0.000000</td>\n",
       "      <td>0.000000</td>\n",
       "      <td>Absent</td>\n",
       "    </tr>\n",
       "    <tr>\n",
       "      <th>167</th>\n",
       "      <td>2024-01-09</td>\n",
       "      <td>Test App</td>\n",
       "      <td>NaT</td>\n",
       "      <td>NaT</td>\n",
       "      <td>NaN</td>\n",
       "      <td>0 days 00:00:00</td>\n",
       "      <td>0</td>\n",
       "      <td>0.000000</td>\n",
       "      <td>0.000000</td>\n",
       "      <td>Absent</td>\n",
       "    </tr>\n",
       "    <tr>\n",
       "      <th>168</th>\n",
       "      <td>2024-01-09</td>\n",
       "      <td>Juan DelCruz</td>\n",
       "      <td>2024-01-09 11:42:10.439614</td>\n",
       "      <td>2024-01-09 13:47:32.187232</td>\n",
       "      <td>Tuesday</td>\n",
       "      <td>0 days 02:05:21.747618</td>\n",
       "      <td>7521</td>\n",
       "      <td>125.350000</td>\n",
       "      <td>2.089167</td>\n",
       "      <td>Half day less than 4 hours</td>\n",
       "    </tr>\n",
       "  </tbody>\n",
       "</table>\n",
       "<p>169 rows × 10 columns</p>\n",
       "</div>"
      ],
      "text/plain": [
       "          date          Name                    In_time  \\\n",
       "0   2023-12-25       Manasvi 2023-12-25 08:42:17.201489   \n",
       "1   2023-12-25      Srikanth 2023-12-25 08:42:23.554919   \n",
       "2   2023-12-25        Sudhir 2023-12-25 08:42:16.208388   \n",
       "3   2023-12-25      Srikanth 2023-12-25 08:42:23.554919   \n",
       "4   2023-12-25      Test App                        NaT   \n",
       "..         ...           ...                        ...   \n",
       "164 2024-01-09    James Evan                        NaT   \n",
       "165 2024-01-09      Test App                        NaT   \n",
       "166 2024-01-09    James Evan                        NaT   \n",
       "167 2024-01-09      Test App                        NaT   \n",
       "168 2024-01-09  Juan DelCruz 2024-01-09 11:42:10.439614   \n",
       "\n",
       "                      Out_time day_name     Duration_timestamp  \\\n",
       "0   2023-12-25 13:04:26.059946   Monday 0 days 04:22:08.858457   \n",
       "1   2023-12-25 20:42:17.528446   Monday 0 days 11:59:53.973527   \n",
       "2   2023-12-25 20:10:34.242252   Monday 0 days 11:28:18.033864   \n",
       "3   2023-12-25 20:42:17.528446   Monday 0 days 11:59:53.973527   \n",
       "4                          NaT      NaN        0 days 00:00:00   \n",
       "..                         ...      ...                    ...   \n",
       "164                        NaT      NaN        0 days 00:00:00   \n",
       "165                        NaT      NaN        0 days 00:00:00   \n",
       "166                        NaT      NaN        0 days 00:00:00   \n",
       "167                        NaT      NaN        0 days 00:00:00   \n",
       "168 2024-01-09 13:47:32.187232  Tuesday 0 days 02:05:21.747618   \n",
       "\n",
       "     duration_in_seconds  duration_in_minutes  duration_in_hours  \\\n",
       "0                  15728           262.133333           4.368889   \n",
       "1                  43193           719.883333          11.998056   \n",
       "2                  41298           688.300000          11.471667   \n",
       "3                  43193           719.883333          11.998056   \n",
       "4                      0             0.000000           0.000000   \n",
       "..                   ...                  ...                ...   \n",
       "164                    0             0.000000           0.000000   \n",
       "165                    0             0.000000           0.000000   \n",
       "166                    0             0.000000           0.000000   \n",
       "167                    0             0.000000           0.000000   \n",
       "168                 7521           125.350000           2.089167   \n",
       "\n",
       "                         Status  \n",
       "0                      Half Day  \n",
       "1             Present Over Time  \n",
       "2             Present Over Time  \n",
       "3             Present Over Time  \n",
       "4                        Absent  \n",
       "..                          ...  \n",
       "164                      Absent  \n",
       "165                      Absent  \n",
       "166                      Absent  \n",
       "167                      Absent  \n",
       "168  Half day less than 4 hours  \n",
       "\n",
       "[169 rows x 10 columns]"
      ]
     },
     "execution_count": 118,
     "metadata": {},
     "output_type": "execute_result"
    }
   ],
   "source": [
    "date_name_df"
   ]
  },
  {
   "cell_type": "code",
   "execution_count": 1,
   "metadata": {
    "ExecuteTime": {
     "end_time": "2024-01-15T11:39:49.882866800Z",
     "start_time": "2024-01-15T11:39:49.882866800Z"
    },
    "collapsed": false,
    "jupyter": {
     "outputs_hidden": false
    }
   },
   "outputs": [],
   "source": [
    "# simulated logs"
   ]
  },
  {
   "cell_type": "code",
   "execution_count": 6,
   "metadata": {
    "ExecuteTime": {
     "end_time": "2024-01-17T05:05:29.982617200Z",
     "start_time": "2024-01-17T05:05:29.966687900Z"
    },
    "collapsed": false,
    "jupyter": {
     "outputs_hidden": false
    }
   },
   "outputs": [],
   "source": [
    "import redis\n",
    "import pandas as pd\n",
    "import numpy as np\n",
    "from datetime import datetime"
   ]
  },
  {
   "cell_type": "code",
   "execution_count": 7,
   "metadata": {
    "ExecuteTime": {
     "end_time": "2024-01-17T05:05:30.976791700Z",
     "start_time": "2024-01-17T05:05:30.945285400Z"
    },
    "collapsed": false,
    "jupyter": {
     "outputs_hidden": false
    }
   },
   "outputs": [],
   "source": [
    "name = 'attendance:logs'\n",
    "def load_logs(name,end=-1):\n",
    "    logs_list = face_rec.r.lrange(name,start=0,end=end) # extract all data from the redis database\n",
    "    return logs_list"
   ]
  },
  {
   "cell_type": "code",
   "execution_count": 8,
   "metadata": {
    "ExecuteTime": {
     "end_time": "2024-01-17T05:05:47.143165200Z",
     "start_time": "2024-01-17T05:05:33.303758800Z"
    },
    "collapsed": false,
    "jupyter": {
     "outputs_hidden": false
    }
   },
   "outputs": [
    {
     "name": "stdout",
     "output_type": "stream",
     "text": [
      "Applied providers: ['CPUExecutionProvider'], with options: {'CPUExecutionProvider': {}}\n",
      "find model: insightface_model\\models\\buffalo_sc\\det_500m.onnx detection [1, 3, '?', '?'] 127.5 128.0\n",
      "Applied providers: ['CPUExecutionProvider'], with options: {'CPUExecutionProvider': {}}\n",
      "find model: insightface_model\\models\\buffalo_sc\\w600k_mbf.onnx recognition ['None', 3, 112, 112] 127.5 127.5\n",
      "set det-size: (640, 640)\n"
     ]
    }
   ],
   "source": [
    "import face_rec"
   ]
  },
  {
   "cell_type": "code",
   "execution_count": 8,
   "metadata": {
    "ExecuteTime": {
     "end_time": "2024-01-17T05:05:47.143165200Z",
     "start_time": "2024-01-17T05:05:47.095850700Z"
    },
    "collapsed": false,
    "jupyter": {
     "outputs_hidden": false
    }
   },
   "outputs": [],
   "source": []
  },
  {
   "cell_type": "code",
   "execution_count": 9,
   "metadata": {
    "ExecuteTime": {
     "end_time": "2024-01-17T05:05:48.468951Z",
     "start_time": "2024-01-17T05:05:47.096364200Z"
    },
    "collapsed": false,
    "jupyter": {
     "outputs_hidden": false
    }
   },
   "outputs": [],
   "source": [
    "redis_face_db = face_rec.retrive_data(name='academy:register')"
   ]
  },
  {
   "cell_type": "code",
   "execution_count": 10,
   "metadata": {
    "ExecuteTime": {
     "end_time": "2024-01-17T05:05:48.548187700Z",
     "start_time": "2024-01-17T05:05:48.476987600Z"
    },
    "collapsed": false,
    "jupyter": {
     "outputs_hidden": false
    }
   },
   "outputs": [
    {
     "data": {
      "text/html": [
       "<div>\n",
       "<style scoped>\n",
       "    .dataframe tbody tr th:only-of-type {\n",
       "        vertical-align: middle;\n",
       "    }\n",
       "\n",
       "    .dataframe tbody tr th {\n",
       "        vertical-align: top;\n",
       "    }\n",
       "\n",
       "    .dataframe thead th {\n",
       "        text-align: right;\n",
       "    }\n",
       "</style>\n",
       "<table border=\"1\" class=\"dataframe\">\n",
       "  <thead>\n",
       "    <tr style=\"text-align: right;\">\n",
       "      <th></th>\n",
       "      <th>Name</th>\n",
       "      <th>Role</th>\n",
       "      <th>facial_features</th>\n",
       "    </tr>\n",
       "  </thead>\n",
       "  <tbody>\n",
       "    <tr>\n",
       "      <th>0</th>\n",
       "      <td>Sudheer</td>\n",
       "      <td>Student</td>\n",
       "      <td>[-0.49447492, 1.0573035, -0.648432, -0.1251101...</td>\n",
       "    </tr>\n",
       "    <tr>\n",
       "      <th>1</th>\n",
       "      <td>Angelina Jolie</td>\n",
       "      <td>Student</td>\n",
       "      <td>[0.43242034, 1.0748498, -0.12862365, -1.833291...</td>\n",
       "    </tr>\n",
       "    <tr>\n",
       "      <th>2</th>\n",
       "      <td>Chris Evans</td>\n",
       "      <td>Student</td>\n",
       "      <td>[0.7201715, -1.4684149, -0.7781253, -1.4601073...</td>\n",
       "    </tr>\n",
       "    <tr>\n",
       "      <th>3</th>\n",
       "      <td>Scarlett Johansson</td>\n",
       "      <td>Student</td>\n",
       "      <td>[0.19131963, -0.48843804, -1.690233, 0.4423967...</td>\n",
       "    </tr>\n",
       "    <tr>\n",
       "      <th>4</th>\n",
       "      <td>Barack Obama</td>\n",
       "      <td>Teacher</td>\n",
       "      <td>[0.94858104, -0.5584052, 0.094820715, -1.27965...</td>\n",
       "    </tr>\n",
       "    <tr>\n",
       "      <th>5</th>\n",
       "      <td>Morgan Freeman</td>\n",
       "      <td>Teacher</td>\n",
       "      <td>[0.48535103, -0.6192555, -0.4069932, 1.0687788...</td>\n",
       "    </tr>\n",
       "  </tbody>\n",
       "</table>\n",
       "</div>"
      ],
      "text/plain": [
       "                 Name     Role  \\\n",
       "0             Sudheer  Student   \n",
       "1      Angelina Jolie  Student   \n",
       "2         Chris Evans  Student   \n",
       "3  Scarlett Johansson  Student   \n",
       "4        Barack Obama  Teacher   \n",
       "5      Morgan Freeman  Teacher   \n",
       "\n",
       "                                     facial_features  \n",
       "0  [-0.49447492, 1.0573035, -0.648432, -0.1251101...  \n",
       "1  [0.43242034, 1.0748498, -0.12862365, -1.833291...  \n",
       "2  [0.7201715, -1.4684149, -0.7781253, -1.4601073...  \n",
       "3  [0.19131963, -0.48843804, -1.690233, 0.4423967...  \n",
       "4  [0.94858104, -0.5584052, 0.094820715, -1.27965...  \n",
       "5  [0.48535103, -0.6192555, -0.4069932, 1.0687788...  "
      ]
     },
     "execution_count": 10,
     "metadata": {},
     "output_type": "execute_result"
    }
   ],
   "source": [
    "redis_face_db"
   ]
  },
  {
   "cell_type": "code",
   "execution_count": 11,
   "metadata": {
    "ExecuteTime": {
     "end_time": "2024-01-17T05:05:48.548187700Z",
     "start_time": "2024-01-17T05:05:48.540026300Z"
    },
    "collapsed": false,
    "jupyter": {
     "outputs_hidden": false
    }
   },
   "outputs": [],
   "source": [
    "logs = dict(name=[],role=[],current_time=[])\n",
    "current_time = str(datetime.now())"
   ]
  },
  {
   "cell_type": "code",
   "execution_count": 12,
   "metadata": {
    "ExecuteTime": {
     "end_time": "2024-01-17T05:05:48.681349Z",
     "start_time": "2024-01-17T05:05:48.571233Z"
    },
    "collapsed": false,
    "jupyter": {
     "outputs_hidden": false
    }
   },
   "outputs": [
    {
     "data": {
      "text/plain": [
       "datetime.datetime(2024, 1, 17, 10, 35, 48, 571233)"
      ]
     },
     "execution_count": 12,
     "metadata": {},
     "output_type": "execute_result"
    }
   ],
   "source": [
    "datetime.now()"
   ]
  },
  {
   "cell_type": "markdown",
   "metadata": {
    "collapsed": false,
    "jupyter": {
     "outputs_hidden": false
    }
   },
   "source": []
  },
  {
   "cell_type": "code",
   "execution_count": 13,
   "metadata": {
    "ExecuteTime": {
     "end_time": "2024-01-17T05:05:59.476425300Z",
     "start_time": "2024-01-17T05:05:59.429165500Z"
    },
    "collapsed": false,
    "jupyter": {
     "outputs_hidden": false
    }
   },
   "outputs": [
    {
     "data": {
      "text/plain": [
       "'2023-11-01 09:40:53'"
      ]
     },
     "execution_count": 13,
     "metadata": {},
     "output_type": "execute_result"
    }
   ],
   "source": [
    "time_data = \"01-11-2023 09:40:53\"\n",
    "str(datetime.strptime(time_data, \"%d-%m-%Y %H:%M:%S\"))"
   ]
  },
  {
   "cell_type": "code",
   "execution_count": 14,
   "metadata": {
    "ExecuteTime": {
     "end_time": "2024-01-17T05:05:59.745574Z",
     "start_time": "2024-01-17T05:05:59.682121400Z"
    },
    "collapsed": false,
    "jupyter": {
     "outputs_hidden": false
    }
   },
   "outputs": [],
   "source": [
    "x = np.random.exponential(5,1000)"
   ]
  },
  {
   "cell_type": "code",
   "execution_count": 15,
   "metadata": {
    "ExecuteTime": {
     "end_time": "2024-01-17T05:05:59.944030100Z",
     "start_time": "2024-01-17T05:05:59.912340Z"
    },
    "collapsed": false,
    "jupyter": {
     "outputs_hidden": false
    }
   },
   "outputs": [],
   "source": [
    "import matplotlib.pyplot as plt"
   ]
  },
  {
   "cell_type": "code",
   "execution_count": 16,
   "metadata": {
    "ExecuteTime": {
     "end_time": "2024-01-17T05:06:01.147619400Z",
     "start_time": "2024-01-17T05:06:00.148854400Z"
    },
    "collapsed": false,
    "jupyter": {
     "outputs_hidden": false
    }
   },
   "outputs": [
    {
     "data": {
      "image/png": "[encoded data removed]",
      "text/plain": [
       "<Figure size 640x480 with 1 Axes>"
      ]
     },
     "metadata": {},
     "output_type": "display_data"
    }
   ],
   "source": [
    "x = np.random.uniform(1, 60, 1)\n",
    "\n",
    "plt.hist(x, bins=100)\n",
    "plt.show()"
   ]
  },
  {
   "cell_type": "code",
   "execution_count": 17,
   "metadata": {
    "ExecuteTime": {
     "end_time": "2024-01-17T05:06:01.543482800Z",
     "start_time": "2024-01-17T05:06:01.113512300Z"
    },
    "collapsed": false,
    "jupyter": {
     "outputs_hidden": false
    }
   },
   "outputs": [
    {
     "data": {
      "image/png": "[encoded data removed]",
      "text/plain": [
       "<Figure size 640x480 with 1 Axes>"
      ]
     },
     "metadata": {},
     "output_type": "display_data"
    }
   ],
   "source": [
    "x = np.random.normal(0,1,1000)\n",
    "\n",
    "plt.hist(x, bins=100)\n",
    "plt.show()"
   ]
  },
  {
   "cell_type": "code",
   "execution_count": 18,
   "metadata": {
    "ExecuteTime": {
     "end_time": "2024-01-17T05:06:13.062889500Z",
     "start_time": "2024-01-17T05:06:13.031117800Z"
    },
    "collapsed": false,
    "jupyter": {
     "outputs_hidden": false
    }
   },
   "outputs": [
    {
     "name": "stdout",
     "output_type": "stream",
     "text": [
      "01-11-2023 8:30:53 01-11-2023 16:29:15\n"
     ]
    },
    {
     "name": "stderr",
     "output_type": "stream",
     "text": [
      "C:\\Users\\vividpath\\AppData\\Local\\Temp\\ipykernel_3536\\4279093290.py:1: DeprecationWarning: Conversion of an array with ndim > 0 to a scalar is deprecated, and will error in future. Ensure you extract a single element from your array before performing this operation. (Deprecated NumPy 1.25.)\n",
      "  In_time_hr_delta = 8 + int(np.clip(np.random.normal(0,1,1),-1,1))\n",
      "C:\\Users\\vividpath\\AppData\\Local\\Temp\\ipykernel_3536\\4279093290.py:3: DeprecationWarning: Conversion of an array with ndim > 0 to a scalar is deprecated, and will error in future. Ensure you extract a single element from your array before performing this operation. (Deprecated NumPy 1.25.)\n",
      "  In_time_sec_delta = int(np.random.uniform(1, 60, 1))\n",
      "C:\\Users\\vividpath\\AppData\\Local\\Temp\\ipykernel_3536\\4279093290.py:5: DeprecationWarning: Conversion of an array with ndim > 0 to a scalar is deprecated, and will error in future. Ensure you extract a single element from your array before performing this operation. (Deprecated NumPy 1.25.)\n",
      "  Out_time_hr_delta = 16 + int(np.clip(np.random.normal(0,0.7,1), -4 , 2))\n",
      "C:\\Users\\vividpath\\AppData\\Local\\Temp\\ipykernel_3536\\4279093290.py:7: DeprecationWarning: Conversion of an array with ndim > 0 to a scalar is deprecated, and will error in future. Ensure you extract a single element from your array before performing this operation. (Deprecated NumPy 1.25.)\n",
      "  Out_time_sec_delta = int(np.random.uniform(1, 60, 1))\n"
     ]
    }
   ],
   "source": [
    "In_time_hr_delta = 8 + int(np.clip(np.random.normal(0,1,1),-1,1))\n",
    "In_time_min_delta = int(np.floor(20 + np.random.normal(0,5,1))[0])\n",
    "In_time_sec_delta = int(np.random.uniform(1, 60, 1))\n",
    "\n",
    "Out_time_hr_delta = 16 + int(np.clip(np.random.normal(0,0.7,1), -4 , 2))\n",
    "Out_time_min_delta = int(np.floor(30 + np.random.normal(0,5,1))[0])\n",
    "Out_time_sec_delta = int(np.random.uniform(1, 60, 1))\n",
    "\n",
    "\n",
    "\n",
    "\n",
    "in_time_d = f\"01-11-2023 {In_time_hr_delta}:{In_time_min_delta}:{In_time_sec_delta}\"\n",
    "out_time_d = f\"01-11-2023 {Out_time_hr_delta}:{Out_time_min_delta}:{Out_time_sec_delta}\"\n",
    "# str(datetime.strptime(time_data, \"%d-%m-%Y %H:%M:%S\"))\n",
    "\n",
    "print(in_time_d, out_time_d)"
   ]
  },
  {
   "cell_type": "code",
   "execution_count": 19,
   "metadata": {
    "ExecuteTime": {
     "end_time": "2024-01-17T05:06:13.656895900Z",
     "start_time": "2024-01-17T05:06:13.601116800Z"
    },
    "collapsed": false,
    "jupyter": {
     "outputs_hidden": false
    }
   },
   "outputs": [],
   "source": [
    "name_roles = list(map(lambda x: \"@\".join(x), redis_face_db[['Name','Role']].values.tolist()))"
   ]
  },
  {
   "cell_type": "code",
   "execution_count": 20,
   "metadata": {
    "ExecuteTime": {
     "end_time": "2024-01-17T05:06:14.121296700Z",
     "start_time": "2024-01-17T05:06:14.105194100Z"
    },
    "collapsed": false,
    "jupyter": {
     "outputs_hidden": false
    }
   },
   "outputs": [
    {
     "data": {
      "text/plain": [
       "['Sudheer@Student',\n",
       " 'Angelina Jolie@Student',\n",
       " 'Chris Evans@Student',\n",
       " 'Scarlett Johansson@Student',\n",
       " 'Barack Obama@Teacher',\n",
       " 'Morgan Freeman@Teacher']"
      ]
     },
     "execution_count": 20,
     "metadata": {},
     "output_type": "execute_result"
    }
   ],
   "source": [
    "name_roles"
   ]
  },
  {
   "cell_type": "code",
   "execution_count": 21,
   "metadata": {
    "ExecuteTime": {
     "end_time": "2024-01-17T05:06:19.920505400Z",
     "start_time": "2024-01-17T05:06:19.768311Z"
    },
    "collapsed": false,
    "jupyter": {
     "outputs_hidden": false
    }
   },
   "outputs": [],
   "source": [
    "date_range = pd.date_range('2023-11-01', '2024-01-15').astype('str').values.tolist()"
   ]
  },
  {
   "cell_type": "code",
   "execution_count": 22,
   "metadata": {
    "ExecuteTime": {
     "end_time": "2024-01-17T05:06:23.452540Z",
     "start_time": "2024-01-17T05:06:23.433423900Z"
    },
    "collapsed": false,
    "jupyter": {
     "outputs_hidden": false
    }
   },
   "outputs": [],
   "source": [
    "def generate_dt():\n",
    "    In_time_hr_delta = 8 + int(np.clip(np.random.normal(0,1,1),-1,1))\n",
    "    In_time_min_delta = int(np.floor(20 + np.random.normal(0,5,1))[0])\n",
    "    In_time_sec_delta = int(np.random.uniform(1, 60, 1))\n",
    "\n",
    "    Out_time_hr_delta = 16 + int(np.clip(np.random.normal(0,0.7,1), -4 , 2))\n",
    "    Out_time_min_delta = int(np.floor(30 + np.random.normal(0,5,1))[0])\n",
    "    Out_time_sec_delta = int(np.random.uniform(1, 60, 1))\n",
    "\n",
    "    in_time_d = f\"{In_time_hr_delta}:{In_time_min_delta}:{In_time_sec_delta}\"\n",
    "    out_time_d = f\"{Out_time_hr_delta}:{Out_time_min_delta}:{Out_time_sec_delta}\"\n",
    "\n",
    "    return in_time_d, out_time_d\n"
   ]
  },
  {
   "cell_type": "code",
   "execution_count": 23,
   "metadata": {
    "ExecuteTime": {
     "end_time": "2024-01-17T05:06:25.772038300Z",
     "start_time": "2024-01-17T05:06:24.289126600Z"
    },
    "collapsed": false,
    "jupyter": {
     "outputs_hidden": false
    }
   },
   "outputs": [
    {
     "ename": "NameError",
     "evalue": "name 'dt' is not defined",
     "output_type": "error",
     "traceback": [
      "\u001B[1;31m---------------------------------------------------------------------------\u001B[0m",
      "\u001B[1;31mNameError\u001B[0m                                 Traceback (most recent call last)",
      "Cell \u001B[1;32mIn[23], line 1\u001B[0m\n\u001B[1;32m----> 1\u001B[0m \u001B[43mdt\u001B[49m\n",
      "\u001B[1;31mNameError\u001B[0m: name 'dt' is not defined"
     ]
    }
   ],
   "source": [
    "dt"
   ]
  },
  {
   "cell_type": "code",
   "execution_count": 24,
   "metadata": {
    "ExecuteTime": {
     "end_time": "2024-01-17T05:06:26.715213Z",
     "start_time": "2024-01-17T05:06:26.401115500Z"
    },
    "collapsed": false,
    "jupyter": {
     "outputs_hidden": false
    }
   },
   "outputs": [
    {
     "name": "stderr",
     "output_type": "stream",
     "text": [
      "C:\\Users\\vividpath\\AppData\\Local\\Temp\\ipykernel_3536\\2783482415.py:2: DeprecationWarning: Conversion of an array with ndim > 0 to a scalar is deprecated, and will error in future. Ensure you extract a single element from your array before performing this operation. (Deprecated NumPy 1.25.)\n",
      "  In_time_hr_delta = 8 + int(np.clip(np.random.normal(0,1,1),-1,1))\n",
      "C:\\Users\\vividpath\\AppData\\Local\\Temp\\ipykernel_3536\\2783482415.py:4: DeprecationWarning: Conversion of an array with ndim > 0 to a scalar is deprecated, and will error in future. Ensure you extract a single element from your array before performing this operation. (Deprecated NumPy 1.25.)\n",
      "  In_time_sec_delta = int(np.random.uniform(1, 60, 1))\n",
      "C:\\Users\\vividpath\\AppData\\Local\\Temp\\ipykernel_3536\\2783482415.py:6: DeprecationWarning: Conversion of an array with ndim > 0 to a scalar is deprecated, and will error in future. Ensure you extract a single element from your array before performing this operation. (Deprecated NumPy 1.25.)\n",
      "  Out_time_hr_delta = 16 + int(np.clip(np.random.normal(0,0.7,1), -4 , 2))\n",
      "C:\\Users\\vividpath\\AppData\\Local\\Temp\\ipykernel_3536\\2783482415.py:8: DeprecationWarning: Conversion of an array with ndim > 0 to a scalar is deprecated, and will error in future. Ensure you extract a single element from your array before performing this operation. (Deprecated NumPy 1.25.)\n",
      "  Out_time_sec_delta = int(np.random.uniform(1, 60, 1))\n"
     ]
    }
   ],
   "source": [
    "logs_list = []\n",
    "for dt in date_range:\n",
    "    for name in name_roles:\n",
    "\n",
    "        for i in range(np.random.randint(1, 12)):\n",
    "            in_t, out_t = generate_dt()\n",
    "\n",
    "            time_data_in = f\"{dt} {in_t}\"\n",
    "            time_data_out = f\"{dt} {out_t}\"\n",
    "\n",
    "            in_str = str(datetime.strptime(time_data_in, \"%Y-%m-%d %H:%M:%S\"))\n",
    "            out_str = str(datetime.strptime(time_data_out, \"%Y-%m-%d %H:%M:%S\"))\n",
    "\n",
    "            logs_list.append([\"@\".join([name, in_str]), in_str])\n",
    "            logs_list.append([\"@\".join([name, out_str]), out_str])\n",
    "\n"
   ]
  },
  {
   "cell_type": "code",
   "execution_count": 26,
   "metadata": {
    "ExecuteTime": {
     "end_time": "2024-01-17T05:06:39.436571100Z",
     "start_time": "2024-01-17T05:06:39.342224500Z"
    },
    "collapsed": false,
    "jupyter": {
     "outputs_hidden": false
    }
   },
   "outputs": [
    {
     "data": {
      "text/plain": [
       "[['Sudheer@Student@2023-11-01 08:16:19', '2023-11-01 08:16:19'],\n",
       " ['Sudheer@Student@2023-11-01 16:35:24', '2023-11-01 16:35:24'],\n",
       " ['Sudheer@Student@2023-11-01 08:19:41', '2023-11-01 08:19:41'],\n",
       " ['Sudheer@Student@2023-11-01 16:31:26', '2023-11-01 16:31:26'],\n",
       " ['Sudheer@Student@2023-11-01 08:24:57', '2023-11-01 08:24:57'],\n",
       " ['Sudheer@Student@2023-11-01 17:28:13', '2023-11-01 17:28:13'],\n",
       " ['Sudheer@Student@2023-11-01 08:19:29', '2023-11-01 08:19:29'],\n",
       " ['Sudheer@Student@2023-11-01 17:32:21', '2023-11-01 17:32:21'],\n",
       " ['Angelina Jolie@Student@2023-11-01 08:19:58', '2023-11-01 08:19:58'],\n",
       " ['Angelina Jolie@Student@2023-11-01 15:31:58', '2023-11-01 15:31:58'],\n",
       " ['Angelina Jolie@Student@2023-11-01 08:15:44', '2023-11-01 08:15:44'],\n",
       " ['Angelina Jolie@Student@2023-11-01 16:26:40', '2023-11-01 16:26:40'],\n",
       " ['Chris Evans@Student@2023-11-01 08:21:39', '2023-11-01 08:21:39'],\n",
       " ['Chris Evans@Student@2023-11-01 16:34:52', '2023-11-01 16:34:52'],\n",
       " ['Scarlett Johansson@Student@2023-11-01 08:23:33', '2023-11-01 08:23:33'],\n",
       " ['Scarlett Johansson@Student@2023-11-01 16:27:28', '2023-11-01 16:27:28'],\n",
       " ['Scarlett Johansson@Student@2023-11-01 08:22:55', '2023-11-01 08:22:55'],\n",
       " ['Scarlett Johansson@Student@2023-11-01 16:36:01', '2023-11-01 16:36:01'],\n",
       " ['Scarlett Johansson@Student@2023-11-01 08:16:50', '2023-11-01 08:16:50'],\n",
       " ['Scarlett Johansson@Student@2023-11-01 16:30:21', '2023-11-01 16:30:21'],\n",
       " ['Barack Obama@Teacher@2023-11-01 08:13:11', '2023-11-01 08:13:11'],\n",
       " ['Barack Obama@Teacher@2023-11-01 16:39:49', '2023-11-01 16:39:49'],\n",
       " ['Barack Obama@Teacher@2023-11-01 08:19:01', '2023-11-01 08:19:01'],\n",
       " ['Barack Obama@Teacher@2023-11-01 15:26:52', '2023-11-01 15:26:52'],\n",
       " ['Barack Obama@Teacher@2023-11-01 08:17:45', '2023-11-01 08:17:45'],\n",
       " ['Barack Obama@Teacher@2023-11-01 16:28:32', '2023-11-01 16:28:32'],\n",
       " ['Barack Obama@Teacher@2023-11-01 08:28:15', '2023-11-01 08:28:15'],\n",
       " ['Barack Obama@Teacher@2023-11-01 16:31:56', '2023-11-01 16:31:56'],\n",
       " ['Barack Obama@Teacher@2023-11-01 09:25:36', '2023-11-01 09:25:36'],\n",
       " ['Barack Obama@Teacher@2023-11-01 15:22:49', '2023-11-01 15:22:49'],\n",
       " ['Barack Obama@Teacher@2023-11-01 08:27:59', '2023-11-01 08:27:59'],\n",
       " ['Barack Obama@Teacher@2023-11-01 16:29:46', '2023-11-01 16:29:46'],\n",
       " ['Barack Obama@Teacher@2023-11-01 08:17:22', '2023-11-01 08:17:22'],\n",
       " ['Barack Obama@Teacher@2023-11-01 16:25:49', '2023-11-01 16:25:49'],\n",
       " ['Barack Obama@Teacher@2023-11-01 08:29:51', '2023-11-01 08:29:51'],\n",
       " ['Barack Obama@Teacher@2023-11-01 16:28:34', '2023-11-01 16:28:34'],\n",
       " ['Barack Obama@Teacher@2023-11-01 09:15:35', '2023-11-01 09:15:35'],\n",
       " ['Barack Obama@Teacher@2023-11-01 16:23:05', '2023-11-01 16:23:05'],\n",
       " ['Barack Obama@Teacher@2023-11-01 08:16:33', '2023-11-01 08:16:33'],\n",
       " ['Barack Obama@Teacher@2023-11-01 16:30:55', '2023-11-01 16:30:55'],\n",
       " ['Barack Obama@Teacher@2023-11-01 08:24:53', '2023-11-01 08:24:53'],\n",
       " ['Barack Obama@Teacher@2023-11-01 17:30:04', '2023-11-01 17:30:04'],\n",
       " ['Morgan Freeman@Teacher@2023-11-01 08:28:06', '2023-11-01 08:28:06'],\n",
       " ['Morgan Freeman@Teacher@2023-11-01 16:30:25', '2023-11-01 16:30:25'],\n",
       " ['Morgan Freeman@Teacher@2023-11-01 08:11:25', '2023-11-01 08:11:25'],\n",
       " ['Morgan Freeman@Teacher@2023-11-01 16:38:44', '2023-11-01 16:38:44'],\n",
       " ['Morgan Freeman@Teacher@2023-11-01 07:14:45', '2023-11-01 07:14:45'],\n",
       " ['Morgan Freeman@Teacher@2023-11-01 16:27:48', '2023-11-01 16:27:48'],\n",
       " ['Morgan Freeman@Teacher@2023-11-01 08:24:04', '2023-11-01 08:24:04'],\n",
       " ['Morgan Freeman@Teacher@2023-11-01 16:19:58', '2023-11-01 16:19:58'],\n",
       " ['Morgan Freeman@Teacher@2023-11-01 08:20:47', '2023-11-01 08:20:47'],\n",
       " ['Morgan Freeman@Teacher@2023-11-01 16:41:21', '2023-11-01 16:41:21'],\n",
       " ['Morgan Freeman@Teacher@2023-11-01 08:19:14', '2023-11-01 08:19:14'],\n",
       " ['Morgan Freeman@Teacher@2023-11-01 16:34:12', '2023-11-01 16:34:12'],\n",
       " ['Sudheer@Student@2023-11-02 08:21:37', '2023-11-02 08:21:37'],\n",
       " ['Sudheer@Student@2023-11-02 16:30:54', '2023-11-02 16:30:54'],\n",
       " ['Sudheer@Student@2023-11-02 08:25:46', '2023-11-02 08:25:46'],\n",
       " ['Sudheer@Student@2023-11-02 16:27:02', '2023-11-02 16:27:02'],\n",
       " ['Sudheer@Student@2023-11-02 09:14:28', '2023-11-02 09:14:28'],\n",
       " ['Sudheer@Student@2023-11-02 16:29:56', '2023-11-02 16:29:56'],\n",
       " ['Sudheer@Student@2023-11-02 08:21:42', '2023-11-02 08:21:42'],\n",
       " ['Sudheer@Student@2023-11-02 16:31:15', '2023-11-02 16:31:15'],\n",
       " ['Sudheer@Student@2023-11-02 08:19:32', '2023-11-02 08:19:32'],\n",
       " ['Sudheer@Student@2023-11-02 16:30:18', '2023-11-02 16:30:18'],\n",
       " ['Angelina Jolie@Student@2023-11-02 08:18:09', '2023-11-02 08:18:09'],\n",
       " ['Angelina Jolie@Student@2023-11-02 16:27:37', '2023-11-02 16:27:37'],\n",
       " ['Angelina Jolie@Student@2023-11-02 09:14:52', '2023-11-02 09:14:52'],\n",
       " ['Angelina Jolie@Student@2023-11-02 16:31:09', '2023-11-02 16:31:09'],\n",
       " ['Angelina Jolie@Student@2023-11-02 08:16:16', '2023-11-02 08:16:16'],\n",
       " ['Angelina Jolie@Student@2023-11-02 16:22:43', '2023-11-02 16:22:43'],\n",
       " ['Angelina Jolie@Student@2023-11-02 08:20:25', '2023-11-02 08:20:25'],\n",
       " ['Angelina Jolie@Student@2023-11-02 16:27:43', '2023-11-02 16:27:43'],\n",
       " ['Angelina Jolie@Student@2023-11-02 09:19:25', '2023-11-02 09:19:25'],\n",
       " ['Angelina Jolie@Student@2023-11-02 16:18:19', '2023-11-02 16:18:19'],\n",
       " ['Angelina Jolie@Student@2023-11-02 08:15:57', '2023-11-02 08:15:57'],\n",
       " ['Angelina Jolie@Student@2023-11-02 16:23:47', '2023-11-02 16:23:47'],\n",
       " ['Angelina Jolie@Student@2023-11-02 08:20:18', '2023-11-02 08:20:18'],\n",
       " ['Angelina Jolie@Student@2023-11-02 16:27:49', '2023-11-02 16:27:49'],\n",
       " ['Angelina Jolie@Student@2023-11-02 08:20:25', '2023-11-02 08:20:25'],\n",
       " ['Angelina Jolie@Student@2023-11-02 16:30:59', '2023-11-02 16:30:59'],\n",
       " ['Angelina Jolie@Student@2023-11-02 08:21:37', '2023-11-02 08:21:37'],\n",
       " ['Angelina Jolie@Student@2023-11-02 16:25:54', '2023-11-02 16:25:54'],\n",
       " ['Angelina Jolie@Student@2023-11-02 08:35:40', '2023-11-02 08:35:40'],\n",
       " ['Angelina Jolie@Student@2023-11-02 16:25:32', '2023-11-02 16:25:32'],\n",
       " ['Angelina Jolie@Student@2023-11-02 08:20:47', '2023-11-02 08:20:47'],\n",
       " ['Angelina Jolie@Student@2023-11-02 16:26:59', '2023-11-02 16:26:59'],\n",
       " ['Chris Evans@Student@2023-11-02 09:19:59', '2023-11-02 09:19:59'],\n",
       " ['Chris Evans@Student@2023-11-02 16:33:04', '2023-11-02 16:33:04'],\n",
       " ['Chris Evans@Student@2023-11-02 07:25:57', '2023-11-02 07:25:57'],\n",
       " ['Chris Evans@Student@2023-11-02 16:31:55', '2023-11-02 16:31:55'],\n",
       " ['Chris Evans@Student@2023-11-02 08:13:24', '2023-11-02 08:13:24'],\n",
       " ['Chris Evans@Student@2023-11-02 16:28:31', '2023-11-02 16:28:31'],\n",
       " ['Chris Evans@Student@2023-11-02 08:21:08', '2023-11-02 08:21:08'],\n",
       " ['Chris Evans@Student@2023-11-02 15:19:09', '2023-11-02 15:19:09'],\n",
       " ['Chris Evans@Student@2023-11-02 08:25:33', '2023-11-02 08:25:33'],\n",
       " ['Chris Evans@Student@2023-11-02 16:27:25', '2023-11-02 16:27:25'],\n",
       " ['Chris Evans@Student@2023-11-02 08:17:05', '2023-11-02 08:17:05'],\n",
       " ['Chris Evans@Student@2023-11-02 16:31:26', '2023-11-02 16:31:26'],\n",
       " ['Scarlett Johansson@Student@2023-11-02 09:15:05', '2023-11-02 09:15:05'],\n",
       " ['Scarlett Johansson@Student@2023-11-02 16:22:30', '2023-11-02 16:22:30'],\n",
       " ['Scarlett Johansson@Student@2023-11-02 08:17:31', '2023-11-02 08:17:31'],\n",
       " ['Scarlett Johansson@Student@2023-11-02 16:24:15', '2023-11-02 16:24:15'],\n",
       " ['Scarlett Johansson@Student@2023-11-02 08:26:41', '2023-11-02 08:26:41'],\n",
       " ['Scarlett Johansson@Student@2023-11-02 16:33:59', '2023-11-02 16:33:59'],\n",
       " ['Scarlett Johansson@Student@2023-11-02 08:14:24', '2023-11-02 08:14:24'],\n",
       " ['Scarlett Johansson@Student@2023-11-02 17:33:02', '2023-11-02 17:33:02'],\n",
       " ['Scarlett Johansson@Student@2023-11-02 08:24:56', '2023-11-02 08:24:56'],\n",
       " ['Scarlett Johansson@Student@2023-11-02 16:23:41', '2023-11-02 16:23:41'],\n",
       " ['Scarlett Johansson@Student@2023-11-02 08:21:06', '2023-11-02 08:21:06'],\n",
       " ['Scarlett Johansson@Student@2023-11-02 16:26:22', '2023-11-02 16:26:22'],\n",
       " ['Scarlett Johansson@Student@2023-11-02 08:23:43', '2023-11-02 08:23:43'],\n",
       " ['Scarlett Johansson@Student@2023-11-02 16:38:25', '2023-11-02 16:38:25'],\n",
       " ['Scarlett Johansson@Student@2023-11-02 08:22:29', '2023-11-02 08:22:29'],\n",
       " ['Scarlett Johansson@Student@2023-11-02 16:34:22', '2023-11-02 16:34:22'],\n",
       " ['Scarlett Johansson@Student@2023-11-02 09:26:35', '2023-11-02 09:26:35'],\n",
       " ['Scarlett Johansson@Student@2023-11-02 16:33:54', '2023-11-02 16:33:54'],\n",
       " ['Scarlett Johansson@Student@2023-11-02 09:24:23', '2023-11-02 09:24:23'],\n",
       " ['Scarlett Johansson@Student@2023-11-02 16:34:40', '2023-11-02 16:34:40'],\n",
       " ['Scarlett Johansson@Student@2023-11-02 08:13:54', '2023-11-02 08:13:54'],\n",
       " ['Scarlett Johansson@Student@2023-11-02 16:27:44', '2023-11-02 16:27:44'],\n",
       " ['Barack Obama@Teacher@2023-11-02 09:14:23', '2023-11-02 09:14:23'],\n",
       " ['Barack Obama@Teacher@2023-11-02 16:40:35', '2023-11-02 16:40:35'],\n",
       " ['Barack Obama@Teacher@2023-11-02 08:21:27', '2023-11-02 08:21:27'],\n",
       " ['Barack Obama@Teacher@2023-11-02 16:21:33', '2023-11-02 16:21:33'],\n",
       " ['Barack Obama@Teacher@2023-11-02 08:22:37', '2023-11-02 08:22:37'],\n",
       " ['Barack Obama@Teacher@2023-11-02 16:29:55', '2023-11-02 16:29:55'],\n",
       " ['Barack Obama@Teacher@2023-11-02 09:17:26', '2023-11-02 09:17:26'],\n",
       " ['Barack Obama@Teacher@2023-11-02 16:33:30', '2023-11-02 16:33:30'],\n",
       " ['Barack Obama@Teacher@2023-11-02 09:16:47', '2023-11-02 09:16:47'],\n",
       " ['Barack Obama@Teacher@2023-11-02 16:27:41', '2023-11-02 16:27:41'],\n",
       " ['Barack Obama@Teacher@2023-11-02 07:19:43', '2023-11-02 07:19:43'],\n",
       " ['Barack Obama@Teacher@2023-11-02 16:35:58', '2023-11-02 16:35:58'],\n",
       " ['Barack Obama@Teacher@2023-11-02 08:16:25', '2023-11-02 08:16:25'],\n",
       " ['Barack Obama@Teacher@2023-11-02 16:32:25', '2023-11-02 16:32:25'],\n",
       " ['Barack Obama@Teacher@2023-11-02 08:24:37', '2023-11-02 08:24:37'],\n",
       " ['Barack Obama@Teacher@2023-11-02 15:33:50', '2023-11-02 15:33:50'],\n",
       " ['Barack Obama@Teacher@2023-11-02 07:20:26', '2023-11-02 07:20:26'],\n",
       " ['Barack Obama@Teacher@2023-11-02 16:32:47', '2023-11-02 16:32:47'],\n",
       " ['Barack Obama@Teacher@2023-11-02 09:17:17', '2023-11-02 09:17:17'],\n",
       " ['Barack Obama@Teacher@2023-11-02 16:29:22', '2023-11-02 16:29:22'],\n",
       " ['Morgan Freeman@Teacher@2023-11-02 08:16:56', '2023-11-02 08:16:56'],\n",
       " ['Morgan Freeman@Teacher@2023-11-02 16:26:18', '2023-11-02 16:26:18'],\n",
       " ['Morgan Freeman@Teacher@2023-11-02 08:27:23', '2023-11-02 08:27:23'],\n",
       " ['Morgan Freeman@Teacher@2023-11-02 15:34:20', '2023-11-02 15:34:20'],\n",
       " ['Morgan Freeman@Teacher@2023-11-02 08:22:24', '2023-11-02 08:22:24'],\n",
       " ['Morgan Freeman@Teacher@2023-11-02 16:38:24', '2023-11-02 16:38:24'],\n",
       " ['Morgan Freeman@Teacher@2023-11-02 07:17:45', '2023-11-02 07:17:45'],\n",
       " ['Morgan Freeman@Teacher@2023-11-02 17:30:44', '2023-11-02 17:30:44'],\n",
       " ['Morgan Freeman@Teacher@2023-11-02 08:24:56', '2023-11-02 08:24:56'],\n",
       " ['Morgan Freeman@Teacher@2023-11-02 16:31:29', '2023-11-02 16:31:29'],\n",
       " ['Morgan Freeman@Teacher@2023-11-02 08:20:02', '2023-11-02 08:20:02'],\n",
       " ['Morgan Freeman@Teacher@2023-11-02 17:26:02', '2023-11-02 17:26:02'],\n",
       " ['Morgan Freeman@Teacher@2023-11-02 07:28:04', '2023-11-02 07:28:04'],\n",
       " ['Morgan Freeman@Teacher@2023-11-02 17:22:28', '2023-11-02 17:22:28'],\n",
       " ['Sudheer@Student@2023-11-03 07:25:10', '2023-11-03 07:25:10'],\n",
       " ['Sudheer@Student@2023-11-03 16:32:01', '2023-11-03 16:32:01'],\n",
       " ['Sudheer@Student@2023-11-03 08:22:23', '2023-11-03 08:22:23'],\n",
       " ['Sudheer@Student@2023-11-03 16:26:13', '2023-11-03 16:26:13'],\n",
       " ['Sudheer@Student@2023-11-03 09:19:46', '2023-11-03 09:19:46'],\n",
       " ['Sudheer@Student@2023-11-03 16:22:19', '2023-11-03 16:22:19'],\n",
       " ['Sudheer@Student@2023-11-03 09:19:21', '2023-11-03 09:19:21'],\n",
       " ['Sudheer@Student@2023-11-03 16:22:20', '2023-11-03 16:22:20'],\n",
       " ['Sudheer@Student@2023-11-03 09:17:19', '2023-11-03 09:17:19'],\n",
       " ['Sudheer@Student@2023-11-03 16:43:24', '2023-11-03 16:43:24'],\n",
       " ['Sudheer@Student@2023-11-03 08:16:20', '2023-11-03 08:16:20'],\n",
       " ['Sudheer@Student@2023-11-03 16:35:36', '2023-11-03 16:35:36'],\n",
       " ['Sudheer@Student@2023-11-03 07:18:55', '2023-11-03 07:18:55'],\n",
       " ['Sudheer@Student@2023-11-03 16:39:07', '2023-11-03 16:39:07'],\n",
       " ['Sudheer@Student@2023-11-03 08:22:18', '2023-11-03 08:22:18'],\n",
       " ['Sudheer@Student@2023-11-03 16:31:02', '2023-11-03 16:31:02'],\n",
       " ['Sudheer@Student@2023-11-03 07:15:01', '2023-11-03 07:15:01'],\n",
       " ['Sudheer@Student@2023-11-03 16:22:26', '2023-11-03 16:22:26'],\n",
       " ['Sudheer@Student@2023-11-03 08:27:05', '2023-11-03 08:27:05'],\n",
       " ['Sudheer@Student@2023-11-03 15:27:54', '2023-11-03 15:27:54'],\n",
       " ['Angelina Jolie@Student@2023-11-03 08:20:46', '2023-11-03 08:20:46'],\n",
       " ['Angelina Jolie@Student@2023-11-03 17:36:35', '2023-11-03 17:36:35'],\n",
       " ['Angelina Jolie@Student@2023-11-03 08:22:57', '2023-11-03 08:22:57'],\n",
       " ['Angelina Jolie@Student@2023-11-03 16:31:36', '2023-11-03 16:31:36'],\n",
       " ['Angelina Jolie@Student@2023-11-03 08:18:52', '2023-11-03 08:18:52'],\n",
       " ['Angelina Jolie@Student@2023-11-03 16:27:55', '2023-11-03 16:27:55'],\n",
       " ['Angelina Jolie@Student@2023-11-03 08:16:02', '2023-11-03 08:16:02'],\n",
       " ['Angelina Jolie@Student@2023-11-03 17:31:56', '2023-11-03 17:31:56'],\n",
       " ['Angelina Jolie@Student@2023-11-03 08:11:43', '2023-11-03 08:11:43'],\n",
       " ['Angelina Jolie@Student@2023-11-03 17:28:33', '2023-11-03 17:28:33'],\n",
       " ['Angelina Jolie@Student@2023-11-03 08:13:43', '2023-11-03 08:13:43'],\n",
       " ['Angelina Jolie@Student@2023-11-03 16:29:17', '2023-11-03 16:29:17'],\n",
       " ['Angelina Jolie@Student@2023-11-03 08:21:53', '2023-11-03 08:21:53'],\n",
       " ['Angelina Jolie@Student@2023-11-03 16:26:56', '2023-11-03 16:26:56'],\n",
       " ['Angelina Jolie@Student@2023-11-03 09:12:38', '2023-11-03 09:12:38'],\n",
       " ['Angelina Jolie@Student@2023-11-03 16:31:02', '2023-11-03 16:31:02'],\n",
       " ['Angelina Jolie@Student@2023-11-03 08:17:54', '2023-11-03 08:17:54'],\n",
       " ['Angelina Jolie@Student@2023-11-03 16:36:49', '2023-11-03 16:36:49'],\n",
       " ['Angelina Jolie@Student@2023-11-03 08:15:27', '2023-11-03 08:15:27'],\n",
       " ['Angelina Jolie@Student@2023-11-03 16:30:30', '2023-11-03 16:30:30'],\n",
       " ['Angelina Jolie@Student@2023-11-03 08:20:45', '2023-11-03 08:20:45'],\n",
       " ['Angelina Jolie@Student@2023-11-03 16:32:04', '2023-11-03 16:32:04'],\n",
       " ['Chris Evans@Student@2023-11-03 08:22:14', '2023-11-03 08:22:14'],\n",
       " ['Chris Evans@Student@2023-11-03 16:35:11', '2023-11-03 16:35:11'],\n",
       " ['Scarlett Johansson@Student@2023-11-03 08:21:01', '2023-11-03 08:21:01'],\n",
       " ['Scarlett Johansson@Student@2023-11-03 16:24:53', '2023-11-03 16:24:53'],\n",
       " ['Scarlett Johansson@Student@2023-11-03 08:19:24', '2023-11-03 08:19:24'],\n",
       " ['Scarlett Johansson@Student@2023-11-03 16:37:06', '2023-11-03 16:37:06'],\n",
       " ['Scarlett Johansson@Student@2023-11-03 09:29:54', '2023-11-03 09:29:54'],\n",
       " ['Scarlett Johansson@Student@2023-11-03 16:28:41', '2023-11-03 16:28:41'],\n",
       " ['Scarlett Johansson@Student@2023-11-03 08:14:42', '2023-11-03 08:14:42'],\n",
       " ['Scarlett Johansson@Student@2023-11-03 16:28:59', '2023-11-03 16:28:59'],\n",
       " ['Scarlett Johansson@Student@2023-11-03 08:21:01', '2023-11-03 08:21:01'],\n",
       " ['Scarlett Johansson@Student@2023-11-03 16:27:55', '2023-11-03 16:27:55'],\n",
       " ['Scarlett Johansson@Student@2023-11-03 08:23:30', '2023-11-03 08:23:30'],\n",
       " ['Scarlett Johansson@Student@2023-11-03 16:32:17', '2023-11-03 16:32:17'],\n",
       " ['Barack Obama@Teacher@2023-11-03 08:25:55', '2023-11-03 08:25:55'],\n",
       " ['Barack Obama@Teacher@2023-11-03 16:22:41', '2023-11-03 16:22:41'],\n",
       " ['Barack Obama@Teacher@2023-11-03 08:19:32', '2023-11-03 08:19:32'],\n",
       " ['Barack Obama@Teacher@2023-11-03 16:36:46', '2023-11-03 16:36:46'],\n",
       " ['Barack Obama@Teacher@2023-11-03 09:24:12', '2023-11-03 09:24:12'],\n",
       " ['Barack Obama@Teacher@2023-11-03 16:28:51', '2023-11-03 16:28:51'],\n",
       " ['Morgan Freeman@Teacher@2023-11-03 09:27:05', '2023-11-03 09:27:05'],\n",
       " ['Morgan Freeman@Teacher@2023-11-03 16:32:32', '2023-11-03 16:32:32'],\n",
       " ['Morgan Freeman@Teacher@2023-11-03 08:16:16', '2023-11-03 08:16:16'],\n",
       " ['Morgan Freeman@Teacher@2023-11-03 17:24:34', '2023-11-03 17:24:34'],\n",
       " ['Morgan Freeman@Teacher@2023-11-03 08:16:27', '2023-11-03 08:16:27'],\n",
       " ['Morgan Freeman@Teacher@2023-11-03 16:27:54', '2023-11-03 16:27:54'],\n",
       " ['Morgan Freeman@Teacher@2023-11-03 08:15:21', '2023-11-03 08:15:21'],\n",
       " ['Morgan Freeman@Teacher@2023-11-03 16:26:12', '2023-11-03 16:26:12'],\n",
       " ['Morgan Freeman@Teacher@2023-11-03 08:17:41', '2023-11-03 08:17:41'],\n",
       " ['Morgan Freeman@Teacher@2023-11-03 16:36:31', '2023-11-03 16:36:31'],\n",
       " ['Morgan Freeman@Teacher@2023-11-03 08:18:40', '2023-11-03 08:18:40'],\n",
       " ['Morgan Freeman@Teacher@2023-11-03 16:23:41', '2023-11-03 16:23:41'],\n",
       " ['Morgan Freeman@Teacher@2023-11-03 08:14:53', '2023-11-03 08:14:53'],\n",
       " ['Morgan Freeman@Teacher@2023-11-03 16:23:53', '2023-11-03 16:23:53'],\n",
       " ['Morgan Freeman@Teacher@2023-11-03 08:24:11', '2023-11-03 08:24:11'],\n",
       " ['Morgan Freeman@Teacher@2023-11-03 16:35:16', '2023-11-03 16:35:16'],\n",
       " ['Sudheer@Student@2023-11-04 09:14:18', '2023-11-04 09:14:18'],\n",
       " ['Sudheer@Student@2023-11-04 16:19:20', '2023-11-04 16:19:20'],\n",
       " ['Sudheer@Student@2023-11-04 07:16:50', '2023-11-04 07:16:50'],\n",
       " ['Sudheer@Student@2023-11-04 16:29:51', '2023-11-04 16:29:51'],\n",
       " ['Sudheer@Student@2023-11-04 07:18:26', '2023-11-04 07:18:26'],\n",
       " ['Sudheer@Student@2023-11-04 16:35:20', '2023-11-04 16:35:20'],\n",
       " ['Sudheer@Student@2023-11-04 08:18:22', '2023-11-04 08:18:22'],\n",
       " ['Sudheer@Student@2023-11-04 16:32:14', '2023-11-04 16:32:14'],\n",
       " ['Sudheer@Student@2023-11-04 08:22:08', '2023-11-04 08:22:08'],\n",
       " ['Sudheer@Student@2023-11-04 16:36:17', '2023-11-04 16:36:17'],\n",
       " ['Sudheer@Student@2023-11-04 09:19:58', '2023-11-04 09:19:58'],\n",
       " ['Sudheer@Student@2023-11-04 16:35:34', '2023-11-04 16:35:34'],\n",
       " ['Sudheer@Student@2023-11-04 09:20:45', '2023-11-04 09:20:45'],\n",
       " ['Sudheer@Student@2023-11-04 16:24:12', '2023-11-04 16:24:12'],\n",
       " ['Sudheer@Student@2023-11-04 08:21:04', '2023-11-04 08:21:04'],\n",
       " ['Sudheer@Student@2023-11-04 16:25:41', '2023-11-04 16:25:41'],\n",
       " ['Angelina Jolie@Student@2023-11-04 08:29:15', '2023-11-04 08:29:15'],\n",
       " ['Angelina Jolie@Student@2023-11-04 17:24:41', '2023-11-04 17:24:41'],\n",
       " ['Angelina Jolie@Student@2023-11-04 08:23:04', '2023-11-04 08:23:04'],\n",
       " ['Angelina Jolie@Student@2023-11-04 16:29:10', '2023-11-04 16:29:10'],\n",
       " ['Angelina Jolie@Student@2023-11-04 08:19:08', '2023-11-04 08:19:08'],\n",
       " ['Angelina Jolie@Student@2023-11-04 16:29:46', '2023-11-04 16:29:46'],\n",
       " ['Angelina Jolie@Student@2023-11-04 08:19:12', '2023-11-04 08:19:12'],\n",
       " ['Angelina Jolie@Student@2023-11-04 17:32:22', '2023-11-04 17:32:22'],\n",
       " ['Angelina Jolie@Student@2023-11-04 07:12:23', '2023-11-04 07:12:23'],\n",
       " ['Angelina Jolie@Student@2023-11-04 16:26:36', '2023-11-04 16:26:36'],\n",
       " ['Angelina Jolie@Student@2023-11-04 08:11:30', '2023-11-04 08:11:30'],\n",
       " ['Angelina Jolie@Student@2023-11-04 17:32:26', '2023-11-04 17:32:26'],\n",
       " ['Angelina Jolie@Student@2023-11-04 08:20:35', '2023-11-04 08:20:35'],\n",
       " ['Angelina Jolie@Student@2023-11-04 16:28:11', '2023-11-04 16:28:11'],\n",
       " ['Angelina Jolie@Student@2023-11-04 07:19:37', '2023-11-04 07:19:37'],\n",
       " ['Angelina Jolie@Student@2023-11-04 16:31:51', '2023-11-04 16:31:51'],\n",
       " ['Angelina Jolie@Student@2023-11-04 08:24:24', '2023-11-04 08:24:24'],\n",
       " ['Angelina Jolie@Student@2023-11-04 16:26:04', '2023-11-04 16:26:04'],\n",
       " ['Chris Evans@Student@2023-11-04 08:22:37', '2023-11-04 08:22:37'],\n",
       " ['Chris Evans@Student@2023-11-04 16:33:15', '2023-11-04 16:33:15'],\n",
       " ['Chris Evans@Student@2023-11-04 07:18:35', '2023-11-04 07:18:35'],\n",
       " ['Chris Evans@Student@2023-11-04 16:42:13', '2023-11-04 16:42:13'],\n",
       " ['Chris Evans@Student@2023-11-04 09:13:21', '2023-11-04 09:13:21'],\n",
       " ['Chris Evans@Student@2023-11-04 16:34:15', '2023-11-04 16:34:15'],\n",
       " ['Chris Evans@Student@2023-11-04 09:07:57', '2023-11-04 09:07:57'],\n",
       " ['Chris Evans@Student@2023-11-04 16:39:49', '2023-11-04 16:39:49'],\n",
       " ['Chris Evans@Student@2023-11-04 09:18:44', '2023-11-04 09:18:44'],\n",
       " ['Chris Evans@Student@2023-11-04 16:43:25', '2023-11-04 16:43:25'],\n",
       " ['Chris Evans@Student@2023-11-04 08:20:09', '2023-11-04 08:20:09'],\n",
       " ['Chris Evans@Student@2023-11-04 17:28:53', '2023-11-04 17:28:53'],\n",
       " ['Chris Evans@Student@2023-11-04 08:27:23', '2023-11-04 08:27:23'],\n",
       " ['Chris Evans@Student@2023-11-04 16:23:30', '2023-11-04 16:23:30'],\n",
       " ['Chris Evans@Student@2023-11-04 07:15:15', '2023-11-04 07:15:15'],\n",
       " ['Chris Evans@Student@2023-11-04 16:28:50', '2023-11-04 16:28:50'],\n",
       " ['Chris Evans@Student@2023-11-04 07:19:58', '2023-11-04 07:19:58'],\n",
       " ['Chris Evans@Student@2023-11-04 16:31:27', '2023-11-04 16:31:27'],\n",
       " ['Chris Evans@Student@2023-11-04 07:21:51', '2023-11-04 07:21:51'],\n",
       " ['Chris Evans@Student@2023-11-04 16:35:09', '2023-11-04 16:35:09'],\n",
       " ['Chris Evans@Student@2023-11-04 08:18:43', '2023-11-04 08:18:43'],\n",
       " ['Chris Evans@Student@2023-11-04 15:29:12', '2023-11-04 15:29:12'],\n",
       " ['Scarlett Johansson@Student@2023-11-04 08:07:23', '2023-11-04 08:07:23'],\n",
       " ['Scarlett Johansson@Student@2023-11-04 16:29:21', '2023-11-04 16:29:21'],\n",
       " ['Scarlett Johansson@Student@2023-11-04 08:09:20', '2023-11-04 08:09:20'],\n",
       " ['Scarlett Johansson@Student@2023-11-04 16:27:23', '2023-11-04 16:27:23'],\n",
       " ['Scarlett Johansson@Student@2023-11-04 07:11:51', '2023-11-04 07:11:51'],\n",
       " ['Scarlett Johansson@Student@2023-11-04 16:36:21', '2023-11-04 16:36:21'],\n",
       " ['Scarlett Johansson@Student@2023-11-04 08:20:37', '2023-11-04 08:20:37'],\n",
       " ['Scarlett Johansson@Student@2023-11-04 16:32:24', '2023-11-04 16:32:24'],\n",
       " ['Scarlett Johansson@Student@2023-11-04 08:21:40', '2023-11-04 08:21:40'],\n",
       " ['Scarlett Johansson@Student@2023-11-04 16:28:11', '2023-11-04 16:28:11'],\n",
       " ['Scarlett Johansson@Student@2023-11-04 08:25:48', '2023-11-04 08:25:48'],\n",
       " ['Scarlett Johansson@Student@2023-11-04 16:33:53', '2023-11-04 16:33:53'],\n",
       " ['Scarlett Johansson@Student@2023-11-04 08:21:51', '2023-11-04 08:21:51'],\n",
       " ['Scarlett Johansson@Student@2023-11-04 16:26:48', '2023-11-04 16:26:48'],\n",
       " ['Scarlett Johansson@Student@2023-11-04 07:18:35', '2023-11-04 07:18:35'],\n",
       " ['Scarlett Johansson@Student@2023-11-04 16:25:36', '2023-11-04 16:25:36'],\n",
       " ['Scarlett Johansson@Student@2023-11-04 08:21:48', '2023-11-04 08:21:48'],\n",
       " ['Scarlett Johansson@Student@2023-11-04 16:31:36', '2023-11-04 16:31:36'],\n",
       " ['Barack Obama@Teacher@2023-11-04 08:23:49', '2023-11-04 08:23:49'],\n",
       " ['Barack Obama@Teacher@2023-11-04 16:28:17', '2023-11-04 16:28:17'],\n",
       " ['Barack Obama@Teacher@2023-11-04 08:18:48', '2023-11-04 08:18:48'],\n",
       " ['Barack Obama@Teacher@2023-11-04 16:25:15', '2023-11-04 16:25:15'],\n",
       " ['Barack Obama@Teacher@2023-11-04 07:14:37', '2023-11-04 07:14:37'],\n",
       " ['Barack Obama@Teacher@2023-11-04 16:27:13', '2023-11-04 16:27:13'],\n",
       " ['Barack Obama@Teacher@2023-11-04 08:19:03', '2023-11-04 08:19:03'],\n",
       " ['Barack Obama@Teacher@2023-11-04 16:32:20', '2023-11-04 16:32:20'],\n",
       " ['Barack Obama@Teacher@2023-11-04 07:16:22', '2023-11-04 07:16:22'],\n",
       " ['Barack Obama@Teacher@2023-11-04 16:29:51', '2023-11-04 16:29:51'],\n",
       " ['Barack Obama@Teacher@2023-11-04 08:18:43', '2023-11-04 08:18:43'],\n",
       " ['Barack Obama@Teacher@2023-11-04 15:23:43', '2023-11-04 15:23:43'],\n",
       " ['Barack Obama@Teacher@2023-11-04 08:21:59', '2023-11-04 08:21:59'],\n",
       " ['Barack Obama@Teacher@2023-11-04 16:32:22', '2023-11-04 16:32:22'],\n",
       " ['Morgan Freeman@Teacher@2023-11-04 08:18:25', '2023-11-04 08:18:25'],\n",
       " ['Morgan Freeman@Teacher@2023-11-04 16:27:49', '2023-11-04 16:27:49'],\n",
       " ['Morgan Freeman@Teacher@2023-11-04 08:17:59', '2023-11-04 08:17:59'],\n",
       " ['Morgan Freeman@Teacher@2023-11-04 16:36:18', '2023-11-04 16:36:18'],\n",
       " ['Morgan Freeman@Teacher@2023-11-04 08:23:44', '2023-11-04 08:23:44'],\n",
       " ['Morgan Freeman@Teacher@2023-11-04 16:31:32', '2023-11-04 16:31:32'],\n",
       " ['Morgan Freeman@Teacher@2023-11-04 08:15:13', '2023-11-04 08:15:13'],\n",
       " ['Morgan Freeman@Teacher@2023-11-04 16:27:12', '2023-11-04 16:27:12'],\n",
       " ['Morgan Freeman@Teacher@2023-11-04 08:28:59', '2023-11-04 08:28:59'],\n",
       " ['Morgan Freeman@Teacher@2023-11-04 16:33:21', '2023-11-04 16:33:21'],\n",
       " ['Morgan Freeman@Teacher@2023-11-04 07:23:57', '2023-11-04 07:23:57'],\n",
       " ['Morgan Freeman@Teacher@2023-11-04 16:31:48', '2023-11-04 16:31:48'],\n",
       " ['Sudheer@Student@2023-11-05 08:16:39', '2023-11-05 08:16:39'],\n",
       " ['Sudheer@Student@2023-11-05 16:29:59', '2023-11-05 16:29:59'],\n",
       " ['Sudheer@Student@2023-11-05 09:23:32', '2023-11-05 09:23:32'],\n",
       " ['Sudheer@Student@2023-11-05 16:35:14', '2023-11-05 16:35:14'],\n",
       " ['Sudheer@Student@2023-11-05 08:23:14', '2023-11-05 08:23:14'],\n",
       " ['Sudheer@Student@2023-11-05 16:33:17', '2023-11-05 16:33:17'],\n",
       " ['Sudheer@Student@2023-11-05 09:28:09', '2023-11-05 09:28:09'],\n",
       " ['Sudheer@Student@2023-11-05 16:35:40', '2023-11-05 16:35:40'],\n",
       " ['Sudheer@Student@2023-11-05 08:23:35', '2023-11-05 08:23:35'],\n",
       " ['Sudheer@Student@2023-11-05 17:24:30', '2023-11-05 17:24:30'],\n",
       " ['Sudheer@Student@2023-11-05 08:24:46', '2023-11-05 08:24:46'],\n",
       " ['Sudheer@Student@2023-11-05 16:27:58', '2023-11-05 16:27:58'],\n",
       " ['Sudheer@Student@2023-11-05 08:12:12', '2023-11-05 08:12:12'],\n",
       " ['Sudheer@Student@2023-11-05 16:32:14', '2023-11-05 16:32:14'],\n",
       " ['Angelina Jolie@Student@2023-11-05 08:15:10', '2023-11-05 08:15:10'],\n",
       " ['Angelina Jolie@Student@2023-11-05 16:29:38', '2023-11-05 16:29:38'],\n",
       " ['Angelina Jolie@Student@2023-11-05 07:21:13', '2023-11-05 07:21:13'],\n",
       " ['Angelina Jolie@Student@2023-11-05 16:28:27', '2023-11-05 16:28:27'],\n",
       " ['Angelina Jolie@Student@2023-11-05 08:23:56', '2023-11-05 08:23:56'],\n",
       " ['Angelina Jolie@Student@2023-11-05 16:28:46', '2023-11-05 16:28:46'],\n",
       " ['Angelina Jolie@Student@2023-11-05 08:19:23', '2023-11-05 08:19:23'],\n",
       " ['Angelina Jolie@Student@2023-11-05 16:30:29', '2023-11-05 16:30:29'],\n",
       " ['Angelina Jolie@Student@2023-11-05 08:19:39', '2023-11-05 08:19:39'],\n",
       " ['Angelina Jolie@Student@2023-11-05 17:33:34', '2023-11-05 17:33:34'],\n",
       " ['Angelina Jolie@Student@2023-11-05 08:16:32', '2023-11-05 08:16:32'],\n",
       " ['Angelina Jolie@Student@2023-11-05 16:33:46', '2023-11-05 16:33:46'],\n",
       " ['Angelina Jolie@Student@2023-11-05 09:25:14', '2023-11-05 09:25:14'],\n",
       " ['Angelina Jolie@Student@2023-11-05 16:29:47', '2023-11-05 16:29:47'],\n",
       " ['Angelina Jolie@Student@2023-11-05 08:16:52', '2023-11-05 08:16:52'],\n",
       " ['Angelina Jolie@Student@2023-11-05 16:21:48', '2023-11-05 16:21:48'],\n",
       " ['Angelina Jolie@Student@2023-11-05 08:18:40', '2023-11-05 08:18:40'],\n",
       " ['Angelina Jolie@Student@2023-11-05 16:21:26', '2023-11-05 16:21:26'],\n",
       " ['Angelina Jolie@Student@2023-11-05 07:30:50', '2023-11-05 07:30:50'],\n",
       " ['Angelina Jolie@Student@2023-11-05 15:35:35', '2023-11-05 15:35:35'],\n",
       " ['Angelina Jolie@Student@2023-11-05 08:21:45', '2023-11-05 08:21:45'],\n",
       " ['Angelina Jolie@Student@2023-11-05 16:30:34', '2023-11-05 16:30:34'],\n",
       " ['Chris Evans@Student@2023-11-05 08:22:20', '2023-11-05 08:22:20'],\n",
       " ['Chris Evans@Student@2023-11-05 16:35:48', '2023-11-05 16:35:48'],\n",
       " ['Chris Evans@Student@2023-11-05 08:19:24', '2023-11-05 08:19:24'],\n",
       " ['Chris Evans@Student@2023-11-05 15:30:05', '2023-11-05 15:30:05'],\n",
       " ['Chris Evans@Student@2023-11-05 08:22:48', '2023-11-05 08:22:48'],\n",
       " ['Chris Evans@Student@2023-11-05 16:31:44', '2023-11-05 16:31:44'],\n",
       " ['Chris Evans@Student@2023-11-05 09:19:26', '2023-11-05 09:19:26'],\n",
       " ['Chris Evans@Student@2023-11-05 16:37:45', '2023-11-05 16:37:45'],\n",
       " ['Chris Evans@Student@2023-11-05 07:20:06', '2023-11-05 07:20:06'],\n",
       " ['Chris Evans@Student@2023-11-05 16:27:37', '2023-11-05 16:27:37'],\n",
       " ['Chris Evans@Student@2023-11-05 08:20:14', '2023-11-05 08:20:14'],\n",
       " ['Chris Evans@Student@2023-11-05 16:33:53', '2023-11-05 16:33:53'],\n",
       " ['Scarlett Johansson@Student@2023-11-05 07:17:49', '2023-11-05 07:17:49'],\n",
       " ['Scarlett Johansson@Student@2023-11-05 16:33:57', '2023-11-05 16:33:57'],\n",
       " ['Scarlett Johansson@Student@2023-11-05 08:16:21', '2023-11-05 08:16:21'],\n",
       " ['Scarlett Johansson@Student@2023-11-05 16:34:35', '2023-11-05 16:34:35'],\n",
       " ['Scarlett Johansson@Student@2023-11-05 07:27:08', '2023-11-05 07:27:08'],\n",
       " ['Scarlett Johansson@Student@2023-11-05 16:26:45', '2023-11-05 16:26:45'],\n",
       " ['Scarlett Johansson@Student@2023-11-05 07:12:46', '2023-11-05 07:12:46'],\n",
       " ['Scarlett Johansson@Student@2023-11-05 16:31:27', '2023-11-05 16:31:27'],\n",
       " ['Scarlett Johansson@Student@2023-11-05 08:18:12', '2023-11-05 08:18:12'],\n",
       " ['Scarlett Johansson@Student@2023-11-05 16:27:51', '2023-11-05 16:27:51'],\n",
       " ['Scarlett Johansson@Student@2023-11-05 09:19:15', '2023-11-05 09:19:15'],\n",
       " ['Scarlett Johansson@Student@2023-11-05 16:22:08', '2023-11-05 16:22:08'],\n",
       " ['Barack Obama@Teacher@2023-11-05 08:26:29', '2023-11-05 08:26:29'],\n",
       " ['Barack Obama@Teacher@2023-11-05 16:31:27', '2023-11-05 16:31:27'],\n",
       " ['Barack Obama@Teacher@2023-11-05 08:26:47', '2023-11-05 08:26:47'],\n",
       " ['Barack Obama@Teacher@2023-11-05 16:30:21', '2023-11-05 16:30:21'],\n",
       " ['Barack Obama@Teacher@2023-11-05 08:21:10', '2023-11-05 08:21:10'],\n",
       " ['Barack Obama@Teacher@2023-11-05 16:23:54', '2023-11-05 16:23:54'],\n",
       " ['Barack Obama@Teacher@2023-11-05 09:22:50', '2023-11-05 09:22:50'],\n",
       " ['Barack Obama@Teacher@2023-11-05 16:19:40', '2023-11-05 16:19:40'],\n",
       " ['Barack Obama@Teacher@2023-11-05 08:13:50', '2023-11-05 08:13:50'],\n",
       " ['Barack Obama@Teacher@2023-11-05 16:29:30', '2023-11-05 16:29:30'],\n",
       " ['Barack Obama@Teacher@2023-11-05 08:09:48', '2023-11-05 08:09:48'],\n",
       " ['Barack Obama@Teacher@2023-11-05 16:39:15', '2023-11-05 16:39:15'],\n",
       " ['Barack Obama@Teacher@2023-11-05 07:19:26', '2023-11-05 07:19:26'],\n",
       " ['Barack Obama@Teacher@2023-11-05 17:27:31', '2023-11-05 17:27:31'],\n",
       " ['Morgan Freeman@Teacher@2023-11-05 08:18:43', '2023-11-05 08:18:43'],\n",
       " ['Morgan Freeman@Teacher@2023-11-05 17:36:03', '2023-11-05 17:36:03'],\n",
       " ['Morgan Freeman@Teacher@2023-11-05 08:15:20', '2023-11-05 08:15:20'],\n",
       " ['Morgan Freeman@Teacher@2023-11-05 16:28:42', '2023-11-05 16:28:42'],\n",
       " ['Morgan Freeman@Teacher@2023-11-05 07:21:11', '2023-11-05 07:21:11'],\n",
       " ['Morgan Freeman@Teacher@2023-11-05 16:35:48', '2023-11-05 16:35:48'],\n",
       " ['Morgan Freeman@Teacher@2023-11-05 08:21:56', '2023-11-05 08:21:56'],\n",
       " ['Morgan Freeman@Teacher@2023-11-05 16:22:35', '2023-11-05 16:22:35'],\n",
       " ['Morgan Freeman@Teacher@2023-11-05 08:17:24', '2023-11-05 08:17:24'],\n",
       " ['Morgan Freeman@Teacher@2023-11-05 16:33:09', '2023-11-05 16:33:09'],\n",
       " ['Morgan Freeman@Teacher@2023-11-05 09:21:39', '2023-11-05 09:21:39'],\n",
       " ['Morgan Freeman@Teacher@2023-11-05 16:30:25', '2023-11-05 16:30:25'],\n",
       " ['Morgan Freeman@Teacher@2023-11-05 08:14:55', '2023-11-05 08:14:55'],\n",
       " ['Morgan Freeman@Teacher@2023-11-05 15:29:10', '2023-11-05 15:29:10'],\n",
       " ['Morgan Freeman@Teacher@2023-11-05 08:15:34', '2023-11-05 08:15:34'],\n",
       " ['Morgan Freeman@Teacher@2023-11-05 16:27:51', '2023-11-05 16:27:51'],\n",
       " ['Sudheer@Student@2023-11-06 08:16:36', '2023-11-06 08:16:36'],\n",
       " ['Sudheer@Student@2023-11-06 16:29:10', '2023-11-06 16:29:10'],\n",
       " ['Sudheer@Student@2023-11-06 08:22:51', '2023-11-06 08:22:51'],\n",
       " ['Sudheer@Student@2023-11-06 16:32:32', '2023-11-06 16:32:32'],\n",
       " ['Sudheer@Student@2023-11-06 08:18:49', '2023-11-06 08:18:49'],\n",
       " ['Sudheer@Student@2023-11-06 16:25:55', '2023-11-06 16:25:55'],\n",
       " ['Angelina Jolie@Student@2023-11-06 08:16:06', '2023-11-06 08:16:06'],\n",
       " ['Angelina Jolie@Student@2023-11-06 16:26:33', '2023-11-06 16:26:33'],\n",
       " ['Angelina Jolie@Student@2023-11-06 07:12:10', '2023-11-06 07:12:10'],\n",
       " ['Angelina Jolie@Student@2023-11-06 16:25:49', '2023-11-06 16:25:49'],\n",
       " ['Angelina Jolie@Student@2023-11-06 07:21:54', '2023-11-06 07:21:54'],\n",
       " ['Angelina Jolie@Student@2023-11-06 16:28:07', '2023-11-06 16:28:07'],\n",
       " ['Angelina Jolie@Student@2023-11-06 08:16:25', '2023-11-06 08:16:25'],\n",
       " ['Angelina Jolie@Student@2023-11-06 16:27:33', '2023-11-06 16:27:33'],\n",
       " ['Angelina Jolie@Student@2023-11-06 08:18:41', '2023-11-06 08:18:41'],\n",
       " ['Angelina Jolie@Student@2023-11-06 16:17:31', '2023-11-06 16:17:31'],\n",
       " ['Angelina Jolie@Student@2023-11-06 08:23:32', '2023-11-06 08:23:32'],\n",
       " ['Angelina Jolie@Student@2023-11-06 16:30:14', '2023-11-06 16:30:14'],\n",
       " ['Angelina Jolie@Student@2023-11-06 08:29:57', '2023-11-06 08:29:57'],\n",
       " ['Angelina Jolie@Student@2023-11-06 16:35:35', '2023-11-06 16:35:35'],\n",
       " ['Angelina Jolie@Student@2023-11-06 08:15:46', '2023-11-06 08:15:46'],\n",
       " ['Angelina Jolie@Student@2023-11-06 16:32:01', '2023-11-06 16:32:01'],\n",
       " ['Angelina Jolie@Student@2023-11-06 08:23:17', '2023-11-06 08:23:17'],\n",
       " ['Angelina Jolie@Student@2023-11-06 17:31:08', '2023-11-06 17:31:08'],\n",
       " ['Angelina Jolie@Student@2023-11-06 08:17:18', '2023-11-06 08:17:18'],\n",
       " ['Angelina Jolie@Student@2023-11-06 16:31:40', '2023-11-06 16:31:40'],\n",
       " ['Chris Evans@Student@2023-11-06 08:17:43', '2023-11-06 08:17:43'],\n",
       " ['Chris Evans@Student@2023-11-06 16:29:34', '2023-11-06 16:29:34'],\n",
       " ['Chris Evans@Student@2023-11-06 08:13:20', '2023-11-06 08:13:20'],\n",
       " ['Chris Evans@Student@2023-11-06 16:30:38', '2023-11-06 16:30:38'],\n",
       " ['Chris Evans@Student@2023-11-06 08:19:44', '2023-11-06 08:19:44'],\n",
       " ['Chris Evans@Student@2023-11-06 16:24:23', '2023-11-06 16:24:23'],\n",
       " ['Chris Evans@Student@2023-11-06 08:21:55', '2023-11-06 08:21:55'],\n",
       " ['Chris Evans@Student@2023-11-06 16:25:54', '2023-11-06 16:25:54'],\n",
       " ['Chris Evans@Student@2023-11-06 07:16:27', '2023-11-06 07:16:27'],\n",
       " ['Chris Evans@Student@2023-11-06 16:26:42', '2023-11-06 16:26:42'],\n",
       " ['Chris Evans@Student@2023-11-06 08:26:40', '2023-11-06 08:26:40'],\n",
       " ['Chris Evans@Student@2023-11-06 16:37:19', '2023-11-06 16:37:19'],\n",
       " ['Chris Evans@Student@2023-11-06 08:21:49', '2023-11-06 08:21:49'],\n",
       " ['Chris Evans@Student@2023-11-06 16:33:11', '2023-11-06 16:33:11'],\n",
       " ['Scarlett Johansson@Student@2023-11-06 08:12:14', '2023-11-06 08:12:14'],\n",
       " ['Scarlett Johansson@Student@2023-11-06 16:28:21', '2023-11-06 16:28:21'],\n",
       " ['Scarlett Johansson@Student@2023-11-06 08:16:02', '2023-11-06 08:16:02'],\n",
       " ['Scarlett Johansson@Student@2023-11-06 16:35:14', '2023-11-06 16:35:14'],\n",
       " ['Scarlett Johansson@Student@2023-11-06 08:19:23', '2023-11-06 08:19:23'],\n",
       " ['Scarlett Johansson@Student@2023-11-06 16:37:35', '2023-11-06 16:37:35'],\n",
       " ['Scarlett Johansson@Student@2023-11-06 08:15:20', '2023-11-06 08:15:20'],\n",
       " ['Scarlett Johansson@Student@2023-11-06 15:21:01', '2023-11-06 15:21:01'],\n",
       " ['Scarlett Johansson@Student@2023-11-06 09:18:15', '2023-11-06 09:18:15'],\n",
       " ['Scarlett Johansson@Student@2023-11-06 16:28:19', '2023-11-06 16:28:19'],\n",
       " ['Scarlett Johansson@Student@2023-11-06 08:20:05', '2023-11-06 08:20:05'],\n",
       " ['Scarlett Johansson@Student@2023-11-06 16:32:38', '2023-11-06 16:32:38'],\n",
       " ['Barack Obama@Teacher@2023-11-06 08:19:31', '2023-11-06 08:19:31'],\n",
       " ['Barack Obama@Teacher@2023-11-06 15:23:29', '2023-11-06 15:23:29'],\n",
       " ['Morgan Freeman@Teacher@2023-11-06 09:19:40', '2023-11-06 09:19:40'],\n",
       " ['Morgan Freeman@Teacher@2023-11-06 17:34:21', '2023-11-06 17:34:21'],\n",
       " ['Morgan Freeman@Teacher@2023-11-06 09:20:16', '2023-11-06 09:20:16'],\n",
       " ['Morgan Freeman@Teacher@2023-11-06 16:29:12', '2023-11-06 16:29:12'],\n",
       " ['Morgan Freeman@Teacher@2023-11-06 08:23:56', '2023-11-06 08:23:56'],\n",
       " ['Morgan Freeman@Teacher@2023-11-06 16:26:28', '2023-11-06 16:26:28'],\n",
       " ['Morgan Freeman@Teacher@2023-11-06 07:13:26', '2023-11-06 07:13:26'],\n",
       " ['Morgan Freeman@Teacher@2023-11-06 17:31:09', '2023-11-06 17:31:09'],\n",
       " ['Morgan Freeman@Teacher@2023-11-06 08:25:22', '2023-11-06 08:25:22'],\n",
       " ['Morgan Freeman@Teacher@2023-11-06 16:35:49', '2023-11-06 16:35:49'],\n",
       " ['Sudheer@Student@2023-11-07 07:20:19', '2023-11-07 07:20:19'],\n",
       " ['Sudheer@Student@2023-11-07 16:35:22', '2023-11-07 16:35:22'],\n",
       " ['Sudheer@Student@2023-11-07 08:20:23', '2023-11-07 08:20:23'],\n",
       " ['Sudheer@Student@2023-11-07 16:20:51', '2023-11-07 16:20:51'],\n",
       " ['Sudheer@Student@2023-11-07 08:26:56', '2023-11-07 08:26:56'],\n",
       " ['Sudheer@Student@2023-11-07 16:21:13', '2023-11-07 16:21:13'],\n",
       " ['Sudheer@Student@2023-11-07 09:22:26', '2023-11-07 09:22:26'],\n",
       " ['Sudheer@Student@2023-11-07 18:25:19', '2023-11-07 18:25:19'],\n",
       " ['Sudheer@Student@2023-11-07 07:21:07', '2023-11-07 07:21:07'],\n",
       " ['Sudheer@Student@2023-11-07 16:29:25', '2023-11-07 16:29:25'],\n",
       " ['Sudheer@Student@2023-11-07 09:20:10', '2023-11-07 09:20:10'],\n",
       " ['Sudheer@Student@2023-11-07 16:29:09', '2023-11-07 16:29:09'],\n",
       " ['Sudheer@Student@2023-11-07 08:18:18', '2023-11-07 08:18:18'],\n",
       " ['Sudheer@Student@2023-11-07 16:26:25', '2023-11-07 16:26:25'],\n",
       " ['Sudheer@Student@2023-11-07 08:13:58', '2023-11-07 08:13:58'],\n",
       " ['Sudheer@Student@2023-11-07 16:28:25', '2023-11-07 16:28:25'],\n",
       " ['Sudheer@Student@2023-11-07 08:15:16', '2023-11-07 08:15:16'],\n",
       " ['Sudheer@Student@2023-11-07 17:29:27', '2023-11-07 17:29:27'],\n",
       " ['Angelina Jolie@Student@2023-11-07 08:21:53', '2023-11-07 08:21:53'],\n",
       " ['Angelina Jolie@Student@2023-11-07 16:26:45', '2023-11-07 16:26:45'],\n",
       " ['Angelina Jolie@Student@2023-11-07 09:19:35', '2023-11-07 09:19:35'],\n",
       " ['Angelina Jolie@Student@2023-11-07 16:29:29', '2023-11-07 16:29:29'],\n",
       " ['Angelina Jolie@Student@2023-11-07 08:14:08', '2023-11-07 08:14:08'],\n",
       " ['Angelina Jolie@Student@2023-11-07 16:26:50', '2023-11-07 16:26:50'],\n",
       " ['Angelina Jolie@Student@2023-11-07 07:21:25', '2023-11-07 07:21:25'],\n",
       " ['Angelina Jolie@Student@2023-11-07 16:31:01', '2023-11-07 16:31:01'],\n",
       " ['Angelina Jolie@Student@2023-11-07 07:25:27', '2023-11-07 07:25:27'],\n",
       " ['Angelina Jolie@Student@2023-11-07 16:35:18', '2023-11-07 16:35:18'],\n",
       " ['Chris Evans@Student@2023-11-07 09:17:58', '2023-11-07 09:17:58'],\n",
       " ['Chris Evans@Student@2023-11-07 15:28:08', '2023-11-07 15:28:08'],\n",
       " ['Chris Evans@Student@2023-11-07 08:19:41', '2023-11-07 08:19:41'],\n",
       " ['Chris Evans@Student@2023-11-07 16:26:58', '2023-11-07 16:26:58'],\n",
       " ['Chris Evans@Student@2023-11-07 08:13:59', '2023-11-07 08:13:59'],\n",
       " ['Chris Evans@Student@2023-11-07 15:33:35', '2023-11-07 15:33:35'],\n",
       " ['Chris Evans@Student@2023-11-07 08:26:19', '2023-11-07 08:26:19'],\n",
       " ['Chris Evans@Student@2023-11-07 16:29:46', '2023-11-07 16:29:46'],\n",
       " ['Chris Evans@Student@2023-11-07 08:15:23', '2023-11-07 08:15:23'],\n",
       " ['Chris Evans@Student@2023-11-07 16:22:48', '2023-11-07 16:22:48'],\n",
       " ['Chris Evans@Student@2023-11-07 08:21:31', '2023-11-07 08:21:31'],\n",
       " ['Chris Evans@Student@2023-11-07 16:28:47', '2023-11-07 16:28:47'],\n",
       " ['Chris Evans@Student@2023-11-07 08:16:10', '2023-11-07 08:16:10'],\n",
       " ['Chris Evans@Student@2023-11-07 16:31:41', '2023-11-07 16:31:41'],\n",
       " ['Chris Evans@Student@2023-11-07 09:26:39', '2023-11-07 09:26:39'],\n",
       " ['Chris Evans@Student@2023-11-07 16:37:17', '2023-11-07 16:37:17'],\n",
       " ['Chris Evans@Student@2023-11-07 08:20:01', '2023-11-07 08:20:01'],\n",
       " ['Chris Evans@Student@2023-11-07 16:32:54', '2023-11-07 16:32:54'],\n",
       " ['Scarlett Johansson@Student@2023-11-07 08:20:41', '2023-11-07 08:20:41'],\n",
       " ['Scarlett Johansson@Student@2023-11-07 16:31:03', '2023-11-07 16:31:03'],\n",
       " ['Scarlett Johansson@Student@2023-11-07 08:17:59', '2023-11-07 08:17:59'],\n",
       " ['Scarlett Johansson@Student@2023-11-07 16:36:01', '2023-11-07 16:36:01'],\n",
       " ['Scarlett Johansson@Student@2023-11-07 08:18:26', '2023-11-07 08:18:26'],\n",
       " ['Scarlett Johansson@Student@2023-11-07 15:26:02', '2023-11-07 15:26:02'],\n",
       " ['Scarlett Johansson@Student@2023-11-07 09:16:47', '2023-11-07 09:16:47'],\n",
       " ['Scarlett Johansson@Student@2023-11-07 16:20:45', '2023-11-07 16:20:45'],\n",
       " ['Scarlett Johansson@Student@2023-11-07 08:17:15', '2023-11-07 08:17:15'],\n",
       " ['Scarlett Johansson@Student@2023-11-07 16:30:24', '2023-11-07 16:30:24'],\n",
       " ['Scarlett Johansson@Student@2023-11-07 08:25:51', '2023-11-07 08:25:51'],\n",
       " ['Scarlett Johansson@Student@2023-11-07 16:27:49', '2023-11-07 16:27:49'],\n",
       " ['Scarlett Johansson@Student@2023-11-07 08:20:59', '2023-11-07 08:20:59'],\n",
       " ['Scarlett Johansson@Student@2023-11-07 16:33:53', '2023-11-07 16:33:53'],\n",
       " ['Scarlett Johansson@Student@2023-11-07 08:20:46', '2023-11-07 08:20:46'],\n",
       " ['Scarlett Johansson@Student@2023-11-07 16:32:41', '2023-11-07 16:32:41'],\n",
       " ['Scarlett Johansson@Student@2023-11-07 07:18:11', '2023-11-07 07:18:11'],\n",
       " ['Scarlett Johansson@Student@2023-11-07 16:23:08', '2023-11-07 16:23:08'],\n",
       " ['Barack Obama@Teacher@2023-11-07 08:22:43', '2023-11-07 08:22:43'],\n",
       " ['Barack Obama@Teacher@2023-11-07 16:36:51', '2023-11-07 16:36:51'],\n",
       " ['Barack Obama@Teacher@2023-11-07 08:24:29', '2023-11-07 08:24:29'],\n",
       " ['Barack Obama@Teacher@2023-11-07 16:35:21', '2023-11-07 16:35:21'],\n",
       " ['Barack Obama@Teacher@2023-11-07 08:18:25', '2023-11-07 08:18:25'],\n",
       " ['Barack Obama@Teacher@2023-11-07 16:30:17', '2023-11-07 16:30:17'],\n",
       " ['Barack Obama@Teacher@2023-11-07 08:12:25', '2023-11-07 08:12:25'],\n",
       " ['Barack Obama@Teacher@2023-11-07 16:22:12', '2023-11-07 16:22:12'],\n",
       " ['Barack Obama@Teacher@2023-11-07 08:14:38', '2023-11-07 08:14:38'],\n",
       " ['Barack Obama@Teacher@2023-11-07 17:31:13', '2023-11-07 17:31:13'],\n",
       " ['Barack Obama@Teacher@2023-11-07 08:13:20', '2023-11-07 08:13:20'],\n",
       " ['Barack Obama@Teacher@2023-11-07 16:33:49', '2023-11-07 16:33:49'],\n",
       " ['Barack Obama@Teacher@2023-11-07 09:19:59', '2023-11-07 09:19:59'],\n",
       " ['Barack Obama@Teacher@2023-11-07 16:31:21', '2023-11-07 16:31:21'],\n",
       " ['Barack Obama@Teacher@2023-11-07 07:26:19', '2023-11-07 07:26:19'],\n",
       " ['Barack Obama@Teacher@2023-11-07 16:24:05', '2023-11-07 16:24:05'],\n",
       " ['Morgan Freeman@Teacher@2023-11-07 08:27:36', '2023-11-07 08:27:36'],\n",
       " ['Morgan Freeman@Teacher@2023-11-07 16:33:49', '2023-11-07 16:33:49'],\n",
       " ['Morgan Freeman@Teacher@2023-11-07 08:16:52', '2023-11-07 08:16:52'],\n",
       " ['Morgan Freeman@Teacher@2023-11-07 16:33:33', '2023-11-07 16:33:33'],\n",
       " ['Morgan Freeman@Teacher@2023-11-07 08:14:13', '2023-11-07 08:14:13'],\n",
       " ['Morgan Freeman@Teacher@2023-11-07 17:28:33', '2023-11-07 17:28:33'],\n",
       " ['Morgan Freeman@Teacher@2023-11-07 08:15:28', '2023-11-07 08:15:28'],\n",
       " ['Morgan Freeman@Teacher@2023-11-07 16:36:03', '2023-11-07 16:36:03'],\n",
       " ['Morgan Freeman@Teacher@2023-11-07 08:19:49', '2023-11-07 08:19:49'],\n",
       " ['Morgan Freeman@Teacher@2023-11-07 16:24:53', '2023-11-07 16:24:53'],\n",
       " ['Morgan Freeman@Teacher@2023-11-07 08:16:24', '2023-11-07 08:16:24'],\n",
       " ['Morgan Freeman@Teacher@2023-11-07 16:19:21', '2023-11-07 16:19:21'],\n",
       " ['Morgan Freeman@Teacher@2023-11-07 08:21:35', '2023-11-07 08:21:35'],\n",
       " ['Morgan Freeman@Teacher@2023-11-07 16:30:29', '2023-11-07 16:30:29'],\n",
       " ['Morgan Freeman@Teacher@2023-11-07 08:24:45', '2023-11-07 08:24:45'],\n",
       " ['Morgan Freeman@Teacher@2023-11-07 16:41:46', '2023-11-07 16:41:46'],\n",
       " ['Morgan Freeman@Teacher@2023-11-07 07:21:18', '2023-11-07 07:21:18'],\n",
       " ['Morgan Freeman@Teacher@2023-11-07 16:30:28', '2023-11-07 16:30:28'],\n",
       " ['Morgan Freeman@Teacher@2023-11-07 08:16:38', '2023-11-07 08:16:38'],\n",
       " ['Morgan Freeman@Teacher@2023-11-07 15:36:17', '2023-11-07 15:36:17'],\n",
       " ['Morgan Freeman@Teacher@2023-11-07 08:27:38', '2023-11-07 08:27:38'],\n",
       " ['Morgan Freeman@Teacher@2023-11-07 16:29:50', '2023-11-07 16:29:50'],\n",
       " ['Sudheer@Student@2023-11-08 08:20:42', '2023-11-08 08:20:42'],\n",
       " ['Sudheer@Student@2023-11-08 16:26:23', '2023-11-08 16:26:23'],\n",
       " ['Sudheer@Student@2023-11-08 08:19:42', '2023-11-08 08:19:42'],\n",
       " ['Sudheer@Student@2023-11-08 16:19:57', '2023-11-08 16:19:57'],\n",
       " ['Sudheer@Student@2023-11-08 07:19:14', '2023-11-08 07:19:14'],\n",
       " ['Sudheer@Student@2023-11-08 16:37:46', '2023-11-08 16:37:46'],\n",
       " ['Sudheer@Student@2023-11-08 08:19:02', '2023-11-08 08:19:02'],\n",
       " ['Sudheer@Student@2023-11-08 16:34:27', '2023-11-08 16:34:27'],\n",
       " ['Sudheer@Student@2023-11-08 07:12:08', '2023-11-08 07:12:08'],\n",
       " ['Sudheer@Student@2023-11-08 15:26:13', '2023-11-08 15:26:13'],\n",
       " ['Sudheer@Student@2023-11-08 09:20:57', '2023-11-08 09:20:57'],\n",
       " ['Sudheer@Student@2023-11-08 16:21:50', '2023-11-08 16:21:50'],\n",
       " ['Sudheer@Student@2023-11-08 08:22:53', '2023-11-08 08:22:53'],\n",
       " ['Sudheer@Student@2023-11-08 16:27:21', '2023-11-08 16:27:21'],\n",
       " ['Sudheer@Student@2023-11-08 08:12:38', '2023-11-08 08:12:38'],\n",
       " ['Sudheer@Student@2023-11-08 16:32:37', '2023-11-08 16:32:37'],\n",
       " ['Angelina Jolie@Student@2023-11-08 08:17:04', '2023-11-08 08:17:04'],\n",
       " ['Angelina Jolie@Student@2023-11-08 16:34:41', '2023-11-08 16:34:41'],\n",
       " ['Angelina Jolie@Student@2023-11-08 08:16:04', '2023-11-08 08:16:04'],\n",
       " ['Angelina Jolie@Student@2023-11-08 16:34:21', '2023-11-08 16:34:21'],\n",
       " ['Angelina Jolie@Student@2023-11-08 08:15:03', '2023-11-08 08:15:03'],\n",
       " ['Angelina Jolie@Student@2023-11-08 15:31:59', '2023-11-08 15:31:59'],\n",
       " ['Angelina Jolie@Student@2023-11-08 08:26:43', '2023-11-08 08:26:43'],\n",
       " ['Angelina Jolie@Student@2023-11-08 16:28:54', '2023-11-08 16:28:54'],\n",
       " ['Chris Evans@Student@2023-11-08 07:14:36', '2023-11-08 07:14:36'],\n",
       " ['Chris Evans@Student@2023-11-08 16:21:38', '2023-11-08 16:21:38'],\n",
       " ['Chris Evans@Student@2023-11-08 08:17:48', '2023-11-08 08:17:48'],\n",
       " ['Chris Evans@Student@2023-11-08 16:34:49', '2023-11-08 16:34:49'],\n",
       " ['Scarlett Johansson@Student@2023-11-08 08:22:14', '2023-11-08 08:22:14'],\n",
       " ['Scarlett Johansson@Student@2023-11-08 16:35:31', '2023-11-08 16:35:31'],\n",
       " ['Scarlett Johansson@Student@2023-11-08 09:22:47', '2023-11-08 09:22:47'],\n",
       " ['Scarlett Johansson@Student@2023-11-08 16:30:23', '2023-11-08 16:30:23'],\n",
       " ['Scarlett Johansson@Student@2023-11-08 08:09:35', '2023-11-08 08:09:35'],\n",
       " ['Scarlett Johansson@Student@2023-11-08 18:30:07', '2023-11-08 18:30:07'],\n",
       " ['Scarlett Johansson@Student@2023-11-08 08:26:07', '2023-11-08 08:26:07'],\n",
       " ['Scarlett Johansson@Student@2023-11-08 16:37:28', '2023-11-08 16:37:28'],\n",
       " ['Barack Obama@Teacher@2023-11-08 09:29:24', '2023-11-08 09:29:24'],\n",
       " ['Barack Obama@Teacher@2023-11-08 16:33:13', '2023-11-08 16:33:13'],\n",
       " ['Barack Obama@Teacher@2023-11-08 07:14:03', '2023-11-08 07:14:03'],\n",
       " ['Barack Obama@Teacher@2023-11-08 16:30:55', '2023-11-08 16:30:55'],\n",
       " ['Barack Obama@Teacher@2023-11-08 08:18:28', '2023-11-08 08:18:28'],\n",
       " ['Barack Obama@Teacher@2023-11-08 16:29:55', '2023-11-08 16:29:55'],\n",
       " ['Barack Obama@Teacher@2023-11-08 07:19:17', '2023-11-08 07:19:17'],\n",
       " ['Barack Obama@Teacher@2023-11-08 16:25:20', '2023-11-08 16:25:20'],\n",
       " ['Barack Obama@Teacher@2023-11-08 08:24:15', '2023-11-08 08:24:15'],\n",
       " ['Barack Obama@Teacher@2023-11-08 16:28:13', '2023-11-08 16:28:13'],\n",
       " ['Morgan Freeman@Teacher@2023-11-08 08:22:15', '2023-11-08 08:22:15'],\n",
       " ['Morgan Freeman@Teacher@2023-11-08 16:32:58', '2023-11-08 16:32:58'],\n",
       " ['Morgan Freeman@Teacher@2023-11-08 08:14:20', '2023-11-08 08:14:20'],\n",
       " ['Morgan Freeman@Teacher@2023-11-08 15:31:05', '2023-11-08 15:31:05'],\n",
       " ['Morgan Freeman@Teacher@2023-11-08 09:19:20', '2023-11-08 09:19:20'],\n",
       " ['Morgan Freeman@Teacher@2023-11-08 16:32:42', '2023-11-08 16:32:42'],\n",
       " ['Morgan Freeman@Teacher@2023-11-08 08:25:15', '2023-11-08 08:25:15'],\n",
       " ['Morgan Freeman@Teacher@2023-11-08 16:28:28', '2023-11-08 16:28:28'],\n",
       " ['Morgan Freeman@Teacher@2023-11-08 08:23:38', '2023-11-08 08:23:38'],\n",
       " ['Morgan Freeman@Teacher@2023-11-08 16:27:45', '2023-11-08 16:27:45'],\n",
       " ['Morgan Freeman@Teacher@2023-11-08 07:21:57', '2023-11-08 07:21:57'],\n",
       " ['Morgan Freeman@Teacher@2023-11-08 16:30:39', '2023-11-08 16:30:39'],\n",
       " ['Morgan Freeman@Teacher@2023-11-08 07:15:59', '2023-11-08 07:15:59'],\n",
       " ['Morgan Freeman@Teacher@2023-11-08 16:28:41', '2023-11-08 16:28:41'],\n",
       " ['Sudheer@Student@2023-11-09 08:19:40', '2023-11-09 08:19:40'],\n",
       " ['Sudheer@Student@2023-11-09 16:18:26', '2023-11-09 16:18:26'],\n",
       " ['Sudheer@Student@2023-11-09 07:17:21', '2023-11-09 07:17:21'],\n",
       " ['Sudheer@Student@2023-11-09 16:25:03', '2023-11-09 16:25:03'],\n",
       " ['Sudheer@Student@2023-11-09 07:17:34', '2023-11-09 07:17:34'],\n",
       " ['Sudheer@Student@2023-11-09 15:30:44', '2023-11-09 15:30:44'],\n",
       " ['Sudheer@Student@2023-11-09 08:18:41', '2023-11-09 08:18:41'],\n",
       " ['Sudheer@Student@2023-11-09 15:24:56', '2023-11-09 15:24:56'],\n",
       " ['Angelina Jolie@Student@2023-11-09 08:17:38', '2023-11-09 08:17:38'],\n",
       " ['Angelina Jolie@Student@2023-11-09 16:31:21', '2023-11-09 16:31:21'],\n",
       " ['Angelina Jolie@Student@2023-11-09 09:22:28', '2023-11-09 09:22:28'],\n",
       " ['Angelina Jolie@Student@2023-11-09 16:19:50', '2023-11-09 16:19:50'],\n",
       " ['Angelina Jolie@Student@2023-11-09 08:20:41', '2023-11-09 08:20:41'],\n",
       " ['Angelina Jolie@Student@2023-11-09 16:25:46', '2023-11-09 16:25:46'],\n",
       " ['Angelina Jolie@Student@2023-11-09 07:15:57', '2023-11-09 07:15:57'],\n",
       " ['Angelina Jolie@Student@2023-11-09 16:33:07', '2023-11-09 16:33:07'],\n",
       " ['Angelina Jolie@Student@2023-11-09 08:15:53', '2023-11-09 08:15:53'],\n",
       " ['Angelina Jolie@Student@2023-11-09 16:31:03', '2023-11-09 16:31:03'],\n",
       " ['Angelina Jolie@Student@2023-11-09 08:15:16', '2023-11-09 08:15:16'],\n",
       " ['Angelina Jolie@Student@2023-11-09 16:31:30', '2023-11-09 16:31:30'],\n",
       " ['Angelina Jolie@Student@2023-11-09 09:17:30', '2023-11-09 09:17:30'],\n",
       " ['Angelina Jolie@Student@2023-11-09 16:27:11', '2023-11-09 16:27:11'],\n",
       " ['Angelina Jolie@Student@2023-11-09 09:10:51', '2023-11-09 09:10:51'],\n",
       " ['Angelina Jolie@Student@2023-11-09 16:31:18', '2023-11-09 16:31:18'],\n",
       " ['Angelina Jolie@Student@2023-11-09 08:16:59', '2023-11-09 08:16:59'],\n",
       " ['Angelina Jolie@Student@2023-11-09 16:29:11', '2023-11-09 16:29:11'],\n",
       " ['Angelina Jolie@Student@2023-11-09 09:14:05', '2023-11-09 09:14:05'],\n",
       " ['Angelina Jolie@Student@2023-11-09 15:25:52', '2023-11-09 15:25:52'],\n",
       " ['Angelina Jolie@Student@2023-11-09 09:18:29', '2023-11-09 09:18:29'],\n",
       " ['Angelina Jolie@Student@2023-11-09 16:30:55', '2023-11-09 16:30:55'],\n",
       " ['Chris Evans@Student@2023-11-09 08:22:15', '2023-11-09 08:22:15'],\n",
       " ['Chris Evans@Student@2023-11-09 16:35:41', '2023-11-09 16:35:41'],\n",
       " ['Chris Evans@Student@2023-11-09 08:23:40', '2023-11-09 08:23:40'],\n",
       " ['Chris Evans@Student@2023-11-09 16:27:14', '2023-11-09 16:27:14'],\n",
       " ['Chris Evans@Student@2023-11-09 08:10:39', '2023-11-09 08:10:39'],\n",
       " ['Chris Evans@Student@2023-11-09 16:27:05', '2023-11-09 16:27:05'],\n",
       " ['Chris Evans@Student@2023-11-09 07:16:29', '2023-11-09 07:16:29'],\n",
       " ['Chris Evans@Student@2023-11-09 16:31:38', '2023-11-09 16:31:38'],\n",
       " ['Chris Evans@Student@2023-11-09 08:16:13', '2023-11-09 08:16:13'],\n",
       " ['Chris Evans@Student@2023-11-09 16:32:26', '2023-11-09 16:32:26'],\n",
       " ['Chris Evans@Student@2023-11-09 08:18:20', '2023-11-09 08:18:20'],\n",
       " ['Chris Evans@Student@2023-11-09 17:33:23', '2023-11-09 17:33:23'],\n",
       " ['Chris Evans@Student@2023-11-09 08:19:02', '2023-11-09 08:19:02'],\n",
       " ['Chris Evans@Student@2023-11-09 16:33:56', '2023-11-09 16:33:56'],\n",
       " ['Chris Evans@Student@2023-11-09 08:22:35', '2023-11-09 08:22:35'],\n",
       " ['Chris Evans@Student@2023-11-09 16:28:24', '2023-11-09 16:28:24'],\n",
       " ['Chris Evans@Student@2023-11-09 09:11:18', '2023-11-09 09:11:18'],\n",
       " ['Chris Evans@Student@2023-11-09 16:22:07', '2023-11-09 16:22:07'],\n",
       " ['Chris Evans@Student@2023-11-09 08:15:39', '2023-11-09 08:15:39'],\n",
       " ['Chris Evans@Student@2023-11-09 16:33:40', '2023-11-09 16:33:40'],\n",
       " ['Scarlett Johansson@Student@2023-11-09 08:25:29', '2023-11-09 08:25:29'],\n",
       " ['Scarlett Johansson@Student@2023-11-09 17:23:58', '2023-11-09 17:23:58'],\n",
       " ['Scarlett Johansson@Student@2023-11-09 08:17:55', '2023-11-09 08:17:55'],\n",
       " ['Scarlett Johansson@Student@2023-11-09 16:29:39', '2023-11-09 16:29:39'],\n",
       " ['Scarlett Johansson@Student@2023-11-09 08:14:47', '2023-11-09 08:14:47'],\n",
       " ['Scarlett Johansson@Student@2023-11-09 16:28:25', '2023-11-09 16:28:25'],\n",
       " ['Scarlett Johansson@Student@2023-11-09 08:26:42', '2023-11-09 08:26:42'],\n",
       " ['Scarlett Johansson@Student@2023-11-09 16:33:38', '2023-11-09 16:33:38'],\n",
       " ['Scarlett Johansson@Student@2023-11-09 08:24:12', '2023-11-09 08:24:12'],\n",
       " ['Scarlett Johansson@Student@2023-11-09 16:30:51', '2023-11-09 16:30:51'],\n",
       " ['Scarlett Johansson@Student@2023-11-09 08:14:17', '2023-11-09 08:14:17'],\n",
       " ['Scarlett Johansson@Student@2023-11-09 16:20:47', '2023-11-09 16:20:47'],\n",
       " ['Scarlett Johansson@Student@2023-11-09 07:20:34', '2023-11-09 07:20:34'],\n",
       " ['Scarlett Johansson@Student@2023-11-09 16:27:32', '2023-11-09 16:27:32'],\n",
       " ['Scarlett Johansson@Student@2023-11-09 09:16:25', '2023-11-09 09:16:25'],\n",
       " ['Scarlett Johansson@Student@2023-11-09 16:22:13', '2023-11-09 16:22:13'],\n",
       " ['Scarlett Johansson@Student@2023-11-09 08:17:49', '2023-11-09 08:17:49'],\n",
       " ['Scarlett Johansson@Student@2023-11-09 16:29:28', '2023-11-09 16:29:28'],\n",
       " ['Scarlett Johansson@Student@2023-11-09 08:12:14', '2023-11-09 08:12:14'],\n",
       " ['Scarlett Johansson@Student@2023-11-09 16:29:45', '2023-11-09 16:29:45'],\n",
       " ['Scarlett Johansson@Student@2023-11-09 07:26:43', '2023-11-09 07:26:43'],\n",
       " ['Scarlett Johansson@Student@2023-11-09 15:23:59', '2023-11-09 15:23:59'],\n",
       " ['Barack Obama@Teacher@2023-11-09 08:15:07', '2023-11-09 08:15:07'],\n",
       " ['Barack Obama@Teacher@2023-11-09 16:30:07', '2023-11-09 16:30:07'],\n",
       " ['Barack Obama@Teacher@2023-11-09 08:23:29', '2023-11-09 08:23:29'],\n",
       " ['Barack Obama@Teacher@2023-11-09 17:33:29', '2023-11-09 17:33:29'],\n",
       " ['Barack Obama@Teacher@2023-11-09 09:15:28', '2023-11-09 09:15:28'],\n",
       " ['Barack Obama@Teacher@2023-11-09 16:30:38', '2023-11-09 16:30:38'],\n",
       " ['Barack Obama@Teacher@2023-11-09 08:07:42', '2023-11-09 08:07:42'],\n",
       " ['Barack Obama@Teacher@2023-11-09 17:34:11', '2023-11-09 17:34:11'],\n",
       " ['Barack Obama@Teacher@2023-11-09 08:24:46', '2023-11-09 08:24:46'],\n",
       " ['Barack Obama@Teacher@2023-11-09 16:23:26', '2023-11-09 16:23:26'],\n",
       " ['Barack Obama@Teacher@2023-11-09 08:17:08', '2023-11-09 08:17:08'],\n",
       " ['Barack Obama@Teacher@2023-11-09 17:30:40', '2023-11-09 17:30:40'],\n",
       " ['Barack Obama@Teacher@2023-11-09 08:21:38', '2023-11-09 08:21:38'],\n",
       " ['Barack Obama@Teacher@2023-11-09 16:25:32', '2023-11-09 16:25:32'],\n",
       " ['Barack Obama@Teacher@2023-11-09 07:20:49', '2023-11-09 07:20:49'],\n",
       " ['Barack Obama@Teacher@2023-11-09 16:40:35', '2023-11-09 16:40:35'],\n",
       " ['Barack Obama@Teacher@2023-11-09 09:23:42', '2023-11-09 09:23:42'],\n",
       " ['Barack Obama@Teacher@2023-11-09 16:32:42', '2023-11-09 16:32:42'],\n",
       " ['Barack Obama@Teacher@2023-11-09 08:23:32', '2023-11-09 08:23:32'],\n",
       " ['Barack Obama@Teacher@2023-11-09 16:27:50', '2023-11-09 16:27:50'],\n",
       " ['Barack Obama@Teacher@2023-11-09 08:14:50', '2023-11-09 08:14:50'],\n",
       " ['Barack Obama@Teacher@2023-11-09 16:28:30', '2023-11-09 16:28:30'],\n",
       " ['Morgan Freeman@Teacher@2023-11-09 08:19:34', '2023-11-09 08:19:34'],\n",
       " ['Morgan Freeman@Teacher@2023-11-09 17:24:48', '2023-11-09 17:24:48'],\n",
       " ['Morgan Freeman@Teacher@2023-11-09 08:23:55', '2023-11-09 08:23:55'],\n",
       " ['Morgan Freeman@Teacher@2023-11-09 16:23:36', '2023-11-09 16:23:36'],\n",
       " ['Morgan Freeman@Teacher@2023-11-09 08:15:21', '2023-11-09 08:15:21'],\n",
       " ['Morgan Freeman@Teacher@2023-11-09 16:35:35', '2023-11-09 16:35:35'],\n",
       " ['Morgan Freeman@Teacher@2023-11-09 08:22:18', '2023-11-09 08:22:18'],\n",
       " ['Morgan Freeman@Teacher@2023-11-09 16:26:25', '2023-11-09 16:26:25'],\n",
       " ['Morgan Freeman@Teacher@2023-11-09 08:24:26', '2023-11-09 08:24:26'],\n",
       " ['Morgan Freeman@Teacher@2023-11-09 16:35:41', '2023-11-09 16:35:41'],\n",
       " ['Morgan Freeman@Teacher@2023-11-09 08:26:42', '2023-11-09 08:26:42'],\n",
       " ['Morgan Freeman@Teacher@2023-11-09 16:26:09', '2023-11-09 16:26:09'],\n",
       " ['Morgan Freeman@Teacher@2023-11-09 08:17:40', '2023-11-09 08:17:40'],\n",
       " ['Morgan Freeman@Teacher@2023-11-09 16:26:46', '2023-11-09 16:26:46'],\n",
       " ['Morgan Freeman@Teacher@2023-11-09 07:16:11', '2023-11-09 07:16:11'],\n",
       " ['Morgan Freeman@Teacher@2023-11-09 16:24:27', '2023-11-09 16:24:27'],\n",
       " ['Morgan Freeman@Teacher@2023-11-09 08:20:52', '2023-11-09 08:20:52'],\n",
       " ['Morgan Freeman@Teacher@2023-11-09 17:26:28', '2023-11-09 17:26:28'],\n",
       " ['Sudheer@Student@2023-11-10 09:12:13', '2023-11-10 09:12:13'],\n",
       " ['Sudheer@Student@2023-11-10 16:28:34', '2023-11-10 16:28:34'],\n",
       " ['Sudheer@Student@2023-11-10 08:22:36', '2023-11-10 08:22:36'],\n",
       " ['Sudheer@Student@2023-11-10 17:25:04', '2023-11-10 17:25:04'],\n",
       " ['Angelina Jolie@Student@2023-11-10 08:20:37', '2023-11-10 08:20:37'],\n",
       " ['Angelina Jolie@Student@2023-11-10 17:30:34', '2023-11-10 17:30:34'],\n",
       " ['Angelina Jolie@Student@2023-11-10 09:13:50', '2023-11-10 09:13:50'],\n",
       " ['Angelina Jolie@Student@2023-11-10 17:29:50', '2023-11-10 17:29:50'],\n",
       " ['Angelina Jolie@Student@2023-11-10 09:21:59', '2023-11-10 09:21:59'],\n",
       " ['Angelina Jolie@Student@2023-11-10 16:31:06', '2023-11-10 16:31:06'],\n",
       " ['Chris Evans@Student@2023-11-10 07:20:23', '2023-11-10 07:20:23'],\n",
       " ['Chris Evans@Student@2023-11-10 16:30:48', '2023-11-10 16:30:48'],\n",
       " ['Chris Evans@Student@2023-11-10 09:15:47', '2023-11-10 09:15:47'],\n",
       " ['Chris Evans@Student@2023-11-10 16:27:55', '2023-11-10 16:27:55'],\n",
       " ['Scarlett Johansson@Student@2023-11-10 07:13:26', '2023-11-10 07:13:26'],\n",
       " ['Scarlett Johansson@Student@2023-11-10 16:24:11', '2023-11-10 16:24:11'],\n",
       " ['Scarlett Johansson@Student@2023-11-10 07:28:34', '2023-11-10 07:28:34'],\n",
       " ['Scarlett Johansson@Student@2023-11-10 16:29:19', '2023-11-10 16:29:19'],\n",
       " ['Scarlett Johansson@Student@2023-11-10 08:18:37', '2023-11-10 08:18:37'],\n",
       " ['Scarlett Johansson@Student@2023-11-10 16:28:10', '2023-11-10 16:28:10'],\n",
       " ['Barack Obama@Teacher@2023-11-10 09:23:23', '2023-11-10 09:23:23'],\n",
       " ['Barack Obama@Teacher@2023-11-10 16:32:45', '2023-11-10 16:32:45'],\n",
       " ['Barack Obama@Teacher@2023-11-10 08:22:44', '2023-11-10 08:22:44'],\n",
       " ['Barack Obama@Teacher@2023-11-10 16:32:47', '2023-11-10 16:32:47'],\n",
       " ['Barack Obama@Teacher@2023-11-10 08:23:33', '2023-11-10 08:23:33'],\n",
       " ['Barack Obama@Teacher@2023-11-10 16:33:36', '2023-11-10 16:33:36'],\n",
       " ['Barack Obama@Teacher@2023-11-10 09:14:29', '2023-11-10 09:14:29'],\n",
       " ['Barack Obama@Teacher@2023-11-10 16:31:47', '2023-11-10 16:31:47'],\n",
       " ['Barack Obama@Teacher@2023-11-10 08:13:11', '2023-11-10 08:13:11'],\n",
       " ['Barack Obama@Teacher@2023-11-10 16:19:50', '2023-11-10 16:19:50'],\n",
       " ['Barack Obama@Teacher@2023-11-10 08:15:10', '2023-11-10 08:15:10'],\n",
       " ['Barack Obama@Teacher@2023-11-10 16:28:03', '2023-11-10 16:28:03'],\n",
       " ['Barack Obama@Teacher@2023-11-10 07:14:55', '2023-11-10 07:14:55'],\n",
       " ['Barack Obama@Teacher@2023-11-10 16:33:04', '2023-11-10 16:33:04'],\n",
       " ['Barack Obama@Teacher@2023-11-10 09:15:50', '2023-11-10 09:15:50'],\n",
       " ['Barack Obama@Teacher@2023-11-10 15:27:53', '2023-11-10 15:27:53'],\n",
       " ['Barack Obama@Teacher@2023-11-10 08:23:38', '2023-11-10 08:23:38'],\n",
       " ['Barack Obama@Teacher@2023-11-10 15:25:41', '2023-11-10 15:25:41'],\n",
       " ['Barack Obama@Teacher@2023-11-10 08:30:21', '2023-11-10 08:30:21'],\n",
       " ['Barack Obama@Teacher@2023-11-10 16:27:24', '2023-11-10 16:27:24'],\n",
       " ['Morgan Freeman@Teacher@2023-11-10 08:17:37', '2023-11-10 08:17:37'],\n",
       " ['Morgan Freeman@Teacher@2023-11-10 16:27:14', '2023-11-10 16:27:14'],\n",
       " ['Morgan Freeman@Teacher@2023-11-10 09:23:52', '2023-11-10 09:23:52'],\n",
       " ['Morgan Freeman@Teacher@2023-11-10 16:35:49', '2023-11-10 16:35:49'],\n",
       " ['Morgan Freeman@Teacher@2023-11-10 08:19:41', '2023-11-10 08:19:41'],\n",
       " ['Morgan Freeman@Teacher@2023-11-10 16:29:41', '2023-11-10 16:29:41'],\n",
       " ['Sudheer@Student@2023-11-11 07:24:10', '2023-11-11 07:24:10'],\n",
       " ['Sudheer@Student@2023-11-11 15:35:40', '2023-11-11 15:35:40'],\n",
       " ['Sudheer@Student@2023-11-11 08:22:06', '2023-11-11 08:22:06'],\n",
       " ['Sudheer@Student@2023-11-11 16:39:42', '2023-11-11 16:39:42'],\n",
       " ['Sudheer@Student@2023-11-11 09:21:39', '2023-11-11 09:21:39'],\n",
       " ['Sudheer@Student@2023-11-11 15:29:50', '2023-11-11 15:29:50'],\n",
       " ['Sudheer@Student@2023-11-11 08:31:08', '2023-11-11 08:31:08'],\n",
       " ['Sudheer@Student@2023-11-11 16:27:40', '2023-11-11 16:27:40'],\n",
       " ['Sudheer@Student@2023-11-11 08:09:02', '2023-11-11 08:09:02'],\n",
       " ['Sudheer@Student@2023-11-11 16:31:25', '2023-11-11 16:31:25'],\n",
       " ['Sudheer@Student@2023-11-11 08:20:34', '2023-11-11 08:20:34'],\n",
       " ['Sudheer@Student@2023-11-11 16:28:37', '2023-11-11 16:28:37'],\n",
       " ['Sudheer@Student@2023-11-11 07:21:16', '2023-11-11 07:21:16'],\n",
       " ['Sudheer@Student@2023-11-11 16:31:49', '2023-11-11 16:31:49'],\n",
       " ['Sudheer@Student@2023-11-11 07:16:54', '2023-11-11 07:16:54'],\n",
       " ['Sudheer@Student@2023-11-11 15:21:29', '2023-11-11 15:21:29'],\n",
       " ['Sudheer@Student@2023-11-11 07:16:01', '2023-11-11 07:16:01'],\n",
       " ['Sudheer@Student@2023-11-11 15:34:42', '2023-11-11 15:34:42'],\n",
       " ['Angelina Jolie@Student@2023-11-11 07:17:40', '2023-11-11 07:17:40'],\n",
       " ['Angelina Jolie@Student@2023-11-11 16:16:32', '2023-11-11 16:16:32'],\n",
       " ['Angelina Jolie@Student@2023-11-11 07:17:45', '2023-11-11 07:17:45'],\n",
       " ['Angelina Jolie@Student@2023-11-11 16:33:17', '2023-11-11 16:33:17'],\n",
       " ['Angelina Jolie@Student@2023-11-11 07:23:48', '2023-11-11 07:23:48'],\n",
       " ['Angelina Jolie@Student@2023-11-11 16:28:37', '2023-11-11 16:28:37'],\n",
       " ['Angelina Jolie@Student@2023-11-11 07:23:12', '2023-11-11 07:23:12'],\n",
       " ['Angelina Jolie@Student@2023-11-11 15:34:48', '2023-11-11 15:34:48'],\n",
       " ['Angelina Jolie@Student@2023-11-11 08:18:48', '2023-11-11 08:18:48'],\n",
       " ['Angelina Jolie@Student@2023-11-11 16:26:54', '2023-11-11 16:26:54'],\n",
       " ['Chris Evans@Student@2023-11-11 08:26:37', '2023-11-11 08:26:37'],\n",
       " ['Chris Evans@Student@2023-11-11 15:27:20', '2023-11-11 15:27:20'],\n",
       " ['Chris Evans@Student@2023-11-11 08:18:19', '2023-11-11 08:18:19'],\n",
       " ['Chris Evans@Student@2023-11-11 16:35:02', '2023-11-11 16:35:02'],\n",
       " ['Chris Evans@Student@2023-11-11 08:15:29', '2023-11-11 08:15:29'],\n",
       " ['Chris Evans@Student@2023-11-11 16:31:09', '2023-11-11 16:31:09'],\n",
       " ['Chris Evans@Student@2023-11-11 08:13:08', '2023-11-11 08:13:08'],\n",
       " ['Chris Evans@Student@2023-11-11 16:28:16', '2023-11-11 16:28:16'],\n",
       " ['Chris Evans@Student@2023-11-11 09:13:53', '2023-11-11 09:13:53'],\n",
       " ['Chris Evans@Student@2023-11-11 16:35:03', '2023-11-11 16:35:03'],\n",
       " ['Chris Evans@Student@2023-11-11 08:23:20', '2023-11-11 08:23:20'],\n",
       " ['Chris Evans@Student@2023-11-11 16:32:10', '2023-11-11 16:32:10'],\n",
       " ['Chris Evans@Student@2023-11-11 08:30:46', '2023-11-11 08:30:46'],\n",
       " ['Chris Evans@Student@2023-11-11 16:30:15', '2023-11-11 16:30:15'],\n",
       " ['Scarlett Johansson@Student@2023-11-11 07:21:13', '2023-11-11 07:21:13'],\n",
       " ['Scarlett Johansson@Student@2023-11-11 15:24:38', '2023-11-11 15:24:38'],\n",
       " ['Scarlett Johansson@Student@2023-11-11 07:23:47', '2023-11-11 07:23:47'],\n",
       " ['Scarlett Johansson@Student@2023-11-11 16:22:50', '2023-11-11 16:22:50'],\n",
       " ['Scarlett Johansson@Student@2023-11-11 08:23:50', '2023-11-11 08:23:50'],\n",
       " ['Scarlett Johansson@Student@2023-11-11 16:28:35', '2023-11-11 16:28:35'],\n",
       " ['Scarlett Johansson@Student@2023-11-11 08:20:19', '2023-11-11 08:20:19'],\n",
       " ['Scarlett Johansson@Student@2023-11-11 16:23:08', '2023-11-11 16:23:08'],\n",
       " ['Scarlett Johansson@Student@2023-11-11 08:17:58', '2023-11-11 08:17:58'],\n",
       " ['Scarlett Johansson@Student@2023-11-11 16:29:03', '2023-11-11 16:29:03'],\n",
       " ['Scarlett Johansson@Student@2023-11-11 08:12:59', '2023-11-11 08:12:59'],\n",
       " ['Scarlett Johansson@Student@2023-11-11 16:26:47', '2023-11-11 16:26:47'],\n",
       " ['Scarlett Johansson@Student@2023-11-11 07:23:21', '2023-11-11 07:23:21'],\n",
       " ['Scarlett Johansson@Student@2023-11-11 16:34:44', '2023-11-11 16:34:44'],\n",
       " ['Barack Obama@Teacher@2023-11-11 08:23:39', '2023-11-11 08:23:39'],\n",
       " ['Barack Obama@Teacher@2023-11-11 17:27:19', '2023-11-11 17:27:19'],\n",
       " ['Barack Obama@Teacher@2023-11-11 08:12:06', '2023-11-11 08:12:06'],\n",
       " ['Barack Obama@Teacher@2023-11-11 14:22:50', '2023-11-11 14:22:50'],\n",
       " ['Barack Obama@Teacher@2023-11-11 08:16:11', '2023-11-11 08:16:11'],\n",
       " ['Barack Obama@Teacher@2023-11-11 16:28:57', '2023-11-11 16:28:57'],\n",
       " ['Barack Obama@Teacher@2023-11-11 08:27:24', '2023-11-11 08:27:24'],\n",
       " ['Barack Obama@Teacher@2023-11-11 16:22:44', '2023-11-11 16:22:44'],\n",
       " ['Barack Obama@Teacher@2023-11-11 09:13:21', '2023-11-11 09:13:21'],\n",
       " ['Barack Obama@Teacher@2023-11-11 16:29:57', '2023-11-11 16:29:57'],\n",
       " ['Barack Obama@Teacher@2023-11-11 09:16:27', '2023-11-11 09:16:27'],\n",
       " ['Barack Obama@Teacher@2023-11-11 16:37:39', '2023-11-11 16:37:39'],\n",
       " ['Barack Obama@Teacher@2023-11-11 08:22:13', '2023-11-11 08:22:13'],\n",
       " ['Barack Obama@Teacher@2023-11-11 16:18:05', '2023-11-11 16:18:05'],\n",
       " ['Barack Obama@Teacher@2023-11-11 08:27:45', '2023-11-11 08:27:45'],\n",
       " ['Barack Obama@Teacher@2023-11-11 17:28:43', '2023-11-11 17:28:43'],\n",
       " ['Barack Obama@Teacher@2023-11-11 08:14:07', '2023-11-11 08:14:07'],\n",
       " ['Barack Obama@Teacher@2023-11-11 16:36:43', '2023-11-11 16:36:43'],\n",
       " ['Morgan Freeman@Teacher@2023-11-11 09:21:05', '2023-11-11 09:21:05'],\n",
       " ['Morgan Freeman@Teacher@2023-11-11 16:22:25', '2023-11-11 16:22:25'],\n",
       " ['Morgan Freeman@Teacher@2023-11-11 08:21:04', '2023-11-11 08:21:04'],\n",
       " ['Morgan Freeman@Teacher@2023-11-11 16:34:54', '2023-11-11 16:34:54'],\n",
       " ['Morgan Freeman@Teacher@2023-11-11 08:19:53', '2023-11-11 08:19:53'],\n",
       " ['Morgan Freeman@Teacher@2023-11-11 16:26:26', '2023-11-11 16:26:26'],\n",
       " ['Morgan Freeman@Teacher@2023-11-11 09:28:12', '2023-11-11 09:28:12'],\n",
       " ['Morgan Freeman@Teacher@2023-11-11 16:37:44', '2023-11-11 16:37:44'],\n",
       " ['Morgan Freeman@Teacher@2023-11-11 08:19:33', '2023-11-11 08:19:33'],\n",
       " ['Morgan Freeman@Teacher@2023-11-11 16:25:44', '2023-11-11 16:25:44'],\n",
       " ['Morgan Freeman@Teacher@2023-11-11 08:26:19', '2023-11-11 08:26:19'],\n",
       " ['Morgan Freeman@Teacher@2023-11-11 16:34:50', '2023-11-11 16:34:50'],\n",
       " ['Sudheer@Student@2023-11-12 09:21:29', '2023-11-12 09:21:29'],\n",
       " ['Sudheer@Student@2023-11-12 16:35:39', '2023-11-12 16:35:39'],\n",
       " ['Sudheer@Student@2023-11-12 08:24:13', '2023-11-12 08:24:13'],\n",
       " ['Sudheer@Student@2023-11-12 16:36:51', '2023-11-12 16:36:51'],\n",
       " ['Sudheer@Student@2023-11-12 08:10:27', '2023-11-12 08:10:27'],\n",
       " ['Sudheer@Student@2023-11-12 16:35:29', '2023-11-12 16:35:29'],\n",
       " ['Angelina Jolie@Student@2023-11-12 08:32:46', '2023-11-12 08:32:46'],\n",
       " ['Angelina Jolie@Student@2023-11-12 16:39:55', '2023-11-12 16:39:55'],\n",
       " ['Angelina Jolie@Student@2023-11-12 08:24:18', '2023-11-12 08:24:18'],\n",
       " ['Angelina Jolie@Student@2023-11-12 16:30:23', '2023-11-12 16:30:23'],\n",
       " ['Angelina Jolie@Student@2023-11-12 08:19:19', '2023-11-12 08:19:19'],\n",
       " ['Angelina Jolie@Student@2023-11-12 16:30:30', '2023-11-12 16:30:30'],\n",
       " ['Angelina Jolie@Student@2023-11-12 08:15:19', '2023-11-12 08:15:19'],\n",
       " ['Angelina Jolie@Student@2023-11-12 16:32:32', '2023-11-12 16:32:32'],\n",
       " ['Angelina Jolie@Student@2023-11-12 08:19:15', '2023-11-12 08:19:15'],\n",
       " ['Angelina Jolie@Student@2023-11-12 16:22:45', '2023-11-12 16:22:45'],\n",
       " ['Angelina Jolie@Student@2023-11-12 08:20:22', '2023-11-12 08:20:22'],\n",
       " ['Angelina Jolie@Student@2023-11-12 16:35:06', '2023-11-12 16:35:06'],\n",
       " ['Angelina Jolie@Student@2023-11-12 09:12:15', '2023-11-12 09:12:15'],\n",
       " ['Angelina Jolie@Student@2023-11-12 17:28:16', '2023-11-12 17:28:16'],\n",
       " ['Angelina Jolie@Student@2023-11-12 08:21:55', '2023-11-12 08:21:55'],\n",
       " ['Angelina Jolie@Student@2023-11-12 16:30:44', '2023-11-12 16:30:44'],\n",
       " ['Angelina Jolie@Student@2023-11-12 08:16:45', '2023-11-12 08:16:45'],\n",
       " ['Angelina Jolie@Student@2023-11-12 16:20:26', '2023-11-12 16:20:26'],\n",
       " ['Chris Evans@Student@2023-11-12 08:20:54', '2023-11-12 08:20:54'],\n",
       " ['Chris Evans@Student@2023-11-12 16:25:01', '2023-11-12 16:25:01'],\n",
       " ['Chris Evans@Student@2023-11-12 08:13:28', '2023-11-12 08:13:28'],\n",
       " ['Chris Evans@Student@2023-11-12 16:22:06', '2023-11-12 16:22:06'],\n",
       " ['Scarlett Johansson@Student@2023-11-12 09:24:36', '2023-11-12 09:24:36'],\n",
       " ['Scarlett Johansson@Student@2023-11-12 16:34:24', '2023-11-12 16:34:24'],\n",
       " ['Scarlett Johansson@Student@2023-11-12 08:17:43', '2023-11-12 08:17:43'],\n",
       " ['Scarlett Johansson@Student@2023-11-12 16:30:52', '2023-11-12 16:30:52'],\n",
       " ['Barack Obama@Teacher@2023-11-12 08:31:34', '2023-11-12 08:31:34'],\n",
       " ['Barack Obama@Teacher@2023-11-12 16:27:46', '2023-11-12 16:27:46'],\n",
       " ['Barack Obama@Teacher@2023-11-12 08:21:34', '2023-11-12 08:21:34'],\n",
       " ['Barack Obama@Teacher@2023-11-12 16:26:44', '2023-11-12 16:26:44'],\n",
       " ['Barack Obama@Teacher@2023-11-12 08:06:46', '2023-11-12 08:06:46'],\n",
       " ['Barack Obama@Teacher@2023-11-12 17:27:36', '2023-11-12 17:27:36'],\n",
       " ['Barack Obama@Teacher@2023-11-12 08:27:16', '2023-11-12 08:27:16'],\n",
       " ['Barack Obama@Teacher@2023-11-12 16:29:44', '2023-11-12 16:29:44'],\n",
       " ['Barack Obama@Teacher@2023-11-12 08:21:51', '2023-11-12 08:21:51'],\n",
       " ['Barack Obama@Teacher@2023-11-12 16:26:31', '2023-11-12 16:26:31'],\n",
       " ['Barack Obama@Teacher@2023-11-12 08:21:12', '2023-11-12 08:21:12'],\n",
       " ['Barack Obama@Teacher@2023-11-12 16:24:56', '2023-11-12 16:24:56'],\n",
       " ['Barack Obama@Teacher@2023-11-12 08:10:35', '2023-11-12 08:10:35'],\n",
       " ['Barack Obama@Teacher@2023-11-12 16:32:58', '2023-11-12 16:32:58'],\n",
       " ['Barack Obama@Teacher@2023-11-12 07:19:21', '2023-11-12 07:19:21'],\n",
       " ['Barack Obama@Teacher@2023-11-12 16:30:37', '2023-11-12 16:30:37'],\n",
       " ['Morgan Freeman@Teacher@2023-11-12 08:10:43', '2023-11-12 08:10:43'],\n",
       " ['Morgan Freeman@Teacher@2023-11-12 16:27:37', '2023-11-12 16:27:37'],\n",
       " ['Morgan Freeman@Teacher@2023-11-12 09:14:54', '2023-11-12 09:14:54'],\n",
       " ['Morgan Freeman@Teacher@2023-11-12 16:20:53', '2023-11-12 16:20:53'],\n",
       " ['Morgan Freeman@Teacher@2023-11-12 07:16:21', '2023-11-12 07:16:21'],\n",
       " ['Morgan Freeman@Teacher@2023-11-12 16:33:24', '2023-11-12 16:33:24'],\n",
       " ['Morgan Freeman@Teacher@2023-11-12 08:12:56', '2023-11-12 08:12:56'],\n",
       " ['Morgan Freeman@Teacher@2023-11-12 16:29:52', '2023-11-12 16:29:52'],\n",
       " ['Morgan Freeman@Teacher@2023-11-12 09:23:18', '2023-11-12 09:23:18'],\n",
       " ['Morgan Freeman@Teacher@2023-11-12 16:39:43', '2023-11-12 16:39:43'],\n",
       " ['Morgan Freeman@Teacher@2023-11-12 08:18:07', '2023-11-12 08:18:07'],\n",
       " ['Morgan Freeman@Teacher@2023-11-12 16:37:38', '2023-11-12 16:37:38'],\n",
       " ['Morgan Freeman@Teacher@2023-11-12 08:14:58', '2023-11-12 08:14:58'],\n",
       " ['Morgan Freeman@Teacher@2023-11-12 16:28:51', '2023-11-12 16:28:51'],\n",
       " ['Sudheer@Student@2023-11-13 07:25:04', '2023-11-13 07:25:04'],\n",
       " ['Sudheer@Student@2023-11-13 16:34:13', '2023-11-13 16:34:13'],\n",
       " ['Sudheer@Student@2023-11-13 08:25:30', '2023-11-13 08:25:30'],\n",
       " ['Sudheer@Student@2023-11-13 16:39:36', '2023-11-13 16:39:36'],\n",
       " ['Sudheer@Student@2023-11-13 08:20:12', '2023-11-13 08:20:12'],\n",
       " ['Sudheer@Student@2023-11-13 16:26:14', '2023-11-13 16:26:14'],\n",
       " ['Sudheer@Student@2023-11-13 08:21:43', '2023-11-13 08:21:43'],\n",
       " ['Sudheer@Student@2023-11-13 16:21:58', '2023-11-13 16:21:58'],\n",
       " ['Angelina Jolie@Student@2023-11-13 08:20:06', '2023-11-13 08:20:06'],\n",
       " ['Angelina Jolie@Student@2023-11-13 16:34:23', '2023-11-13 16:34:23'],\n",
       " ['Angelina Jolie@Student@2023-11-13 09:26:32', '2023-11-13 09:26:32'],\n",
       " ['Angelina Jolie@Student@2023-11-13 16:24:15', '2023-11-13 16:24:15'],\n",
       " ['Angelina Jolie@Student@2023-11-13 08:23:22', '2023-11-13 08:23:22'],\n",
       " ['Angelina Jolie@Student@2023-11-13 16:29:59', '2023-11-13 16:29:59'],\n",
       " ['Angelina Jolie@Student@2023-11-13 08:15:43', '2023-11-13 08:15:43'],\n",
       " ['Angelina Jolie@Student@2023-11-13 16:20:35', '2023-11-13 16:20:35'],\n",
       " ['Chris Evans@Student@2023-11-13 07:24:13', '2023-11-13 07:24:13'],\n",
       " ['Chris Evans@Student@2023-11-13 16:38:41', '2023-11-13 16:38:41'],\n",
       " ['Scarlett Johansson@Student@2023-11-13 08:28:59', '2023-11-13 08:28:59'],\n",
       " ['Scarlett Johansson@Student@2023-11-13 16:34:13', '2023-11-13 16:34:13'],\n",
       " ['Scarlett Johansson@Student@2023-11-13 09:18:02', '2023-11-13 09:18:02'],\n",
       " ['Scarlett Johansson@Student@2023-11-13 16:33:49', '2023-11-13 16:33:49'],\n",
       " ['Scarlett Johansson@Student@2023-11-13 08:16:03', '2023-11-13 08:16:03'],\n",
       " ['Scarlett Johansson@Student@2023-11-13 16:44:26', '2023-11-13 16:44:26'],\n",
       " ['Barack Obama@Teacher@2023-11-13 08:28:02', '2023-11-13 08:28:02'],\n",
       " ['Barack Obama@Teacher@2023-11-13 16:33:59', '2023-11-13 16:33:59'],\n",
       " ['Barack Obama@Teacher@2023-11-13 08:17:28', '2023-11-13 08:17:28'],\n",
       " ['Barack Obama@Teacher@2023-11-13 15:33:23', '2023-11-13 15:33:23'],\n",
       " ['Barack Obama@Teacher@2023-11-13 08:18:52', '2023-11-13 08:18:52'],\n",
       " ['Barack Obama@Teacher@2023-11-13 16:33:13', '2023-11-13 16:33:13'],\n",
       " ['Morgan Freeman@Teacher@2023-11-13 07:15:39', '2023-11-13 07:15:39'],\n",
       " ['Morgan Freeman@Teacher@2023-11-13 16:23:47', '2023-11-13 16:23:47'],\n",
       " ['Morgan Freeman@Teacher@2023-11-13 07:14:44', '2023-11-13 07:14:44'],\n",
       " ['Morgan Freeman@Teacher@2023-11-13 16:33:07', '2023-11-13 16:33:07'],\n",
       " ['Morgan Freeman@Teacher@2023-11-13 08:22:57', '2023-11-13 08:22:57'],\n",
       " ['Morgan Freeman@Teacher@2023-11-13 16:39:47', '2023-11-13 16:39:47'],\n",
       " ['Morgan Freeman@Teacher@2023-11-13 08:17:14', '2023-11-13 08:17:14'],\n",
       " ['Morgan Freeman@Teacher@2023-11-13 16:28:13', '2023-11-13 16:28:13'],\n",
       " ['Morgan Freeman@Teacher@2023-11-13 07:20:54', '2023-11-13 07:20:54'],\n",
       " ['Morgan Freeman@Teacher@2023-11-13 16:32:59', '2023-11-13 16:32:59'],\n",
       " ['Morgan Freeman@Teacher@2023-11-13 07:15:52', '2023-11-13 07:15:52'],\n",
       " ['Morgan Freeman@Teacher@2023-11-13 16:24:13', '2023-11-13 16:24:13'],\n",
       " ['Morgan Freeman@Teacher@2023-11-13 08:23:33', '2023-11-13 08:23:33'],\n",
       " ['Morgan Freeman@Teacher@2023-11-13 16:26:41', '2023-11-13 16:26:41'],\n",
       " ['Sudheer@Student@2023-11-14 08:21:16', '2023-11-14 08:21:16'],\n",
       " ['Sudheer@Student@2023-11-14 16:23:14', '2023-11-14 16:23:14'],\n",
       " ...]"
      ]
     },
     "execution_count": 26,
     "metadata": {},
     "output_type": "execute_result"
    }
   ],
   "source": [
    "logs_list"
   ]
  },
  {
   "cell_type": "code",
   "execution_count": 27,
   "metadata": {
    "ExecuteTime": {
     "end_time": "2024-01-17T05:07:05.436604500Z",
     "start_time": "2024-01-17T05:07:05.389567100Z"
    },
    "collapsed": false,
    "jupyter": {
     "outputs_hidden": false
    }
   },
   "outputs": [],
   "source": [
    "logs_df = pd.DataFrame(logs_list,columns=['logs','dt'])"
   ]
  },
  {
   "cell_type": "code",
   "execution_count": 28,
   "metadata": {
    "ExecuteTime": {
     "end_time": "2024-01-17T05:07:05.925396200Z",
     "start_time": "2024-01-17T05:07:05.837088600Z"
    },
    "collapsed": false,
    "jupyter": {
     "outputs_hidden": false
    }
   },
   "outputs": [],
   "source": [
    "logs_df['dt'] = pd.to_datetime((logs_df['dt']))"
   ]
  },
  {
   "cell_type": "code",
   "execution_count": 29,
   "metadata": {
    "ExecuteTime": {
     "end_time": "2024-01-17T05:07:08.944394100Z",
     "start_time": "2024-01-17T05:07:08.928314400Z"
    },
    "collapsed": false,
    "jupyter": {
     "outputs_hidden": false
    }
   },
   "outputs": [],
   "source": [
    "logs_df['day_name'] = logs_df['dt'].dt.day_name()"
   ]
  },
  {
   "cell_type": "code",
   "execution_count": 30,
   "metadata": {
    "ExecuteTime": {
     "end_time": "2024-01-17T05:07:09.316367400Z",
     "start_time": "2024-01-17T05:07:09.222528400Z"
    },
    "collapsed": false,
    "jupyter": {
     "outputs_hidden": false
    }
   },
   "outputs": [],
   "source": [
    "logs_df_1 = logs_df.query('day_name  not in (\"Sunday\", \"Saturday\")')"
   ]
  },
  {
   "cell_type": "code",
   "execution_count": 31,
   "metadata": {
    "ExecuteTime": {
     "end_time": "2024-01-17T05:07:09.562371100Z",
     "start_time": "2024-01-17T05:07:09.442995600Z"
    },
    "collapsed": false,
    "jupyter": {
     "outputs_hidden": false
    }
   },
   "outputs": [
    {
     "data": {
      "text/plain": [
       "array(['Wednesday', 'Thursday', 'Friday', 'Saturday', 'Sunday', 'Monday',\n",
       "       'Tuesday'], dtype=object)"
      ]
     },
     "execution_count": 31,
     "metadata": {},
     "output_type": "execute_result"
    }
   ],
   "source": [
    "logs_df['day_name'].unique()"
   ]
  },
  {
   "cell_type": "code",
   "execution_count": 32,
   "metadata": {
    "ExecuteTime": {
     "end_time": "2024-01-17T05:07:11.828010800Z",
     "start_time": "2024-01-17T05:07:11.765029800Z"
    },
    "collapsed": false,
    "jupyter": {
     "outputs_hidden": false
    }
   },
   "outputs": [
    {
     "name": "stderr",
     "output_type": "stream",
     "text": [
      "C:\\Users\\vividpath\\AppData\\Local\\Temp\\ipykernel_3536\\2539149735.py:1: SettingWithCopyWarning: \n",
      "A value is trying to be set on a copy of a slice from a DataFrame.\n",
      "Try using .loc[row_indexer,col_indexer] = value instead\n",
      "\n",
      "See the caveats in the documentation: https://pandas.pydata.org/pandas-docs/stable/user_guide/indexing.html#returning-a-view-versus-a-copy\n",
      "  logs_df_1['date'] = logs_df_1['dt'].dt.date\n"
     ]
    }
   ],
   "source": [
    "logs_df_1['date'] = logs_df_1['dt'].dt.date"
   ]
  },
  {
   "cell_type": "code",
   "execution_count": 33,
   "metadata": {
    "ExecuteTime": {
     "end_time": "2024-01-17T05:07:12.047921500Z",
     "start_time": "2024-01-17T05:07:12.000848900Z"
    },
    "collapsed": false,
    "jupyter": {
     "outputs_hidden": false
    }
   },
   "outputs": [
    {
     "name": "stderr",
     "output_type": "stream",
     "text": [
      "C:\\Users\\vividpath\\AppData\\Local\\Temp\\ipykernel_3536\\3306348753.py:1: SettingWithCopyWarning: \n",
      "A value is trying to be set on a copy of a slice from a DataFrame.\n",
      "Try using .loc[row_indexer,col_indexer] = value instead\n",
      "\n",
      "See the caveats in the documentation: https://pandas.pydata.org/pandas-docs/stable/user_guide/indexing.html#returning-a-view-versus-a-copy\n",
      "  logs_df_1['name'] = logs_df_1['logs'].apply(lambda x: x.split('@')[0])\n"
     ]
    }
   ],
   "source": [
    "logs_df_1['name'] = logs_df_1['logs'].apply(lambda x: x.split('@')[0])"
   ]
  },
  {
   "cell_type": "code",
   "execution_count": 34,
   "metadata": {
    "ExecuteTime": {
     "end_time": "2024-01-17T05:07:12.366792700Z",
     "start_time": "2024-01-17T05:07:12.302347400Z"
    },
    "collapsed": false,
    "jupyter": {
     "outputs_hidden": false
    }
   },
   "outputs": [],
   "source": [
    "logs_name_date = logs_df_1[['name','date']].drop_duplicates()"
   ]
  },
  {
   "cell_type": "code",
   "execution_count": 35,
   "metadata": {
    "ExecuteTime": {
     "end_time": "2024-01-17T05:07:15.263330Z",
     "start_time": "2024-01-17T05:07:15.232287500Z"
    },
    "collapsed": false,
    "jupyter": {
     "outputs_hidden": false
    }
   },
   "outputs": [],
   "source": [
    "logs_name_date['rand1'] = np.random.randint(0,10,len(logs_name_date))"
   ]
  },
  {
   "cell_type": "code",
   "execution_count": 36,
   "metadata": {
    "ExecuteTime": {
     "end_time": "2024-01-17T05:07:15.563254800Z",
     "start_time": "2024-01-17T05:07:15.500321200Z"
    },
    "collapsed": false,
    "jupyter": {
     "outputs_hidden": false
    }
   },
   "outputs": [],
   "source": [
    "logs_name_date1 = logs_name_date.query('rand1 not in (0,1,2)')"
   ]
  },
  {
   "cell_type": "code",
   "execution_count": 37,
   "metadata": {
    "ExecuteTime": {
     "end_time": "2024-01-17T05:07:17.855149900Z",
     "start_time": "2024-01-17T05:07:17.759804400Z"
    },
    "collapsed": false,
    "jupyter": {
     "outputs_hidden": false
    }
   },
   "outputs": [],
   "source": [
    "logs_df_sim = pd.merge(logs_df_1, logs_name_date1, on = ['name','date'])"
   ]
  },
  {
   "cell_type": "code",
   "execution_count": 38,
   "metadata": {
    "ExecuteTime": {
     "end_time": "2024-01-17T05:07:20.197507900Z",
     "start_time": "2024-01-17T05:07:20.166035800Z"
    },
    "collapsed": false,
    "jupyter": {
     "outputs_hidden": false
    }
   },
   "outputs": [],
   "source": [
    "encoded_logs = logs_df_sim['logs'].values.tolist()"
   ]
  },
  {
   "cell_type": "code",
   "execution_count": 41,
   "metadata": {
    "ExecuteTime": {
     "end_time": "2024-01-17T05:07:47.764949Z",
     "start_time": "2024-01-17T05:07:47.749310100Z"
    },
    "collapsed": false,
    "jupyter": {
     "outputs_hidden": false
    }
   },
   "outputs": [],
   "source": [
    "text = \"\\n\".join(encoded_logs)"
   ]
  },
  {
   "cell_type": "code",
   "execution_count": 42,
   "metadata": {
    "ExecuteTime": {
     "end_time": "2024-01-17T05:08:30.659574100Z",
     "start_time": "2024-01-17T05:08:30.612459800Z"
    },
    "collapsed": false,
    "jupyter": {
     "outputs_hidden": false
    }
   },
   "outputs": [],
   "source": [
    "with open('simulated_logs.txt',mode='w') as f:\n",
    "    f.write(text)"
   ]
  },
  {
   "cell_type": "code",
   "execution_count": null,
   "metadata": {
    "collapsed": false,
    "jupyter": {
     "outputs_hidden": false
    }
   },
   "outputs": [],
   "source": []
  },
  {
   "cell_type": "code",
   "execution_count": null,
   "metadata": {
    "collapsed": false,
    "jupyter": {
     "outputs_hidden": false
    }
   },
   "outputs": [],
   "source": []
  },
  {
   "cell_type": "code",
   "execution_count": 228,
   "metadata": {
    "ExecuteTime": {
     "end_time": "2024-01-15T15:26:56.493623200Z",
     "start_time": "2024-01-15T15:26:55.176638600Z"
    },
    "collapsed": false,
    "jupyter": {
     "outputs_hidden": false
    }
   },
   "outputs": [
    {
     "data": {
      "text/plain": [
       "1"
      ]
     },
     "execution_count": 228,
     "metadata": {},
     "output_type": "execute_result"
    }
   ],
   "source": [
    "# Connect to Redis Client\n",
    "hostname = 'provide host name'\n",
    "portnumber = 'provide port number'\n",
    "password = 'enter the password'\n",
    "\n",
    "r = redis.StrictRedis(host=hostname,\n",
    "                      port=portnumber,\n",
    "                      password=password)\n",
    "\n",
    "# Simulated Logs\n",
    "with open('simulated_logs.txt','r') as f:\n",
    "    logs_text = f.read()\n",
    "\n",
    "encoded_logs = logs_text.split('\\n')\n",
    "\n",
    "# Push into Redis database\n",
    "r.lpush('attendance:logs',*encoded_logs)"
   ]
  },
  {
   "cell_type": "code",
   "execution_count": 43,
   "metadata": {
    "ExecuteTime": {
     "end_time": "2024-01-17T05:10:32.944386200Z",
     "start_time": "2024-01-17T05:10:32.928718300Z"
    },
    "collapsed": false,
    "jupyter": {
     "outputs_hidden": false
    }
   },
   "outputs": [],
   "source": []
  },
  {
   "cell_type": "code",
   "execution_count": null,
   "metadata": {
    "collapsed": false,
    "jupyter": {
     "outputs_hidden": false
    }
   },
   "outputs": [],
   "source": []
  },
  {
   "cell_type": "code",
   "execution_count": null,
   "metadata": {
    "collapsed": false,
    "jupyter": {
     "outputs_hidden": false
    }
   },
   "outputs": [],
   "source": []
  },
  {
   "cell_type": "code",
   "execution_count": 229,
   "metadata": {
    "ExecuteTime": {
     "end_time": "2024-01-15T15:27:46.983464Z",
     "start_time": "2024-01-15T15:27:46.046574800Z"
    },
    "collapsed": false,
    "jupyter": {
     "outputs_hidden": false
    }
   },
   "outputs": [
    {
     "data": {
      "text/plain": [
       "2946"
      ]
     },
     "execution_count": 229,
     "metadata": {},
     "output_type": "execute_result"
    }
   ],
   "source": []
  },
  {
   "cell_type": "code",
   "execution_count": null,
   "metadata": {
    "collapsed": false,
    "jupyter": {
     "outputs_hidden": false
    }
   },
   "outputs": [],
   "source": []
  }
 ],
 "metadata": {
  "kernelspec": {
   "display_name": "Python 3 (ipykernel)",
   "language": "python",
   "name": "python3"
  },
  "language_info": {
   "codemirror_mode": {
    "name": "ipython",
    "version": 3
   },
   "file_extension": ".py",
   "mimetype": "text/x-python",
   "name": "python",
   "nbconvert_exporter": "python",
   "pygments_lexer": "ipython3",
   "version": "3.11.6"
  }
 },
 "nbformat": 4,
 "nbformat_minor": 4
}
